{
  "nbformat": 4,
  "nbformat_minor": 0,
  "metadata": {
    "colab": {
      "name": "CW5_Word2Vec_J015_19/12.ipynb",
      "provenance": [],
      "include_colab_link": true
    },
    "kernelspec": {
      "name": "python3",
      "display_name": "Python 3"
    }
  },
  "cells": [
    {
      "cell_type": "markdown",
      "metadata": {
        "id": "view-in-github",
        "colab_type": "text"
      },
      "source": [
        "<a href=\"https://colab.research.google.com/github/SakshiGehani/J015_NLPassignments/blob/ClassWork/CW5_Word2Vec_J015_19_12.ipynb\" target=\"_parent\"><img src=\"https://colab.research.google.com/assets/colab-badge.svg\" alt=\"Open In Colab\"/></a>"
      ]
    },
    {
      "cell_type": "code",
      "metadata": {
        "id": "JGH_VwsGT8Mt",
        "colab_type": "code",
        "colab": {}
      },
      "source": [
        "import pandas as pd"
      ],
      "execution_count": 0,
      "outputs": []
    },
    {
      "cell_type": "code",
      "metadata": {
        "id": "NyjQlBiPUVwc",
        "colab_type": "code",
        "outputId": "fe53e3a3-122d-45b4-bc30-1cda351a5dfc",
        "colab": {
          "base_uri": "https://localhost:8080/",
          "height": 284
        }
      },
      "source": [
        "amazon = pd.read_json(\"http://snap.stanford.edu/data/amazon/productGraph/categoryFiles/reviews_Office_Products_5.json.gz\", lines=True)\n",
        "amazon.head()"
      ],
      "execution_count": 2,
      "outputs": [
        {
          "output_type": "execute_result",
          "data": {
            "text/html": [
              "<div>\n",
              "<style scoped>\n",
              "    .dataframe tbody tr th:only-of-type {\n",
              "        vertical-align: middle;\n",
              "    }\n",
              "\n",
              "    .dataframe tbody tr th {\n",
              "        vertical-align: top;\n",
              "    }\n",
              "\n",
              "    .dataframe thead th {\n",
              "        text-align: right;\n",
              "    }\n",
              "</style>\n",
              "<table border=\"1\" class=\"dataframe\">\n",
              "  <thead>\n",
              "    <tr style=\"text-align: right;\">\n",
              "      <th></th>\n",
              "      <th>reviewerID</th>\n",
              "      <th>asin</th>\n",
              "      <th>reviewerName</th>\n",
              "      <th>helpful</th>\n",
              "      <th>reviewText</th>\n",
              "      <th>overall</th>\n",
              "      <th>summary</th>\n",
              "      <th>unixReviewTime</th>\n",
              "      <th>reviewTime</th>\n",
              "    </tr>\n",
              "  </thead>\n",
              "  <tbody>\n",
              "    <tr>\n",
              "      <th>0</th>\n",
              "      <td>A32T2H8150OJLU</td>\n",
              "      <td>B00000JBLH</td>\n",
              "      <td>ARH</td>\n",
              "      <td>[3, 4]</td>\n",
              "      <td>I bought my first HP12C in about 1984 or so, a...</td>\n",
              "      <td>5</td>\n",
              "      <td>A solid performer, and long time friend</td>\n",
              "      <td>1094169600</td>\n",
              "      <td>09 3, 2004</td>\n",
              "    </tr>\n",
              "    <tr>\n",
              "      <th>1</th>\n",
              "      <td>A3MAFS04ZABRGO</td>\n",
              "      <td>B00000JBLH</td>\n",
              "      <td>Let it Be \"Alan\"</td>\n",
              "      <td>[7, 9]</td>\n",
              "      <td>WHY THIS BELATED REVIEW? I feel very obliged t...</td>\n",
              "      <td>5</td>\n",
              "      <td>Price of GOLD is up, so don't bury the golden ...</td>\n",
              "      <td>1197676800</td>\n",
              "      <td>12 15, 2007</td>\n",
              "    </tr>\n",
              "    <tr>\n",
              "      <th>2</th>\n",
              "      <td>A1F1A0QQP2XVH5</td>\n",
              "      <td>B00000JBLH</td>\n",
              "      <td>Mark B</td>\n",
              "      <td>[3, 3]</td>\n",
              "      <td>I have an HP 48GX that has been kicking for mo...</td>\n",
              "      <td>2</td>\n",
              "      <td>Good functionality, but not durable like old HPs</td>\n",
              "      <td>1293840000</td>\n",
              "      <td>01 1, 2011</td>\n",
              "    </tr>\n",
              "    <tr>\n",
              "      <th>3</th>\n",
              "      <td>A49R5DBXXQDE5</td>\n",
              "      <td>B00000JBLH</td>\n",
              "      <td>R. D Johnson</td>\n",
              "      <td>[7, 8]</td>\n",
              "      <td>I've started doing more finance stuff recently...</td>\n",
              "      <td>5</td>\n",
              "      <td>One of the last of an almost extinct species</td>\n",
              "      <td>1145404800</td>\n",
              "      <td>04 19, 2006</td>\n",
              "    </tr>\n",
              "    <tr>\n",
              "      <th>4</th>\n",
              "      <td>A2XRMQA6PJ5ZJ8</td>\n",
              "      <td>B00000JBLH</td>\n",
              "      <td>Roger J. Buffington</td>\n",
              "      <td>[0, 0]</td>\n",
              "      <td>For simple calculations and discounted cash fl...</td>\n",
              "      <td>5</td>\n",
              "      <td>Still the best</td>\n",
              "      <td>1375574400</td>\n",
              "      <td>08 4, 2013</td>\n",
              "    </tr>\n",
              "  </tbody>\n",
              "</table>\n",
              "</div>"
            ],
            "text/plain": [
              "       reviewerID        asin  ... unixReviewTime   reviewTime\n",
              "0  A32T2H8150OJLU  B00000JBLH  ...     1094169600   09 3, 2004\n",
              "1  A3MAFS04ZABRGO  B00000JBLH  ...     1197676800  12 15, 2007\n",
              "2  A1F1A0QQP2XVH5  B00000JBLH  ...     1293840000   01 1, 2011\n",
              "3   A49R5DBXXQDE5  B00000JBLH  ...     1145404800  04 19, 2006\n",
              "4  A2XRMQA6PJ5ZJ8  B00000JBLH  ...     1375574400   08 4, 2013\n",
              "\n",
              "[5 rows x 9 columns]"
            ]
          },
          "metadata": {
            "tags": []
          },
          "execution_count": 2
        }
      ]
    },
    {
      "cell_type": "code",
      "metadata": {
        "id": "9QJLfrxSVLHI",
        "colab_type": "code",
        "colab": {}
      },
      "source": [
        "import gensim.downloader as api"
      ],
      "execution_count": 0,
      "outputs": []
    },
    {
      "cell_type": "code",
      "metadata": {
        "id": "1EKjBW1zWKUW",
        "colab_type": "code",
        "colab": {}
      },
      "source": [
        "corpus = api.load('text8')"
      ],
      "execution_count": 0,
      "outputs": []
    },
    {
      "cell_type": "code",
      "metadata": {
        "id": "mdk7hfyrWR2d",
        "colab_type": "code",
        "colab": {
          "base_uri": "https://localhost:8080/",
          "height": 141
        },
        "outputId": "8f0189b4-a378-4687-b516-f3fd7a583274"
      },
      "source": [
        "!pip install Word2Vec"
      ],
      "execution_count": 5,
      "outputs": [
        {
          "output_type": "stream",
          "text": [
            "Requirement already satisfied: Word2Vec in /usr/local/lib/python3.6/dist-packages (0.10.2)\n",
            "Requirement already satisfied: cython in /usr/local/lib/python3.6/dist-packages (from Word2Vec) (0.29.14)\n",
            "Requirement already satisfied: six in /usr/local/lib/python3.6/dist-packages (from Word2Vec) (1.12.0)\n",
            "Requirement already satisfied: scipy in /usr/local/lib/python3.6/dist-packages (from Word2Vec) (1.3.3)\n",
            "Requirement already satisfied: numpy>=1.9.2 in /usr/local/lib/python3.6/dist-packages (from Word2Vec) (1.17.4)\n",
            "Requirement already satisfied: scikit-learn in /usr/local/lib/python3.6/dist-packages (from Word2Vec) (0.21.3)\n",
            "Requirement already satisfied: joblib>=0.11 in /usr/local/lib/python3.6/dist-packages (from scikit-learn->Word2Vec) (0.14.1)\n"
          ],
          "name": "stdout"
        }
      ]
    },
    {
      "cell_type": "code",
      "metadata": {
        "id": "Fy-QJqOnWapD",
        "colab_type": "code",
        "colab": {
          "base_uri": "https://localhost:8080/",
          "height": 72
        },
        "outputId": "07c0c475-2328-4be1-a80d-4b4647573506"
      },
      "source": [
        "from gensim.test.utils import common_texts, get_tmpfile\n",
        "from gensim.models import Word2Vec\n",
        "\n",
        "path = get_tmpfile(\"word2vec.model\")\n",
        "model = Word2Vec(common_texts, size=100, window=5, min_count=1, workers=4, iter=10)\n",
        "model.save(\"word2vec.model\")"
      ],
      "execution_count": 6,
      "outputs": [
        {
          "output_type": "stream",
          "text": [
            "/usr/local/lib/python3.6/dist-packages/smart_open/smart_open_lib.py:402: UserWarning: This function is deprecated, use smart_open.open instead. See the migration notes for details: https://github.com/RaRe-Technologies/smart_open/blob/master/README.rst#migrating-to-the-new-open-function\n",
            "  'See the migration notes for details: %s' % _MIGRATION_NOTES_URL\n"
          ],
          "name": "stderr"
        }
      ]
    },
    {
      "cell_type": "markdown",
      "metadata": {
        "id": "CpphjY3CYJDd",
        "colab_type": "text"
      },
      "source": [
        "RevText clm-> remove stop words(punc,articles,conjunctions)-> remove duplicates->list of unique words->combination(itertools)[with repetition] i.e pairs of 2 -->gives tuple ;convert to dataframe  -> wv.similarity (pass word1,word2 of combinations)-> gives similarity score"
      ]
    },
    {
      "cell_type": "code",
      "metadata": {
        "id": "WoUUaHo_W7bO",
        "colab_type": "code",
        "colab": {
          "base_uri": "https://localhost:8080/",
          "height": 105
        },
        "outputId": "035177f8-efd3-44ee-b56e-9f92111a746c"
      },
      "source": [
        "import nltk\n",
        "nltk.download('punkt')\n",
        "nltk.download('stopwords')\n",
        "from nltk.corpus import stopwords\n",
        "from nltk.tokenize import word_tokenize\n",
        "\n",
        "#example_sent = \"This is a sample sentence, showing off the stop words filtration.\"\n",
        "sentence = amazon.reviewText[0]     ## take the first row/string of reviewText column\n",
        "\n",
        "stop_words = set(stopwords.words('english'))\n",
        "\n",
        "word_tokens = word_tokenize(sentence.lower())     # convert string to list of words\n",
        "\n",
        "filtered_sentence = [w for w in word_tokens if not w in stop_words]     # eliminate stop words\n",
        "\n",
        "'''filtered_sentence = []\n",
        "for w in word_tokens:\n",
        "    if w not in stop_words:\n",
        "        filtered_sentence.append(w)'''"
      ],
      "execution_count": 7,
      "outputs": [
        {
          "output_type": "stream",
          "text": [
            "[nltk_data] Downloading package punkt to /root/nltk_data...\n",
            "[nltk_data]   Package punkt is already up-to-date!\n",
            "[nltk_data] Downloading package stopwords to /root/nltk_data...\n",
            "[nltk_data]   Package stopwords is already up-to-date!\n"
          ],
          "name": "stdout"
        },
        {
          "output_type": "execute_result",
          "data": {
            "text/plain": [
              "'filtered_sentence = []\\nfor w in word_tokens:\\n    if w not in stop_words:\\n        filtered_sentence.append(w)'"
            ]
          },
          "metadata": {
            "tags": []
          },
          "execution_count": 7
        }
      ]
    },
    {
      "cell_type": "code",
      "metadata": {
        "id": "zMt_P9ZsbPhC",
        "colab_type": "code",
        "colab": {
          "base_uri": "https://localhost:8080/",
          "height": 55
        },
        "outputId": "4f7bbc7e-34f4-4a13-bf08-3d6331140cf0"
      },
      "source": [
        "print(filtered_sentence)"
      ],
      "execution_count": 8,
      "outputs": [
        {
          "output_type": "stream",
          "text": [
            "['bought', 'first', 'hp12c', '1984', ',', 'served', 'faithfully', '2002', 'lost', 'travelling', '.', 'searched', 'another', 'one', 'replace', ',', 'found', 'one', 'difficult', 'come', 'area', '.', ',', 'decided', 'buy', 'purchased', 'hp', '49g', '.', 'mistake', '!', 'know', 'many', 'people', 'view', 'hp', '49g', '(', '49g+', ')', 'flagship', 'hp', 'line', ',', 'disaster.the', '49g', 'may', 'powerful', ',', 'using', 'extremely', 'counterintuitive', '...', 'manual', 'sketchy', 'best', '.', '12c', ',', 'hand', ',', 'need', 'way', 'makes', 'good', 'sense', 'me.if', 'looking', 'solid', ',', 'reliable', 'calculator', ',', 'hp12c', 'may', '.', \"'s\", 'programmable', '.', 'basic', 'statistics', 'well', ',', 'many', 'business', 'applications', '.', 'manual', 'makes', 'sense', ';', 'running', 'short', 'order.i', \"'m\", 'ready', 'set', '49g', 'aside', 'move', 'back', 'old', 'friend', '.', \"n't\", 'even', 'replace', 'batteries', 'well', 'decade', 'use', '!', 'hp', '12c', ',', \"'m\", 'coming', 'home', '!']\n"
          ],
          "name": "stdout"
        }
      ]
    },
    {
      "cell_type": "code",
      "metadata": {
        "id": "EizSvIICDk8T",
        "colab_type": "code",
        "colab": {
          "base_uri": "https://localhost:8080/",
          "height": 55
        },
        "outputId": "8ab40082-cfb2-4db8-d23f-c0c2976b087a"
      },
      "source": [
        "import re\n",
        "def remove_digits(list): \n",
        "    pattern = '[0-9]'\n",
        "    list = [re.sub(pattern, '', i) for i in list]           ## remove digits from string\n",
        "    return list\n",
        "\n",
        "filtered_sentence = remove_digits(filtered_sentence)\n",
        "print(filtered_sentence)"
      ],
      "execution_count": 9,
      "outputs": [
        {
          "output_type": "stream",
          "text": [
            "['bought', 'first', 'hpc', '', ',', 'served', 'faithfully', '', 'lost', 'travelling', '.', 'searched', 'another', 'one', 'replace', ',', 'found', 'one', 'difficult', 'come', 'area', '.', ',', 'decided', 'buy', 'purchased', 'hp', 'g', '.', 'mistake', '!', 'know', 'many', 'people', 'view', 'hp', 'g', '(', 'g+', ')', 'flagship', 'hp', 'line', ',', 'disaster.the', 'g', 'may', 'powerful', ',', 'using', 'extremely', 'counterintuitive', '...', 'manual', 'sketchy', 'best', '.', 'c', ',', 'hand', ',', 'need', 'way', 'makes', 'good', 'sense', 'me.if', 'looking', 'solid', ',', 'reliable', 'calculator', ',', 'hpc', 'may', '.', \"'s\", 'programmable', '.', 'basic', 'statistics', 'well', ',', 'many', 'business', 'applications', '.', 'manual', 'makes', 'sense', ';', 'running', 'short', 'order.i', \"'m\", 'ready', 'set', 'g', 'aside', 'move', 'back', 'old', 'friend', '.', \"n't\", 'even', 'replace', 'batteries', 'well', 'decade', 'use', '!', 'hp', 'c', ',', \"'m\", 'coming', 'home', '!']\n"
          ],
          "name": "stdout"
        }
      ]
    },
    {
      "cell_type": "code",
      "metadata": {
        "id": "B76iQ0NsluoK",
        "colab_type": "code",
        "colab": {
          "base_uri": "https://localhost:8080/",
          "height": 55
        },
        "outputId": "319fc6a8-69b8-40ab-d624-f85c81a263f3"
      },
      "source": [
        "punctuations = ['',',', '.', ':', ';', '-', '?', '!', '\"', \"'\", '[', ']', '{', '}', '|', '/', '<', '>']\n",
        "new_filtered = [w for w in filtered_sentence if not w in punctuations]      # eliminate white spaces and punctuation marks\n",
        "print(new_filtered)"
      ],
      "execution_count": 10,
      "outputs": [
        {
          "output_type": "stream",
          "text": [
            "['bought', 'first', 'hpc', 'served', 'faithfully', 'lost', 'travelling', 'searched', 'another', 'one', 'replace', 'found', 'one', 'difficult', 'come', 'area', 'decided', 'buy', 'purchased', 'hp', 'g', 'mistake', 'know', 'many', 'people', 'view', 'hp', 'g', '(', 'g+', ')', 'flagship', 'hp', 'line', 'disaster.the', 'g', 'may', 'powerful', 'using', 'extremely', 'counterintuitive', '...', 'manual', 'sketchy', 'best', 'c', 'hand', 'need', 'way', 'makes', 'good', 'sense', 'me.if', 'looking', 'solid', 'reliable', 'calculator', 'hpc', 'may', \"'s\", 'programmable', 'basic', 'statistics', 'well', 'many', 'business', 'applications', 'manual', 'makes', 'sense', 'running', 'short', 'order.i', \"'m\", 'ready', 'set', 'g', 'aside', 'move', 'back', 'old', 'friend', \"n't\", 'even', 'replace', 'batteries', 'well', 'decade', 'use', 'hp', 'c', \"'m\", 'coming', 'home']\n"
          ],
          "name": "stdout"
        }
      ]
    },
    {
      "cell_type": "code",
      "metadata": {
        "id": "psa6ofm1nMtT",
        "colab_type": "code",
        "colab": {
          "base_uri": "https://localhost:8080/",
          "height": 55
        },
        "outputId": "8aa9eed6-9c67-4819-c9cc-43b034cb1115"
      },
      "source": [
        "def remove_dupes(x):\n",
        "  return list(dict.fromkeys(x))               ## remove duplicate words by coverting words in the list to keys in a dictionary and then again converting to list\n",
        "                                    # This automatically removes any duplicate words\n",
        "\n",
        "unique = remove_dupes(new_filtered)\n",
        "print(unique)"
      ],
      "execution_count": 11,
      "outputs": [
        {
          "output_type": "stream",
          "text": [
            "['bought', 'first', 'hpc', 'served', 'faithfully', 'lost', 'travelling', 'searched', 'another', 'one', 'replace', 'found', 'difficult', 'come', 'area', 'decided', 'buy', 'purchased', 'hp', 'g', 'mistake', 'know', 'many', 'people', 'view', '(', 'g+', ')', 'flagship', 'line', 'disaster.the', 'may', 'powerful', 'using', 'extremely', 'counterintuitive', '...', 'manual', 'sketchy', 'best', 'c', 'hand', 'need', 'way', 'makes', 'good', 'sense', 'me.if', 'looking', 'solid', 'reliable', 'calculator', \"'s\", 'programmable', 'basic', 'statistics', 'well', 'business', 'applications', 'running', 'short', 'order.i', \"'m\", 'ready', 'set', 'aside', 'move', 'back', 'old', 'friend', \"n't\", 'even', 'batteries', 'decade', 'use', 'coming', 'home']\n"
          ],
          "name": "stdout"
        }
      ]
    },
    {
      "cell_type": "code",
      "metadata": {
        "id": "0s5ZzGuCnxvC",
        "colab_type": "code",
        "colab": {}
      },
      "source": [
        "# Function which returns subsets/combinations of r length from n elements\n",
        "from itertools import combinations      ## w/o replacement\n",
        "  \n",
        "def rSubset(arr, r): \n",
        "  \n",
        "    # return list of all subsets of length r \n",
        "    # to deal with duplicate subsets use  \n",
        "    set(list(combinations(arr, r))) \n",
        "    return list(combinations(arr, r)) "
      ],
      "execution_count": 0,
      "outputs": []
    },
    {
      "cell_type": "code",
      "metadata": {
        "id": "WG9ZCeNDrliQ",
        "colab_type": "code",
        "colab": {
          "base_uri": "https://localhost:8080/",
          "height": 55
        },
        "outputId": "84446f6b-ca6d-4b5a-d802-8a3e1187d7a2"
      },
      "source": [
        "pairs = rSubset(unique, 2)        ## creating pairs/combinations of 2 words each\n",
        "print(pairs)"
      ],
      "execution_count": 13,
      "outputs": [
        {
          "output_type": "stream",
          "text": [
            "[('bought', 'first'), ('bought', 'hpc'), ('bought', 'served'), ('bought', 'faithfully'), ('bought', 'lost'), ('bought', 'travelling'), ('bought', 'searched'), ('bought', 'another'), ('bought', 'one'), ('bought', 'replace'), ('bought', 'found'), ('bought', 'difficult'), ('bought', 'come'), ('bought', 'area'), ('bought', 'decided'), ('bought', 'buy'), ('bought', 'purchased'), ('bought', 'hp'), ('bought', 'g'), ('bought', 'mistake'), ('bought', 'know'), ('bought', 'many'), ('bought', 'people'), ('bought', 'view'), ('bought', '('), ('bought', 'g+'), ('bought', ')'), ('bought', 'flagship'), ('bought', 'line'), ('bought', 'disaster.the'), ('bought', 'may'), ('bought', 'powerful'), ('bought', 'using'), ('bought', 'extremely'), ('bought', 'counterintuitive'), ('bought', '...'), ('bought', 'manual'), ('bought', 'sketchy'), ('bought', 'best'), ('bought', 'c'), ('bought', 'hand'), ('bought', 'need'), ('bought', 'way'), ('bought', 'makes'), ('bought', 'good'), ('bought', 'sense'), ('bought', 'me.if'), ('bought', 'looking'), ('bought', 'solid'), ('bought', 'reliable'), ('bought', 'calculator'), ('bought', \"'s\"), ('bought', 'programmable'), ('bought', 'basic'), ('bought', 'statistics'), ('bought', 'well'), ('bought', 'business'), ('bought', 'applications'), ('bought', 'running'), ('bought', 'short'), ('bought', 'order.i'), ('bought', \"'m\"), ('bought', 'ready'), ('bought', 'set'), ('bought', 'aside'), ('bought', 'move'), ('bought', 'back'), ('bought', 'old'), ('bought', 'friend'), ('bought', \"n't\"), ('bought', 'even'), ('bought', 'batteries'), ('bought', 'decade'), ('bought', 'use'), ('bought', 'coming'), ('bought', 'home'), ('first', 'hpc'), ('first', 'served'), ('first', 'faithfully'), ('first', 'lost'), ('first', 'travelling'), ('first', 'searched'), ('first', 'another'), ('first', 'one'), ('first', 'replace'), ('first', 'found'), ('first', 'difficult'), ('first', 'come'), ('first', 'area'), ('first', 'decided'), ('first', 'buy'), ('first', 'purchased'), ('first', 'hp'), ('first', 'g'), ('first', 'mistake'), ('first', 'know'), ('first', 'many'), ('first', 'people'), ('first', 'view'), ('first', '('), ('first', 'g+'), ('first', ')'), ('first', 'flagship'), ('first', 'line'), ('first', 'disaster.the'), ('first', 'may'), ('first', 'powerful'), ('first', 'using'), ('first', 'extremely'), ('first', 'counterintuitive'), ('first', '...'), ('first', 'manual'), ('first', 'sketchy'), ('first', 'best'), ('first', 'c'), ('first', 'hand'), ('first', 'need'), ('first', 'way'), ('first', 'makes'), ('first', 'good'), ('first', 'sense'), ('first', 'me.if'), ('first', 'looking'), ('first', 'solid'), ('first', 'reliable'), ('first', 'calculator'), ('first', \"'s\"), ('first', 'programmable'), ('first', 'basic'), ('first', 'statistics'), ('first', 'well'), ('first', 'business'), ('first', 'applications'), ('first', 'running'), ('first', 'short'), ('first', 'order.i'), ('first', \"'m\"), ('first', 'ready'), ('first', 'set'), ('first', 'aside'), ('first', 'move'), ('first', 'back'), ('first', 'old'), ('first', 'friend'), ('first', \"n't\"), ('first', 'even'), ('first', 'batteries'), ('first', 'decade'), ('first', 'use'), ('first', 'coming'), ('first', 'home'), ('hpc', 'served'), ('hpc', 'faithfully'), ('hpc', 'lost'), ('hpc', 'travelling'), ('hpc', 'searched'), ('hpc', 'another'), ('hpc', 'one'), ('hpc', 'replace'), ('hpc', 'found'), ('hpc', 'difficult'), ('hpc', 'come'), ('hpc', 'area'), ('hpc', 'decided'), ('hpc', 'buy'), ('hpc', 'purchased'), ('hpc', 'hp'), ('hpc', 'g'), ('hpc', 'mistake'), ('hpc', 'know'), ('hpc', 'many'), ('hpc', 'people'), ('hpc', 'view'), ('hpc', '('), ('hpc', 'g+'), ('hpc', ')'), ('hpc', 'flagship'), ('hpc', 'line'), ('hpc', 'disaster.the'), ('hpc', 'may'), ('hpc', 'powerful'), ('hpc', 'using'), ('hpc', 'extremely'), ('hpc', 'counterintuitive'), ('hpc', '...'), ('hpc', 'manual'), ('hpc', 'sketchy'), ('hpc', 'best'), ('hpc', 'c'), ('hpc', 'hand'), ('hpc', 'need'), ('hpc', 'way'), ('hpc', 'makes'), ('hpc', 'good'), ('hpc', 'sense'), ('hpc', 'me.if'), ('hpc', 'looking'), ('hpc', 'solid'), ('hpc', 'reliable'), ('hpc', 'calculator'), ('hpc', \"'s\"), ('hpc', 'programmable'), ('hpc', 'basic'), ('hpc', 'statistics'), ('hpc', 'well'), ('hpc', 'business'), ('hpc', 'applications'), ('hpc', 'running'), ('hpc', 'short'), ('hpc', 'order.i'), ('hpc', \"'m\"), ('hpc', 'ready'), ('hpc', 'set'), ('hpc', 'aside'), ('hpc', 'move'), ('hpc', 'back'), ('hpc', 'old'), ('hpc', 'friend'), ('hpc', \"n't\"), ('hpc', 'even'), ('hpc', 'batteries'), ('hpc', 'decade'), ('hpc', 'use'), ('hpc', 'coming'), ('hpc', 'home'), ('served', 'faithfully'), ('served', 'lost'), ('served', 'travelling'), ('served', 'searched'), ('served', 'another'), ('served', 'one'), ('served', 'replace'), ('served', 'found'), ('served', 'difficult'), ('served', 'come'), ('served', 'area'), ('served', 'decided'), ('served', 'buy'), ('served', 'purchased'), ('served', 'hp'), ('served', 'g'), ('served', 'mistake'), ('served', 'know'), ('served', 'many'), ('served', 'people'), ('served', 'view'), ('served', '('), ('served', 'g+'), ('served', ')'), ('served', 'flagship'), ('served', 'line'), ('served', 'disaster.the'), ('served', 'may'), ('served', 'powerful'), ('served', 'using'), ('served', 'extremely'), ('served', 'counterintuitive'), ('served', '...'), ('served', 'manual'), ('served', 'sketchy'), ('served', 'best'), ('served', 'c'), ('served', 'hand'), ('served', 'need'), ('served', 'way'), ('served', 'makes'), ('served', 'good'), ('served', 'sense'), ('served', 'me.if'), ('served', 'looking'), ('served', 'solid'), ('served', 'reliable'), ('served', 'calculator'), ('served', \"'s\"), ('served', 'programmable'), ('served', 'basic'), ('served', 'statistics'), ('served', 'well'), ('served', 'business'), ('served', 'applications'), ('served', 'running'), ('served', 'short'), ('served', 'order.i'), ('served', \"'m\"), ('served', 'ready'), ('served', 'set'), ('served', 'aside'), ('served', 'move'), ('served', 'back'), ('served', 'old'), ('served', 'friend'), ('served', \"n't\"), ('served', 'even'), ('served', 'batteries'), ('served', 'decade'), ('served', 'use'), ('served', 'coming'), ('served', 'home'), ('faithfully', 'lost'), ('faithfully', 'travelling'), ('faithfully', 'searched'), ('faithfully', 'another'), ('faithfully', 'one'), ('faithfully', 'replace'), ('faithfully', 'found'), ('faithfully', 'difficult'), ('faithfully', 'come'), ('faithfully', 'area'), ('faithfully', 'decided'), ('faithfully', 'buy'), ('faithfully', 'purchased'), ('faithfully', 'hp'), ('faithfully', 'g'), ('faithfully', 'mistake'), ('faithfully', 'know'), ('faithfully', 'many'), ('faithfully', 'people'), ('faithfully', 'view'), ('faithfully', '('), ('faithfully', 'g+'), ('faithfully', ')'), ('faithfully', 'flagship'), ('faithfully', 'line'), ('faithfully', 'disaster.the'), ('faithfully', 'may'), ('faithfully', 'powerful'), ('faithfully', 'using'), ('faithfully', 'extremely'), ('faithfully', 'counterintuitive'), ('faithfully', '...'), ('faithfully', 'manual'), ('faithfully', 'sketchy'), ('faithfully', 'best'), ('faithfully', 'c'), ('faithfully', 'hand'), ('faithfully', 'need'), ('faithfully', 'way'), ('faithfully', 'makes'), ('faithfully', 'good'), ('faithfully', 'sense'), ('faithfully', 'me.if'), ('faithfully', 'looking'), ('faithfully', 'solid'), ('faithfully', 'reliable'), ('faithfully', 'calculator'), ('faithfully', \"'s\"), ('faithfully', 'programmable'), ('faithfully', 'basic'), ('faithfully', 'statistics'), ('faithfully', 'well'), ('faithfully', 'business'), ('faithfully', 'applications'), ('faithfully', 'running'), ('faithfully', 'short'), ('faithfully', 'order.i'), ('faithfully', \"'m\"), ('faithfully', 'ready'), ('faithfully', 'set'), ('faithfully', 'aside'), ('faithfully', 'move'), ('faithfully', 'back'), ('faithfully', 'old'), ('faithfully', 'friend'), ('faithfully', \"n't\"), ('faithfully', 'even'), ('faithfully', 'batteries'), ('faithfully', 'decade'), ('faithfully', 'use'), ('faithfully', 'coming'), ('faithfully', 'home'), ('lost', 'travelling'), ('lost', 'searched'), ('lost', 'another'), ('lost', 'one'), ('lost', 'replace'), ('lost', 'found'), ('lost', 'difficult'), ('lost', 'come'), ('lost', 'area'), ('lost', 'decided'), ('lost', 'buy'), ('lost', 'purchased'), ('lost', 'hp'), ('lost', 'g'), ('lost', 'mistake'), ('lost', 'know'), ('lost', 'many'), ('lost', 'people'), ('lost', 'view'), ('lost', '('), ('lost', 'g+'), ('lost', ')'), ('lost', 'flagship'), ('lost', 'line'), ('lost', 'disaster.the'), ('lost', 'may'), ('lost', 'powerful'), ('lost', 'using'), ('lost', 'extremely'), ('lost', 'counterintuitive'), ('lost', '...'), ('lost', 'manual'), ('lost', 'sketchy'), ('lost', 'best'), ('lost', 'c'), ('lost', 'hand'), ('lost', 'need'), ('lost', 'way'), ('lost', 'makes'), ('lost', 'good'), ('lost', 'sense'), ('lost', 'me.if'), ('lost', 'looking'), ('lost', 'solid'), ('lost', 'reliable'), ('lost', 'calculator'), ('lost', \"'s\"), ('lost', 'programmable'), ('lost', 'basic'), ('lost', 'statistics'), ('lost', 'well'), ('lost', 'business'), ('lost', 'applications'), ('lost', 'running'), ('lost', 'short'), ('lost', 'order.i'), ('lost', \"'m\"), ('lost', 'ready'), ('lost', 'set'), ('lost', 'aside'), ('lost', 'move'), ('lost', 'back'), ('lost', 'old'), ('lost', 'friend'), ('lost', \"n't\"), ('lost', 'even'), ('lost', 'batteries'), ('lost', 'decade'), ('lost', 'use'), ('lost', 'coming'), ('lost', 'home'), ('travelling', 'searched'), ('travelling', 'another'), ('travelling', 'one'), ('travelling', 'replace'), ('travelling', 'found'), ('travelling', 'difficult'), ('travelling', 'come'), ('travelling', 'area'), ('travelling', 'decided'), ('travelling', 'buy'), ('travelling', 'purchased'), ('travelling', 'hp'), ('travelling', 'g'), ('travelling', 'mistake'), ('travelling', 'know'), ('travelling', 'many'), ('travelling', 'people'), ('travelling', 'view'), ('travelling', '('), ('travelling', 'g+'), ('travelling', ')'), ('travelling', 'flagship'), ('travelling', 'line'), ('travelling', 'disaster.the'), ('travelling', 'may'), ('travelling', 'powerful'), ('travelling', 'using'), ('travelling', 'extremely'), ('travelling', 'counterintuitive'), ('travelling', '...'), ('travelling', 'manual'), ('travelling', 'sketchy'), ('travelling', 'best'), ('travelling', 'c'), ('travelling', 'hand'), ('travelling', 'need'), ('travelling', 'way'), ('travelling', 'makes'), ('travelling', 'good'), ('travelling', 'sense'), ('travelling', 'me.if'), ('travelling', 'looking'), ('travelling', 'solid'), ('travelling', 'reliable'), ('travelling', 'calculator'), ('travelling', \"'s\"), ('travelling', 'programmable'), ('travelling', 'basic'), ('travelling', 'statistics'), ('travelling', 'well'), ('travelling', 'business'), ('travelling', 'applications'), ('travelling', 'running'), ('travelling', 'short'), ('travelling', 'order.i'), ('travelling', \"'m\"), ('travelling', 'ready'), ('travelling', 'set'), ('travelling', 'aside'), ('travelling', 'move'), ('travelling', 'back'), ('travelling', 'old'), ('travelling', 'friend'), ('travelling', \"n't\"), ('travelling', 'even'), ('travelling', 'batteries'), ('travelling', 'decade'), ('travelling', 'use'), ('travelling', 'coming'), ('travelling', 'home'), ('searched', 'another'), ('searched', 'one'), ('searched', 'replace'), ('searched', 'found'), ('searched', 'difficult'), ('searched', 'come'), ('searched', 'area'), ('searched', 'decided'), ('searched', 'buy'), ('searched', 'purchased'), ('searched', 'hp'), ('searched', 'g'), ('searched', 'mistake'), ('searched', 'know'), ('searched', 'many'), ('searched', 'people'), ('searched', 'view'), ('searched', '('), ('searched', 'g+'), ('searched', ')'), ('searched', 'flagship'), ('searched', 'line'), ('searched', 'disaster.the'), ('searched', 'may'), ('searched', 'powerful'), ('searched', 'using'), ('searched', 'extremely'), ('searched', 'counterintuitive'), ('searched', '...'), ('searched', 'manual'), ('searched', 'sketchy'), ('searched', 'best'), ('searched', 'c'), ('searched', 'hand'), ('searched', 'need'), ('searched', 'way'), ('searched', 'makes'), ('searched', 'good'), ('searched', 'sense'), ('searched', 'me.if'), ('searched', 'looking'), ('searched', 'solid'), ('searched', 'reliable'), ('searched', 'calculator'), ('searched', \"'s\"), ('searched', 'programmable'), ('searched', 'basic'), ('searched', 'statistics'), ('searched', 'well'), ('searched', 'business'), ('searched', 'applications'), ('searched', 'running'), ('searched', 'short'), ('searched', 'order.i'), ('searched', \"'m\"), ('searched', 'ready'), ('searched', 'set'), ('searched', 'aside'), ('searched', 'move'), ('searched', 'back'), ('searched', 'old'), ('searched', 'friend'), ('searched', \"n't\"), ('searched', 'even'), ('searched', 'batteries'), ('searched', 'decade'), ('searched', 'use'), ('searched', 'coming'), ('searched', 'home'), ('another', 'one'), ('another', 'replace'), ('another', 'found'), ('another', 'difficult'), ('another', 'come'), ('another', 'area'), ('another', 'decided'), ('another', 'buy'), ('another', 'purchased'), ('another', 'hp'), ('another', 'g'), ('another', 'mistake'), ('another', 'know'), ('another', 'many'), ('another', 'people'), ('another', 'view'), ('another', '('), ('another', 'g+'), ('another', ')'), ('another', 'flagship'), ('another', 'line'), ('another', 'disaster.the'), ('another', 'may'), ('another', 'powerful'), ('another', 'using'), ('another', 'extremely'), ('another', 'counterintuitive'), ('another', '...'), ('another', 'manual'), ('another', 'sketchy'), ('another', 'best'), ('another', 'c'), ('another', 'hand'), ('another', 'need'), ('another', 'way'), ('another', 'makes'), ('another', 'good'), ('another', 'sense'), ('another', 'me.if'), ('another', 'looking'), ('another', 'solid'), ('another', 'reliable'), ('another', 'calculator'), ('another', \"'s\"), ('another', 'programmable'), ('another', 'basic'), ('another', 'statistics'), ('another', 'well'), ('another', 'business'), ('another', 'applications'), ('another', 'running'), ('another', 'short'), ('another', 'order.i'), ('another', \"'m\"), ('another', 'ready'), ('another', 'set'), ('another', 'aside'), ('another', 'move'), ('another', 'back'), ('another', 'old'), ('another', 'friend'), ('another', \"n't\"), ('another', 'even'), ('another', 'batteries'), ('another', 'decade'), ('another', 'use'), ('another', 'coming'), ('another', 'home'), ('one', 'replace'), ('one', 'found'), ('one', 'difficult'), ('one', 'come'), ('one', 'area'), ('one', 'decided'), ('one', 'buy'), ('one', 'purchased'), ('one', 'hp'), ('one', 'g'), ('one', 'mistake'), ('one', 'know'), ('one', 'many'), ('one', 'people'), ('one', 'view'), ('one', '('), ('one', 'g+'), ('one', ')'), ('one', 'flagship'), ('one', 'line'), ('one', 'disaster.the'), ('one', 'may'), ('one', 'powerful'), ('one', 'using'), ('one', 'extremely'), ('one', 'counterintuitive'), ('one', '...'), ('one', 'manual'), ('one', 'sketchy'), ('one', 'best'), ('one', 'c'), ('one', 'hand'), ('one', 'need'), ('one', 'way'), ('one', 'makes'), ('one', 'good'), ('one', 'sense'), ('one', 'me.if'), ('one', 'looking'), ('one', 'solid'), ('one', 'reliable'), ('one', 'calculator'), ('one', \"'s\"), ('one', 'programmable'), ('one', 'basic'), ('one', 'statistics'), ('one', 'well'), ('one', 'business'), ('one', 'applications'), ('one', 'running'), ('one', 'short'), ('one', 'order.i'), ('one', \"'m\"), ('one', 'ready'), ('one', 'set'), ('one', 'aside'), ('one', 'move'), ('one', 'back'), ('one', 'old'), ('one', 'friend'), ('one', \"n't\"), ('one', 'even'), ('one', 'batteries'), ('one', 'decade'), ('one', 'use'), ('one', 'coming'), ('one', 'home'), ('replace', 'found'), ('replace', 'difficult'), ('replace', 'come'), ('replace', 'area'), ('replace', 'decided'), ('replace', 'buy'), ('replace', 'purchased'), ('replace', 'hp'), ('replace', 'g'), ('replace', 'mistake'), ('replace', 'know'), ('replace', 'many'), ('replace', 'people'), ('replace', 'view'), ('replace', '('), ('replace', 'g+'), ('replace', ')'), ('replace', 'flagship'), ('replace', 'line'), ('replace', 'disaster.the'), ('replace', 'may'), ('replace', 'powerful'), ('replace', 'using'), ('replace', 'extremely'), ('replace', 'counterintuitive'), ('replace', '...'), ('replace', 'manual'), ('replace', 'sketchy'), ('replace', 'best'), ('replace', 'c'), ('replace', 'hand'), ('replace', 'need'), ('replace', 'way'), ('replace', 'makes'), ('replace', 'good'), ('replace', 'sense'), ('replace', 'me.if'), ('replace', 'looking'), ('replace', 'solid'), ('replace', 'reliable'), ('replace', 'calculator'), ('replace', \"'s\"), ('replace', 'programmable'), ('replace', 'basic'), ('replace', 'statistics'), ('replace', 'well'), ('replace', 'business'), ('replace', 'applications'), ('replace', 'running'), ('replace', 'short'), ('replace', 'order.i'), ('replace', \"'m\"), ('replace', 'ready'), ('replace', 'set'), ('replace', 'aside'), ('replace', 'move'), ('replace', 'back'), ('replace', 'old'), ('replace', 'friend'), ('replace', \"n't\"), ('replace', 'even'), ('replace', 'batteries'), ('replace', 'decade'), ('replace', 'use'), ('replace', 'coming'), ('replace', 'home'), ('found', 'difficult'), ('found', 'come'), ('found', 'area'), ('found', 'decided'), ('found', 'buy'), ('found', 'purchased'), ('found', 'hp'), ('found', 'g'), ('found', 'mistake'), ('found', 'know'), ('found', 'many'), ('found', 'people'), ('found', 'view'), ('found', '('), ('found', 'g+'), ('found', ')'), ('found', 'flagship'), ('found', 'line'), ('found', 'disaster.the'), ('found', 'may'), ('found', 'powerful'), ('found', 'using'), ('found', 'extremely'), ('found', 'counterintuitive'), ('found', '...'), ('found', 'manual'), ('found', 'sketchy'), ('found', 'best'), ('found', 'c'), ('found', 'hand'), ('found', 'need'), ('found', 'way'), ('found', 'makes'), ('found', 'good'), ('found', 'sense'), ('found', 'me.if'), ('found', 'looking'), ('found', 'solid'), ('found', 'reliable'), ('found', 'calculator'), ('found', \"'s\"), ('found', 'programmable'), ('found', 'basic'), ('found', 'statistics'), ('found', 'well'), ('found', 'business'), ('found', 'applications'), ('found', 'running'), ('found', 'short'), ('found', 'order.i'), ('found', \"'m\"), ('found', 'ready'), ('found', 'set'), ('found', 'aside'), ('found', 'move'), ('found', 'back'), ('found', 'old'), ('found', 'friend'), ('found', \"n't\"), ('found', 'even'), ('found', 'batteries'), ('found', 'decade'), ('found', 'use'), ('found', 'coming'), ('found', 'home'), ('difficult', 'come'), ('difficult', 'area'), ('difficult', 'decided'), ('difficult', 'buy'), ('difficult', 'purchased'), ('difficult', 'hp'), ('difficult', 'g'), ('difficult', 'mistake'), ('difficult', 'know'), ('difficult', 'many'), ('difficult', 'people'), ('difficult', 'view'), ('difficult', '('), ('difficult', 'g+'), ('difficult', ')'), ('difficult', 'flagship'), ('difficult', 'line'), ('difficult', 'disaster.the'), ('difficult', 'may'), ('difficult', 'powerful'), ('difficult', 'using'), ('difficult', 'extremely'), ('difficult', 'counterintuitive'), ('difficult', '...'), ('difficult', 'manual'), ('difficult', 'sketchy'), ('difficult', 'best'), ('difficult', 'c'), ('difficult', 'hand'), ('difficult', 'need'), ('difficult', 'way'), ('difficult', 'makes'), ('difficult', 'good'), ('difficult', 'sense'), ('difficult', 'me.if'), ('difficult', 'looking'), ('difficult', 'solid'), ('difficult', 'reliable'), ('difficult', 'calculator'), ('difficult', \"'s\"), ('difficult', 'programmable'), ('difficult', 'basic'), ('difficult', 'statistics'), ('difficult', 'well'), ('difficult', 'business'), ('difficult', 'applications'), ('difficult', 'running'), ('difficult', 'short'), ('difficult', 'order.i'), ('difficult', \"'m\"), ('difficult', 'ready'), ('difficult', 'set'), ('difficult', 'aside'), ('difficult', 'move'), ('difficult', 'back'), ('difficult', 'old'), ('difficult', 'friend'), ('difficult', \"n't\"), ('difficult', 'even'), ('difficult', 'batteries'), ('difficult', 'decade'), ('difficult', 'use'), ('difficult', 'coming'), ('difficult', 'home'), ('come', 'area'), ('come', 'decided'), ('come', 'buy'), ('come', 'purchased'), ('come', 'hp'), ('come', 'g'), ('come', 'mistake'), ('come', 'know'), ('come', 'many'), ('come', 'people'), ('come', 'view'), ('come', '('), ('come', 'g+'), ('come', ')'), ('come', 'flagship'), ('come', 'line'), ('come', 'disaster.the'), ('come', 'may'), ('come', 'powerful'), ('come', 'using'), ('come', 'extremely'), ('come', 'counterintuitive'), ('come', '...'), ('come', 'manual'), ('come', 'sketchy'), ('come', 'best'), ('come', 'c'), ('come', 'hand'), ('come', 'need'), ('come', 'way'), ('come', 'makes'), ('come', 'good'), ('come', 'sense'), ('come', 'me.if'), ('come', 'looking'), ('come', 'solid'), ('come', 'reliable'), ('come', 'calculator'), ('come', \"'s\"), ('come', 'programmable'), ('come', 'basic'), ('come', 'statistics'), ('come', 'well'), ('come', 'business'), ('come', 'applications'), ('come', 'running'), ('come', 'short'), ('come', 'order.i'), ('come', \"'m\"), ('come', 'ready'), ('come', 'set'), ('come', 'aside'), ('come', 'move'), ('come', 'back'), ('come', 'old'), ('come', 'friend'), ('come', \"n't\"), ('come', 'even'), ('come', 'batteries'), ('come', 'decade'), ('come', 'use'), ('come', 'coming'), ('come', 'home'), ('area', 'decided'), ('area', 'buy'), ('area', 'purchased'), ('area', 'hp'), ('area', 'g'), ('area', 'mistake'), ('area', 'know'), ('area', 'many'), ('area', 'people'), ('area', 'view'), ('area', '('), ('area', 'g+'), ('area', ')'), ('area', 'flagship'), ('area', 'line'), ('area', 'disaster.the'), ('area', 'may'), ('area', 'powerful'), ('area', 'using'), ('area', 'extremely'), ('area', 'counterintuitive'), ('area', '...'), ('area', 'manual'), ('area', 'sketchy'), ('area', 'best'), ('area', 'c'), ('area', 'hand'), ('area', 'need'), ('area', 'way'), ('area', 'makes'), ('area', 'good'), ('area', 'sense'), ('area', 'me.if'), ('area', 'looking'), ('area', 'solid'), ('area', 'reliable'), ('area', 'calculator'), ('area', \"'s\"), ('area', 'programmable'), ('area', 'basic'), ('area', 'statistics'), ('area', 'well'), ('area', 'business'), ('area', 'applications'), ('area', 'running'), ('area', 'short'), ('area', 'order.i'), ('area', \"'m\"), ('area', 'ready'), ('area', 'set'), ('area', 'aside'), ('area', 'move'), ('area', 'back'), ('area', 'old'), ('area', 'friend'), ('area', \"n't\"), ('area', 'even'), ('area', 'batteries'), ('area', 'decade'), ('area', 'use'), ('area', 'coming'), ('area', 'home'), ('decided', 'buy'), ('decided', 'purchased'), ('decided', 'hp'), ('decided', 'g'), ('decided', 'mistake'), ('decided', 'know'), ('decided', 'many'), ('decided', 'people'), ('decided', 'view'), ('decided', '('), ('decided', 'g+'), ('decided', ')'), ('decided', 'flagship'), ('decided', 'line'), ('decided', 'disaster.the'), ('decided', 'may'), ('decided', 'powerful'), ('decided', 'using'), ('decided', 'extremely'), ('decided', 'counterintuitive'), ('decided', '...'), ('decided', 'manual'), ('decided', 'sketchy'), ('decided', 'best'), ('decided', 'c'), ('decided', 'hand'), ('decided', 'need'), ('decided', 'way'), ('decided', 'makes'), ('decided', 'good'), ('decided', 'sense'), ('decided', 'me.if'), ('decided', 'looking'), ('decided', 'solid'), ('decided', 'reliable'), ('decided', 'calculator'), ('decided', \"'s\"), ('decided', 'programmable'), ('decided', 'basic'), ('decided', 'statistics'), ('decided', 'well'), ('decided', 'business'), ('decided', 'applications'), ('decided', 'running'), ('decided', 'short'), ('decided', 'order.i'), ('decided', \"'m\"), ('decided', 'ready'), ('decided', 'set'), ('decided', 'aside'), ('decided', 'move'), ('decided', 'back'), ('decided', 'old'), ('decided', 'friend'), ('decided', \"n't\"), ('decided', 'even'), ('decided', 'batteries'), ('decided', 'decade'), ('decided', 'use'), ('decided', 'coming'), ('decided', 'home'), ('buy', 'purchased'), ('buy', 'hp'), ('buy', 'g'), ('buy', 'mistake'), ('buy', 'know'), ('buy', 'many'), ('buy', 'people'), ('buy', 'view'), ('buy', '('), ('buy', 'g+'), ('buy', ')'), ('buy', 'flagship'), ('buy', 'line'), ('buy', 'disaster.the'), ('buy', 'may'), ('buy', 'powerful'), ('buy', 'using'), ('buy', 'extremely'), ('buy', 'counterintuitive'), ('buy', '...'), ('buy', 'manual'), ('buy', 'sketchy'), ('buy', 'best'), ('buy', 'c'), ('buy', 'hand'), ('buy', 'need'), ('buy', 'way'), ('buy', 'makes'), ('buy', 'good'), ('buy', 'sense'), ('buy', 'me.if'), ('buy', 'looking'), ('buy', 'solid'), ('buy', 'reliable'), ('buy', 'calculator'), ('buy', \"'s\"), ('buy', 'programmable'), ('buy', 'basic'), ('buy', 'statistics'), ('buy', 'well'), ('buy', 'business'), ('buy', 'applications'), ('buy', 'running'), ('buy', 'short'), ('buy', 'order.i'), ('buy', \"'m\"), ('buy', 'ready'), ('buy', 'set'), ('buy', 'aside'), ('buy', 'move'), ('buy', 'back'), ('buy', 'old'), ('buy', 'friend'), ('buy', \"n't\"), ('buy', 'even'), ('buy', 'batteries'), ('buy', 'decade'), ('buy', 'use'), ('buy', 'coming'), ('buy', 'home'), ('purchased', 'hp'), ('purchased', 'g'), ('purchased', 'mistake'), ('purchased', 'know'), ('purchased', 'many'), ('purchased', 'people'), ('purchased', 'view'), ('purchased', '('), ('purchased', 'g+'), ('purchased', ')'), ('purchased', 'flagship'), ('purchased', 'line'), ('purchased', 'disaster.the'), ('purchased', 'may'), ('purchased', 'powerful'), ('purchased', 'using'), ('purchased', 'extremely'), ('purchased', 'counterintuitive'), ('purchased', '...'), ('purchased', 'manual'), ('purchased', 'sketchy'), ('purchased', 'best'), ('purchased', 'c'), ('purchased', 'hand'), ('purchased', 'need'), ('purchased', 'way'), ('purchased', 'makes'), ('purchased', 'good'), ('purchased', 'sense'), ('purchased', 'me.if'), ('purchased', 'looking'), ('purchased', 'solid'), ('purchased', 'reliable'), ('purchased', 'calculator'), ('purchased', \"'s\"), ('purchased', 'programmable'), ('purchased', 'basic'), ('purchased', 'statistics'), ('purchased', 'well'), ('purchased', 'business'), ('purchased', 'applications'), ('purchased', 'running'), ('purchased', 'short'), ('purchased', 'order.i'), ('purchased', \"'m\"), ('purchased', 'ready'), ('purchased', 'set'), ('purchased', 'aside'), ('purchased', 'move'), ('purchased', 'back'), ('purchased', 'old'), ('purchased', 'friend'), ('purchased', \"n't\"), ('purchased', 'even'), ('purchased', 'batteries'), ('purchased', 'decade'), ('purchased', 'use'), ('purchased', 'coming'), ('purchased', 'home'), ('hp', 'g'), ('hp', 'mistake'), ('hp', 'know'), ('hp', 'many'), ('hp', 'people'), ('hp', 'view'), ('hp', '('), ('hp', 'g+'), ('hp', ')'), ('hp', 'flagship'), ('hp', 'line'), ('hp', 'disaster.the'), ('hp', 'may'), ('hp', 'powerful'), ('hp', 'using'), ('hp', 'extremely'), ('hp', 'counterintuitive'), ('hp', '...'), ('hp', 'manual'), ('hp', 'sketchy'), ('hp', 'best'), ('hp', 'c'), ('hp', 'hand'), ('hp', 'need'), ('hp', 'way'), ('hp', 'makes'), ('hp', 'good'), ('hp', 'sense'), ('hp', 'me.if'), ('hp', 'looking'), ('hp', 'solid'), ('hp', 'reliable'), ('hp', 'calculator'), ('hp', \"'s\"), ('hp', 'programmable'), ('hp', 'basic'), ('hp', 'statistics'), ('hp', 'well'), ('hp', 'business'), ('hp', 'applications'), ('hp', 'running'), ('hp', 'short'), ('hp', 'order.i'), ('hp', \"'m\"), ('hp', 'ready'), ('hp', 'set'), ('hp', 'aside'), ('hp', 'move'), ('hp', 'back'), ('hp', 'old'), ('hp', 'friend'), ('hp', \"n't\"), ('hp', 'even'), ('hp', 'batteries'), ('hp', 'decade'), ('hp', 'use'), ('hp', 'coming'), ('hp', 'home'), ('g', 'mistake'), ('g', 'know'), ('g', 'many'), ('g', 'people'), ('g', 'view'), ('g', '('), ('g', 'g+'), ('g', ')'), ('g', 'flagship'), ('g', 'line'), ('g', 'disaster.the'), ('g', 'may'), ('g', 'powerful'), ('g', 'using'), ('g', 'extremely'), ('g', 'counterintuitive'), ('g', '...'), ('g', 'manual'), ('g', 'sketchy'), ('g', 'best'), ('g', 'c'), ('g', 'hand'), ('g', 'need'), ('g', 'way'), ('g', 'makes'), ('g', 'good'), ('g', 'sense'), ('g', 'me.if'), ('g', 'looking'), ('g', 'solid'), ('g', 'reliable'), ('g', 'calculator'), ('g', \"'s\"), ('g', 'programmable'), ('g', 'basic'), ('g', 'statistics'), ('g', 'well'), ('g', 'business'), ('g', 'applications'), ('g', 'running'), ('g', 'short'), ('g', 'order.i'), ('g', \"'m\"), ('g', 'ready'), ('g', 'set'), ('g', 'aside'), ('g', 'move'), ('g', 'back'), ('g', 'old'), ('g', 'friend'), ('g', \"n't\"), ('g', 'even'), ('g', 'batteries'), ('g', 'decade'), ('g', 'use'), ('g', 'coming'), ('g', 'home'), ('mistake', 'know'), ('mistake', 'many'), ('mistake', 'people'), ('mistake', 'view'), ('mistake', '('), ('mistake', 'g+'), ('mistake', ')'), ('mistake', 'flagship'), ('mistake', 'line'), ('mistake', 'disaster.the'), ('mistake', 'may'), ('mistake', 'powerful'), ('mistake', 'using'), ('mistake', 'extremely'), ('mistake', 'counterintuitive'), ('mistake', '...'), ('mistake', 'manual'), ('mistake', 'sketchy'), ('mistake', 'best'), ('mistake', 'c'), ('mistake', 'hand'), ('mistake', 'need'), ('mistake', 'way'), ('mistake', 'makes'), ('mistake', 'good'), ('mistake', 'sense'), ('mistake', 'me.if'), ('mistake', 'looking'), ('mistake', 'solid'), ('mistake', 'reliable'), ('mistake', 'calculator'), ('mistake', \"'s\"), ('mistake', 'programmable'), ('mistake', 'basic'), ('mistake', 'statistics'), ('mistake', 'well'), ('mistake', 'business'), ('mistake', 'applications'), ('mistake', 'running'), ('mistake', 'short'), ('mistake', 'order.i'), ('mistake', \"'m\"), ('mistake', 'ready'), ('mistake', 'set'), ('mistake', 'aside'), ('mistake', 'move'), ('mistake', 'back'), ('mistake', 'old'), ('mistake', 'friend'), ('mistake', \"n't\"), ('mistake', 'even'), ('mistake', 'batteries'), ('mistake', 'decade'), ('mistake', 'use'), ('mistake', 'coming'), ('mistake', 'home'), ('know', 'many'), ('know', 'people'), ('know', 'view'), ('know', '('), ('know', 'g+'), ('know', ')'), ('know', 'flagship'), ('know', 'line'), ('know', 'disaster.the'), ('know', 'may'), ('know', 'powerful'), ('know', 'using'), ('know', 'extremely'), ('know', 'counterintuitive'), ('know', '...'), ('know', 'manual'), ('know', 'sketchy'), ('know', 'best'), ('know', 'c'), ('know', 'hand'), ('know', 'need'), ('know', 'way'), ('know', 'makes'), ('know', 'good'), ('know', 'sense'), ('know', 'me.if'), ('know', 'looking'), ('know', 'solid'), ('know', 'reliable'), ('know', 'calculator'), ('know', \"'s\"), ('know', 'programmable'), ('know', 'basic'), ('know', 'statistics'), ('know', 'well'), ('know', 'business'), ('know', 'applications'), ('know', 'running'), ('know', 'short'), ('know', 'order.i'), ('know', \"'m\"), ('know', 'ready'), ('know', 'set'), ('know', 'aside'), ('know', 'move'), ('know', 'back'), ('know', 'old'), ('know', 'friend'), ('know', \"n't\"), ('know', 'even'), ('know', 'batteries'), ('know', 'decade'), ('know', 'use'), ('know', 'coming'), ('know', 'home'), ('many', 'people'), ('many', 'view'), ('many', '('), ('many', 'g+'), ('many', ')'), ('many', 'flagship'), ('many', 'line'), ('many', 'disaster.the'), ('many', 'may'), ('many', 'powerful'), ('many', 'using'), ('many', 'extremely'), ('many', 'counterintuitive'), ('many', '...'), ('many', 'manual'), ('many', 'sketchy'), ('many', 'best'), ('many', 'c'), ('many', 'hand'), ('many', 'need'), ('many', 'way'), ('many', 'makes'), ('many', 'good'), ('many', 'sense'), ('many', 'me.if'), ('many', 'looking'), ('many', 'solid'), ('many', 'reliable'), ('many', 'calculator'), ('many', \"'s\"), ('many', 'programmable'), ('many', 'basic'), ('many', 'statistics'), ('many', 'well'), ('many', 'business'), ('many', 'applications'), ('many', 'running'), ('many', 'short'), ('many', 'order.i'), ('many', \"'m\"), ('many', 'ready'), ('many', 'set'), ('many', 'aside'), ('many', 'move'), ('many', 'back'), ('many', 'old'), ('many', 'friend'), ('many', \"n't\"), ('many', 'even'), ('many', 'batteries'), ('many', 'decade'), ('many', 'use'), ('many', 'coming'), ('many', 'home'), ('people', 'view'), ('people', '('), ('people', 'g+'), ('people', ')'), ('people', 'flagship'), ('people', 'line'), ('people', 'disaster.the'), ('people', 'may'), ('people', 'powerful'), ('people', 'using'), ('people', 'extremely'), ('people', 'counterintuitive'), ('people', '...'), ('people', 'manual'), ('people', 'sketchy'), ('people', 'best'), ('people', 'c'), ('people', 'hand'), ('people', 'need'), ('people', 'way'), ('people', 'makes'), ('people', 'good'), ('people', 'sense'), ('people', 'me.if'), ('people', 'looking'), ('people', 'solid'), ('people', 'reliable'), ('people', 'calculator'), ('people', \"'s\"), ('people', 'programmable'), ('people', 'basic'), ('people', 'statistics'), ('people', 'well'), ('people', 'business'), ('people', 'applications'), ('people', 'running'), ('people', 'short'), ('people', 'order.i'), ('people', \"'m\"), ('people', 'ready'), ('people', 'set'), ('people', 'aside'), ('people', 'move'), ('people', 'back'), ('people', 'old'), ('people', 'friend'), ('people', \"n't\"), ('people', 'even'), ('people', 'batteries'), ('people', 'decade'), ('people', 'use'), ('people', 'coming'), ('people', 'home'), ('view', '('), ('view', 'g+'), ('view', ')'), ('view', 'flagship'), ('view', 'line'), ('view', 'disaster.the'), ('view', 'may'), ('view', 'powerful'), ('view', 'using'), ('view', 'extremely'), ('view', 'counterintuitive'), ('view', '...'), ('view', 'manual'), ('view', 'sketchy'), ('view', 'best'), ('view', 'c'), ('view', 'hand'), ('view', 'need'), ('view', 'way'), ('view', 'makes'), ('view', 'good'), ('view', 'sense'), ('view', 'me.if'), ('view', 'looking'), ('view', 'solid'), ('view', 'reliable'), ('view', 'calculator'), ('view', \"'s\"), ('view', 'programmable'), ('view', 'basic'), ('view', 'statistics'), ('view', 'well'), ('view', 'business'), ('view', 'applications'), ('view', 'running'), ('view', 'short'), ('view', 'order.i'), ('view', \"'m\"), ('view', 'ready'), ('view', 'set'), ('view', 'aside'), ('view', 'move'), ('view', 'back'), ('view', 'old'), ('view', 'friend'), ('view', \"n't\"), ('view', 'even'), ('view', 'batteries'), ('view', 'decade'), ('view', 'use'), ('view', 'coming'), ('view', 'home'), ('(', 'g+'), ('(', ')'), ('(', 'flagship'), ('(', 'line'), ('(', 'disaster.the'), ('(', 'may'), ('(', 'powerful'), ('(', 'using'), ('(', 'extremely'), ('(', 'counterintuitive'), ('(', '...'), ('(', 'manual'), ('(', 'sketchy'), ('(', 'best'), ('(', 'c'), ('(', 'hand'), ('(', 'need'), ('(', 'way'), ('(', 'makes'), ('(', 'good'), ('(', 'sense'), ('(', 'me.if'), ('(', 'looking'), ('(', 'solid'), ('(', 'reliable'), ('(', 'calculator'), ('(', \"'s\"), ('(', 'programmable'), ('(', 'basic'), ('(', 'statistics'), ('(', 'well'), ('(', 'business'), ('(', 'applications'), ('(', 'running'), ('(', 'short'), ('(', 'order.i'), ('(', \"'m\"), ('(', 'ready'), ('(', 'set'), ('(', 'aside'), ('(', 'move'), ('(', 'back'), ('(', 'old'), ('(', 'friend'), ('(', \"n't\"), ('(', 'even'), ('(', 'batteries'), ('(', 'decade'), ('(', 'use'), ('(', 'coming'), ('(', 'home'), ('g+', ')'), ('g+', 'flagship'), ('g+', 'line'), ('g+', 'disaster.the'), ('g+', 'may'), ('g+', 'powerful'), ('g+', 'using'), ('g+', 'extremely'), ('g+', 'counterintuitive'), ('g+', '...'), ('g+', 'manual'), ('g+', 'sketchy'), ('g+', 'best'), ('g+', 'c'), ('g+', 'hand'), ('g+', 'need'), ('g+', 'way'), ('g+', 'makes'), ('g+', 'good'), ('g+', 'sense'), ('g+', 'me.if'), ('g+', 'looking'), ('g+', 'solid'), ('g+', 'reliable'), ('g+', 'calculator'), ('g+', \"'s\"), ('g+', 'programmable'), ('g+', 'basic'), ('g+', 'statistics'), ('g+', 'well'), ('g+', 'business'), ('g+', 'applications'), ('g+', 'running'), ('g+', 'short'), ('g+', 'order.i'), ('g+', \"'m\"), ('g+', 'ready'), ('g+', 'set'), ('g+', 'aside'), ('g+', 'move'), ('g+', 'back'), ('g+', 'old'), ('g+', 'friend'), ('g+', \"n't\"), ('g+', 'even'), ('g+', 'batteries'), ('g+', 'decade'), ('g+', 'use'), ('g+', 'coming'), ('g+', 'home'), (')', 'flagship'), (')', 'line'), (')', 'disaster.the'), (')', 'may'), (')', 'powerful'), (')', 'using'), (')', 'extremely'), (')', 'counterintuitive'), (')', '...'), (')', 'manual'), (')', 'sketchy'), (')', 'best'), (')', 'c'), (')', 'hand'), (')', 'need'), (')', 'way'), (')', 'makes'), (')', 'good'), (')', 'sense'), (')', 'me.if'), (')', 'looking'), (')', 'solid'), (')', 'reliable'), (')', 'calculator'), (')', \"'s\"), (')', 'programmable'), (')', 'basic'), (')', 'statistics'), (')', 'well'), (')', 'business'), (')', 'applications'), (')', 'running'), (')', 'short'), (')', 'order.i'), (')', \"'m\"), (')', 'ready'), (')', 'set'), (')', 'aside'), (')', 'move'), (')', 'back'), (')', 'old'), (')', 'friend'), (')', \"n't\"), (')', 'even'), (')', 'batteries'), (')', 'decade'), (')', 'use'), (')', 'coming'), (')', 'home'), ('flagship', 'line'), ('flagship', 'disaster.the'), ('flagship', 'may'), ('flagship', 'powerful'), ('flagship', 'using'), ('flagship', 'extremely'), ('flagship', 'counterintuitive'), ('flagship', '...'), ('flagship', 'manual'), ('flagship', 'sketchy'), ('flagship', 'best'), ('flagship', 'c'), ('flagship', 'hand'), ('flagship', 'need'), ('flagship', 'way'), ('flagship', 'makes'), ('flagship', 'good'), ('flagship', 'sense'), ('flagship', 'me.if'), ('flagship', 'looking'), ('flagship', 'solid'), ('flagship', 'reliable'), ('flagship', 'calculator'), ('flagship', \"'s\"), ('flagship', 'programmable'), ('flagship', 'basic'), ('flagship', 'statistics'), ('flagship', 'well'), ('flagship', 'business'), ('flagship', 'applications'), ('flagship', 'running'), ('flagship', 'short'), ('flagship', 'order.i'), ('flagship', \"'m\"), ('flagship', 'ready'), ('flagship', 'set'), ('flagship', 'aside'), ('flagship', 'move'), ('flagship', 'back'), ('flagship', 'old'), ('flagship', 'friend'), ('flagship', \"n't\"), ('flagship', 'even'), ('flagship', 'batteries'), ('flagship', 'decade'), ('flagship', 'use'), ('flagship', 'coming'), ('flagship', 'home'), ('line', 'disaster.the'), ('line', 'may'), ('line', 'powerful'), ('line', 'using'), ('line', 'extremely'), ('line', 'counterintuitive'), ('line', '...'), ('line', 'manual'), ('line', 'sketchy'), ('line', 'best'), ('line', 'c'), ('line', 'hand'), ('line', 'need'), ('line', 'way'), ('line', 'makes'), ('line', 'good'), ('line', 'sense'), ('line', 'me.if'), ('line', 'looking'), ('line', 'solid'), ('line', 'reliable'), ('line', 'calculator'), ('line', \"'s\"), ('line', 'programmable'), ('line', 'basic'), ('line', 'statistics'), ('line', 'well'), ('line', 'business'), ('line', 'applications'), ('line', 'running'), ('line', 'short'), ('line', 'order.i'), ('line', \"'m\"), ('line', 'ready'), ('line', 'set'), ('line', 'aside'), ('line', 'move'), ('line', 'back'), ('line', 'old'), ('line', 'friend'), ('line', \"n't\"), ('line', 'even'), ('line', 'batteries'), ('line', 'decade'), ('line', 'use'), ('line', 'coming'), ('line', 'home'), ('disaster.the', 'may'), ('disaster.the', 'powerful'), ('disaster.the', 'using'), ('disaster.the', 'extremely'), ('disaster.the', 'counterintuitive'), ('disaster.the', '...'), ('disaster.the', 'manual'), ('disaster.the', 'sketchy'), ('disaster.the', 'best'), ('disaster.the', 'c'), ('disaster.the', 'hand'), ('disaster.the', 'need'), ('disaster.the', 'way'), ('disaster.the', 'makes'), ('disaster.the', 'good'), ('disaster.the', 'sense'), ('disaster.the', 'me.if'), ('disaster.the', 'looking'), ('disaster.the', 'solid'), ('disaster.the', 'reliable'), ('disaster.the', 'calculator'), ('disaster.the', \"'s\"), ('disaster.the', 'programmable'), ('disaster.the', 'basic'), ('disaster.the', 'statistics'), ('disaster.the', 'well'), ('disaster.the', 'business'), ('disaster.the', 'applications'), ('disaster.the', 'running'), ('disaster.the', 'short'), ('disaster.the', 'order.i'), ('disaster.the', \"'m\"), ('disaster.the', 'ready'), ('disaster.the', 'set'), ('disaster.the', 'aside'), ('disaster.the', 'move'), ('disaster.the', 'back'), ('disaster.the', 'old'), ('disaster.the', 'friend'), ('disaster.the', \"n't\"), ('disaster.the', 'even'), ('disaster.the', 'batteries'), ('disaster.the', 'decade'), ('disaster.the', 'use'), ('disaster.the', 'coming'), ('disaster.the', 'home'), ('may', 'powerful'), ('may', 'using'), ('may', 'extremely'), ('may', 'counterintuitive'), ('may', '...'), ('may', 'manual'), ('may', 'sketchy'), ('may', 'best'), ('may', 'c'), ('may', 'hand'), ('may', 'need'), ('may', 'way'), ('may', 'makes'), ('may', 'good'), ('may', 'sense'), ('may', 'me.if'), ('may', 'looking'), ('may', 'solid'), ('may', 'reliable'), ('may', 'calculator'), ('may', \"'s\"), ('may', 'programmable'), ('may', 'basic'), ('may', 'statistics'), ('may', 'well'), ('may', 'business'), ('may', 'applications'), ('may', 'running'), ('may', 'short'), ('may', 'order.i'), ('may', \"'m\"), ('may', 'ready'), ('may', 'set'), ('may', 'aside'), ('may', 'move'), ('may', 'back'), ('may', 'old'), ('may', 'friend'), ('may', \"n't\"), ('may', 'even'), ('may', 'batteries'), ('may', 'decade'), ('may', 'use'), ('may', 'coming'), ('may', 'home'), ('powerful', 'using'), ('powerful', 'extremely'), ('powerful', 'counterintuitive'), ('powerful', '...'), ('powerful', 'manual'), ('powerful', 'sketchy'), ('powerful', 'best'), ('powerful', 'c'), ('powerful', 'hand'), ('powerful', 'need'), ('powerful', 'way'), ('powerful', 'makes'), ('powerful', 'good'), ('powerful', 'sense'), ('powerful', 'me.if'), ('powerful', 'looking'), ('powerful', 'solid'), ('powerful', 'reliable'), ('powerful', 'calculator'), ('powerful', \"'s\"), ('powerful', 'programmable'), ('powerful', 'basic'), ('powerful', 'statistics'), ('powerful', 'well'), ('powerful', 'business'), ('powerful', 'applications'), ('powerful', 'running'), ('powerful', 'short'), ('powerful', 'order.i'), ('powerful', \"'m\"), ('powerful', 'ready'), ('powerful', 'set'), ('powerful', 'aside'), ('powerful', 'move'), ('powerful', 'back'), ('powerful', 'old'), ('powerful', 'friend'), ('powerful', \"n't\"), ('powerful', 'even'), ('powerful', 'batteries'), ('powerful', 'decade'), ('powerful', 'use'), ('powerful', 'coming'), ('powerful', 'home'), ('using', 'extremely'), ('using', 'counterintuitive'), ('using', '...'), ('using', 'manual'), ('using', 'sketchy'), ('using', 'best'), ('using', 'c'), ('using', 'hand'), ('using', 'need'), ('using', 'way'), ('using', 'makes'), ('using', 'good'), ('using', 'sense'), ('using', 'me.if'), ('using', 'looking'), ('using', 'solid'), ('using', 'reliable'), ('using', 'calculator'), ('using', \"'s\"), ('using', 'programmable'), ('using', 'basic'), ('using', 'statistics'), ('using', 'well'), ('using', 'business'), ('using', 'applications'), ('using', 'running'), ('using', 'short'), ('using', 'order.i'), ('using', \"'m\"), ('using', 'ready'), ('using', 'set'), ('using', 'aside'), ('using', 'move'), ('using', 'back'), ('using', 'old'), ('using', 'friend'), ('using', \"n't\"), ('using', 'even'), ('using', 'batteries'), ('using', 'decade'), ('using', 'use'), ('using', 'coming'), ('using', 'home'), ('extremely', 'counterintuitive'), ('extremely', '...'), ('extremely', 'manual'), ('extremely', 'sketchy'), ('extremely', 'best'), ('extremely', 'c'), ('extremely', 'hand'), ('extremely', 'need'), ('extremely', 'way'), ('extremely', 'makes'), ('extremely', 'good'), ('extremely', 'sense'), ('extremely', 'me.if'), ('extremely', 'looking'), ('extremely', 'solid'), ('extremely', 'reliable'), ('extremely', 'calculator'), ('extremely', \"'s\"), ('extremely', 'programmable'), ('extremely', 'basic'), ('extremely', 'statistics'), ('extremely', 'well'), ('extremely', 'business'), ('extremely', 'applications'), ('extremely', 'running'), ('extremely', 'short'), ('extremely', 'order.i'), ('extremely', \"'m\"), ('extremely', 'ready'), ('extremely', 'set'), ('extremely', 'aside'), ('extremely', 'move'), ('extremely', 'back'), ('extremely', 'old'), ('extremely', 'friend'), ('extremely', \"n't\"), ('extremely', 'even'), ('extremely', 'batteries'), ('extremely', 'decade'), ('extremely', 'use'), ('extremely', 'coming'), ('extremely', 'home'), ('counterintuitive', '...'), ('counterintuitive', 'manual'), ('counterintuitive', 'sketchy'), ('counterintuitive', 'best'), ('counterintuitive', 'c'), ('counterintuitive', 'hand'), ('counterintuitive', 'need'), ('counterintuitive', 'way'), ('counterintuitive', 'makes'), ('counterintuitive', 'good'), ('counterintuitive', 'sense'), ('counterintuitive', 'me.if'), ('counterintuitive', 'looking'), ('counterintuitive', 'solid'), ('counterintuitive', 'reliable'), ('counterintuitive', 'calculator'), ('counterintuitive', \"'s\"), ('counterintuitive', 'programmable'), ('counterintuitive', 'basic'), ('counterintuitive', 'statistics'), ('counterintuitive', 'well'), ('counterintuitive', 'business'), ('counterintuitive', 'applications'), ('counterintuitive', 'running'), ('counterintuitive', 'short'), ('counterintuitive', 'order.i'), ('counterintuitive', \"'m\"), ('counterintuitive', 'ready'), ('counterintuitive', 'set'), ('counterintuitive', 'aside'), ('counterintuitive', 'move'), ('counterintuitive', 'back'), ('counterintuitive', 'old'), ('counterintuitive', 'friend'), ('counterintuitive', \"n't\"), ('counterintuitive', 'even'), ('counterintuitive', 'batteries'), ('counterintuitive', 'decade'), ('counterintuitive', 'use'), ('counterintuitive', 'coming'), ('counterintuitive', 'home'), ('...', 'manual'), ('...', 'sketchy'), ('...', 'best'), ('...', 'c'), ('...', 'hand'), ('...', 'need'), ('...', 'way'), ('...', 'makes'), ('...', 'good'), ('...', 'sense'), ('...', 'me.if'), ('...', 'looking'), ('...', 'solid'), ('...', 'reliable'), ('...', 'calculator'), ('...', \"'s\"), ('...', 'programmable'), ('...', 'basic'), ('...', 'statistics'), ('...', 'well'), ('...', 'business'), ('...', 'applications'), ('...', 'running'), ('...', 'short'), ('...', 'order.i'), ('...', \"'m\"), ('...', 'ready'), ('...', 'set'), ('...', 'aside'), ('...', 'move'), ('...', 'back'), ('...', 'old'), ('...', 'friend'), ('...', \"n't\"), ('...', 'even'), ('...', 'batteries'), ('...', 'decade'), ('...', 'use'), ('...', 'coming'), ('...', 'home'), ('manual', 'sketchy'), ('manual', 'best'), ('manual', 'c'), ('manual', 'hand'), ('manual', 'need'), ('manual', 'way'), ('manual', 'makes'), ('manual', 'good'), ('manual', 'sense'), ('manual', 'me.if'), ('manual', 'looking'), ('manual', 'solid'), ('manual', 'reliable'), ('manual', 'calculator'), ('manual', \"'s\"), ('manual', 'programmable'), ('manual', 'basic'), ('manual', 'statistics'), ('manual', 'well'), ('manual', 'business'), ('manual', 'applications'), ('manual', 'running'), ('manual', 'short'), ('manual', 'order.i'), ('manual', \"'m\"), ('manual', 'ready'), ('manual', 'set'), ('manual', 'aside'), ('manual', 'move'), ('manual', 'back'), ('manual', 'old'), ('manual', 'friend'), ('manual', \"n't\"), ('manual', 'even'), ('manual', 'batteries'), ('manual', 'decade'), ('manual', 'use'), ('manual', 'coming'), ('manual', 'home'), ('sketchy', 'best'), ('sketchy', 'c'), ('sketchy', 'hand'), ('sketchy', 'need'), ('sketchy', 'way'), ('sketchy', 'makes'), ('sketchy', 'good'), ('sketchy', 'sense'), ('sketchy', 'me.if'), ('sketchy', 'looking'), ('sketchy', 'solid'), ('sketchy', 'reliable'), ('sketchy', 'calculator'), ('sketchy', \"'s\"), ('sketchy', 'programmable'), ('sketchy', 'basic'), ('sketchy', 'statistics'), ('sketchy', 'well'), ('sketchy', 'business'), ('sketchy', 'applications'), ('sketchy', 'running'), ('sketchy', 'short'), ('sketchy', 'order.i'), ('sketchy', \"'m\"), ('sketchy', 'ready'), ('sketchy', 'set'), ('sketchy', 'aside'), ('sketchy', 'move'), ('sketchy', 'back'), ('sketchy', 'old'), ('sketchy', 'friend'), ('sketchy', \"n't\"), ('sketchy', 'even'), ('sketchy', 'batteries'), ('sketchy', 'decade'), ('sketchy', 'use'), ('sketchy', 'coming'), ('sketchy', 'home'), ('best', 'c'), ('best', 'hand'), ('best', 'need'), ('best', 'way'), ('best', 'makes'), ('best', 'good'), ('best', 'sense'), ('best', 'me.if'), ('best', 'looking'), ('best', 'solid'), ('best', 'reliable'), ('best', 'calculator'), ('best', \"'s\"), ('best', 'programmable'), ('best', 'basic'), ('best', 'statistics'), ('best', 'well'), ('best', 'business'), ('best', 'applications'), ('best', 'running'), ('best', 'short'), ('best', 'order.i'), ('best', \"'m\"), ('best', 'ready'), ('best', 'set'), ('best', 'aside'), ('best', 'move'), ('best', 'back'), ('best', 'old'), ('best', 'friend'), ('best', \"n't\"), ('best', 'even'), ('best', 'batteries'), ('best', 'decade'), ('best', 'use'), ('best', 'coming'), ('best', 'home'), ('c', 'hand'), ('c', 'need'), ('c', 'way'), ('c', 'makes'), ('c', 'good'), ('c', 'sense'), ('c', 'me.if'), ('c', 'looking'), ('c', 'solid'), ('c', 'reliable'), ('c', 'calculator'), ('c', \"'s\"), ('c', 'programmable'), ('c', 'basic'), ('c', 'statistics'), ('c', 'well'), ('c', 'business'), ('c', 'applications'), ('c', 'running'), ('c', 'short'), ('c', 'order.i'), ('c', \"'m\"), ('c', 'ready'), ('c', 'set'), ('c', 'aside'), ('c', 'move'), ('c', 'back'), ('c', 'old'), ('c', 'friend'), ('c', \"n't\"), ('c', 'even'), ('c', 'batteries'), ('c', 'decade'), ('c', 'use'), ('c', 'coming'), ('c', 'home'), ('hand', 'need'), ('hand', 'way'), ('hand', 'makes'), ('hand', 'good'), ('hand', 'sense'), ('hand', 'me.if'), ('hand', 'looking'), ('hand', 'solid'), ('hand', 'reliable'), ('hand', 'calculator'), ('hand', \"'s\"), ('hand', 'programmable'), ('hand', 'basic'), ('hand', 'statistics'), ('hand', 'well'), ('hand', 'business'), ('hand', 'applications'), ('hand', 'running'), ('hand', 'short'), ('hand', 'order.i'), ('hand', \"'m\"), ('hand', 'ready'), ('hand', 'set'), ('hand', 'aside'), ('hand', 'move'), ('hand', 'back'), ('hand', 'old'), ('hand', 'friend'), ('hand', \"n't\"), ('hand', 'even'), ('hand', 'batteries'), ('hand', 'decade'), ('hand', 'use'), ('hand', 'coming'), ('hand', 'home'), ('need', 'way'), ('need', 'makes'), ('need', 'good'), ('need', 'sense'), ('need', 'me.if'), ('need', 'looking'), ('need', 'solid'), ('need', 'reliable'), ('need', 'calculator'), ('need', \"'s\"), ('need', 'programmable'), ('need', 'basic'), ('need', 'statistics'), ('need', 'well'), ('need', 'business'), ('need', 'applications'), ('need', 'running'), ('need', 'short'), ('need', 'order.i'), ('need', \"'m\"), ('need', 'ready'), ('need', 'set'), ('need', 'aside'), ('need', 'move'), ('need', 'back'), ('need', 'old'), ('need', 'friend'), ('need', \"n't\"), ('need', 'even'), ('need', 'batteries'), ('need', 'decade'), ('need', 'use'), ('need', 'coming'), ('need', 'home'), ('way', 'makes'), ('way', 'good'), ('way', 'sense'), ('way', 'me.if'), ('way', 'looking'), ('way', 'solid'), ('way', 'reliable'), ('way', 'calculator'), ('way', \"'s\"), ('way', 'programmable'), ('way', 'basic'), ('way', 'statistics'), ('way', 'well'), ('way', 'business'), ('way', 'applications'), ('way', 'running'), ('way', 'short'), ('way', 'order.i'), ('way', \"'m\"), ('way', 'ready'), ('way', 'set'), ('way', 'aside'), ('way', 'move'), ('way', 'back'), ('way', 'old'), ('way', 'friend'), ('way', \"n't\"), ('way', 'even'), ('way', 'batteries'), ('way', 'decade'), ('way', 'use'), ('way', 'coming'), ('way', 'home'), ('makes', 'good'), ('makes', 'sense'), ('makes', 'me.if'), ('makes', 'looking'), ('makes', 'solid'), ('makes', 'reliable'), ('makes', 'calculator'), ('makes', \"'s\"), ('makes', 'programmable'), ('makes', 'basic'), ('makes', 'statistics'), ('makes', 'well'), ('makes', 'business'), ('makes', 'applications'), ('makes', 'running'), ('makes', 'short'), ('makes', 'order.i'), ('makes', \"'m\"), ('makes', 'ready'), ('makes', 'set'), ('makes', 'aside'), ('makes', 'move'), ('makes', 'back'), ('makes', 'old'), ('makes', 'friend'), ('makes', \"n't\"), ('makes', 'even'), ('makes', 'batteries'), ('makes', 'decade'), ('makes', 'use'), ('makes', 'coming'), ('makes', 'home'), ('good', 'sense'), ('good', 'me.if'), ('good', 'looking'), ('good', 'solid'), ('good', 'reliable'), ('good', 'calculator'), ('good', \"'s\"), ('good', 'programmable'), ('good', 'basic'), ('good', 'statistics'), ('good', 'well'), ('good', 'business'), ('good', 'applications'), ('good', 'running'), ('good', 'short'), ('good', 'order.i'), ('good', \"'m\"), ('good', 'ready'), ('good', 'set'), ('good', 'aside'), ('good', 'move'), ('good', 'back'), ('good', 'old'), ('good', 'friend'), ('good', \"n't\"), ('good', 'even'), ('good', 'batteries'), ('good', 'decade'), ('good', 'use'), ('good', 'coming'), ('good', 'home'), ('sense', 'me.if'), ('sense', 'looking'), ('sense', 'solid'), ('sense', 'reliable'), ('sense', 'calculator'), ('sense', \"'s\"), ('sense', 'programmable'), ('sense', 'basic'), ('sense', 'statistics'), ('sense', 'well'), ('sense', 'business'), ('sense', 'applications'), ('sense', 'running'), ('sense', 'short'), ('sense', 'order.i'), ('sense', \"'m\"), ('sense', 'ready'), ('sense', 'set'), ('sense', 'aside'), ('sense', 'move'), ('sense', 'back'), ('sense', 'old'), ('sense', 'friend'), ('sense', \"n't\"), ('sense', 'even'), ('sense', 'batteries'), ('sense', 'decade'), ('sense', 'use'), ('sense', 'coming'), ('sense', 'home'), ('me.if', 'looking'), ('me.if', 'solid'), ('me.if', 'reliable'), ('me.if', 'calculator'), ('me.if', \"'s\"), ('me.if', 'programmable'), ('me.if', 'basic'), ('me.if', 'statistics'), ('me.if', 'well'), ('me.if', 'business'), ('me.if', 'applications'), ('me.if', 'running'), ('me.if', 'short'), ('me.if', 'order.i'), ('me.if', \"'m\"), ('me.if', 'ready'), ('me.if', 'set'), ('me.if', 'aside'), ('me.if', 'move'), ('me.if', 'back'), ('me.if', 'old'), ('me.if', 'friend'), ('me.if', \"n't\"), ('me.if', 'even'), ('me.if', 'batteries'), ('me.if', 'decade'), ('me.if', 'use'), ('me.if', 'coming'), ('me.if', 'home'), ('looking', 'solid'), ('looking', 'reliable'), ('looking', 'calculator'), ('looking', \"'s\"), ('looking', 'programmable'), ('looking', 'basic'), ('looking', 'statistics'), ('looking', 'well'), ('looking', 'business'), ('looking', 'applications'), ('looking', 'running'), ('looking', 'short'), ('looking', 'order.i'), ('looking', \"'m\"), ('looking', 'ready'), ('looking', 'set'), ('looking', 'aside'), ('looking', 'move'), ('looking', 'back'), ('looking', 'old'), ('looking', 'friend'), ('looking', \"n't\"), ('looking', 'even'), ('looking', 'batteries'), ('looking', 'decade'), ('looking', 'use'), ('looking', 'coming'), ('looking', 'home'), ('solid', 'reliable'), ('solid', 'calculator'), ('solid', \"'s\"), ('solid', 'programmable'), ('solid', 'basic'), ('solid', 'statistics'), ('solid', 'well'), ('solid', 'business'), ('solid', 'applications'), ('solid', 'running'), ('solid', 'short'), ('solid', 'order.i'), ('solid', \"'m\"), ('solid', 'ready'), ('solid', 'set'), ('solid', 'aside'), ('solid', 'move'), ('solid', 'back'), ('solid', 'old'), ('solid', 'friend'), ('solid', \"n't\"), ('solid', 'even'), ('solid', 'batteries'), ('solid', 'decade'), ('solid', 'use'), ('solid', 'coming'), ('solid', 'home'), ('reliable', 'calculator'), ('reliable', \"'s\"), ('reliable', 'programmable'), ('reliable', 'basic'), ('reliable', 'statistics'), ('reliable', 'well'), ('reliable', 'business'), ('reliable', 'applications'), ('reliable', 'running'), ('reliable', 'short'), ('reliable', 'order.i'), ('reliable', \"'m\"), ('reliable', 'ready'), ('reliable', 'set'), ('reliable', 'aside'), ('reliable', 'move'), ('reliable', 'back'), ('reliable', 'old'), ('reliable', 'friend'), ('reliable', \"n't\"), ('reliable', 'even'), ('reliable', 'batteries'), ('reliable', 'decade'), ('reliable', 'use'), ('reliable', 'coming'), ('reliable', 'home'), ('calculator', \"'s\"), ('calculator', 'programmable'), ('calculator', 'basic'), ('calculator', 'statistics'), ('calculator', 'well'), ('calculator', 'business'), ('calculator', 'applications'), ('calculator', 'running'), ('calculator', 'short'), ('calculator', 'order.i'), ('calculator', \"'m\"), ('calculator', 'ready'), ('calculator', 'set'), ('calculator', 'aside'), ('calculator', 'move'), ('calculator', 'back'), ('calculator', 'old'), ('calculator', 'friend'), ('calculator', \"n't\"), ('calculator', 'even'), ('calculator', 'batteries'), ('calculator', 'decade'), ('calculator', 'use'), ('calculator', 'coming'), ('calculator', 'home'), (\"'s\", 'programmable'), (\"'s\", 'basic'), (\"'s\", 'statistics'), (\"'s\", 'well'), (\"'s\", 'business'), (\"'s\", 'applications'), (\"'s\", 'running'), (\"'s\", 'short'), (\"'s\", 'order.i'), (\"'s\", \"'m\"), (\"'s\", 'ready'), (\"'s\", 'set'), (\"'s\", 'aside'), (\"'s\", 'move'), (\"'s\", 'back'), (\"'s\", 'old'), (\"'s\", 'friend'), (\"'s\", \"n't\"), (\"'s\", 'even'), (\"'s\", 'batteries'), (\"'s\", 'decade'), (\"'s\", 'use'), (\"'s\", 'coming'), (\"'s\", 'home'), ('programmable', 'basic'), ('programmable', 'statistics'), ('programmable', 'well'), ('programmable', 'business'), ('programmable', 'applications'), ('programmable', 'running'), ('programmable', 'short'), ('programmable', 'order.i'), ('programmable', \"'m\"), ('programmable', 'ready'), ('programmable', 'set'), ('programmable', 'aside'), ('programmable', 'move'), ('programmable', 'back'), ('programmable', 'old'), ('programmable', 'friend'), ('programmable', \"n't\"), ('programmable', 'even'), ('programmable', 'batteries'), ('programmable', 'decade'), ('programmable', 'use'), ('programmable', 'coming'), ('programmable', 'home'), ('basic', 'statistics'), ('basic', 'well'), ('basic', 'business'), ('basic', 'applications'), ('basic', 'running'), ('basic', 'short'), ('basic', 'order.i'), ('basic', \"'m\"), ('basic', 'ready'), ('basic', 'set'), ('basic', 'aside'), ('basic', 'move'), ('basic', 'back'), ('basic', 'old'), ('basic', 'friend'), ('basic', \"n't\"), ('basic', 'even'), ('basic', 'batteries'), ('basic', 'decade'), ('basic', 'use'), ('basic', 'coming'), ('basic', 'home'), ('statistics', 'well'), ('statistics', 'business'), ('statistics', 'applications'), ('statistics', 'running'), ('statistics', 'short'), ('statistics', 'order.i'), ('statistics', \"'m\"), ('statistics', 'ready'), ('statistics', 'set'), ('statistics', 'aside'), ('statistics', 'move'), ('statistics', 'back'), ('statistics', 'old'), ('statistics', 'friend'), ('statistics', \"n't\"), ('statistics', 'even'), ('statistics', 'batteries'), ('statistics', 'decade'), ('statistics', 'use'), ('statistics', 'coming'), ('statistics', 'home'), ('well', 'business'), ('well', 'applications'), ('well', 'running'), ('well', 'short'), ('well', 'order.i'), ('well', \"'m\"), ('well', 'ready'), ('well', 'set'), ('well', 'aside'), ('well', 'move'), ('well', 'back'), ('well', 'old'), ('well', 'friend'), ('well', \"n't\"), ('well', 'even'), ('well', 'batteries'), ('well', 'decade'), ('well', 'use'), ('well', 'coming'), ('well', 'home'), ('business', 'applications'), ('business', 'running'), ('business', 'short'), ('business', 'order.i'), ('business', \"'m\"), ('business', 'ready'), ('business', 'set'), ('business', 'aside'), ('business', 'move'), ('business', 'back'), ('business', 'old'), ('business', 'friend'), ('business', \"n't\"), ('business', 'even'), ('business', 'batteries'), ('business', 'decade'), ('business', 'use'), ('business', 'coming'), ('business', 'home'), ('applications', 'running'), ('applications', 'short'), ('applications', 'order.i'), ('applications', \"'m\"), ('applications', 'ready'), ('applications', 'set'), ('applications', 'aside'), ('applications', 'move'), ('applications', 'back'), ('applications', 'old'), ('applications', 'friend'), ('applications', \"n't\"), ('applications', 'even'), ('applications', 'batteries'), ('applications', 'decade'), ('applications', 'use'), ('applications', 'coming'), ('applications', 'home'), ('running', 'short'), ('running', 'order.i'), ('running', \"'m\"), ('running', 'ready'), ('running', 'set'), ('running', 'aside'), ('running', 'move'), ('running', 'back'), ('running', 'old'), ('running', 'friend'), ('running', \"n't\"), ('running', 'even'), ('running', 'batteries'), ('running', 'decade'), ('running', 'use'), ('running', 'coming'), ('running', 'home'), ('short', 'order.i'), ('short', \"'m\"), ('short', 'ready'), ('short', 'set'), ('short', 'aside'), ('short', 'move'), ('short', 'back'), ('short', 'old'), ('short', 'friend'), ('short', \"n't\"), ('short', 'even'), ('short', 'batteries'), ('short', 'decade'), ('short', 'use'), ('short', 'coming'), ('short', 'home'), ('order.i', \"'m\"), ('order.i', 'ready'), ('order.i', 'set'), ('order.i', 'aside'), ('order.i', 'move'), ('order.i', 'back'), ('order.i', 'old'), ('order.i', 'friend'), ('order.i', \"n't\"), ('order.i', 'even'), ('order.i', 'batteries'), ('order.i', 'decade'), ('order.i', 'use'), ('order.i', 'coming'), ('order.i', 'home'), (\"'m\", 'ready'), (\"'m\", 'set'), (\"'m\", 'aside'), (\"'m\", 'move'), (\"'m\", 'back'), (\"'m\", 'old'), (\"'m\", 'friend'), (\"'m\", \"n't\"), (\"'m\", 'even'), (\"'m\", 'batteries'), (\"'m\", 'decade'), (\"'m\", 'use'), (\"'m\", 'coming'), (\"'m\", 'home'), ('ready', 'set'), ('ready', 'aside'), ('ready', 'move'), ('ready', 'back'), ('ready', 'old'), ('ready', 'friend'), ('ready', \"n't\"), ('ready', 'even'), ('ready', 'batteries'), ('ready', 'decade'), ('ready', 'use'), ('ready', 'coming'), ('ready', 'home'), ('set', 'aside'), ('set', 'move'), ('set', 'back'), ('set', 'old'), ('set', 'friend'), ('set', \"n't\"), ('set', 'even'), ('set', 'batteries'), ('set', 'decade'), ('set', 'use'), ('set', 'coming'), ('set', 'home'), ('aside', 'move'), ('aside', 'back'), ('aside', 'old'), ('aside', 'friend'), ('aside', \"n't\"), ('aside', 'even'), ('aside', 'batteries'), ('aside', 'decade'), ('aside', 'use'), ('aside', 'coming'), ('aside', 'home'), ('move', 'back'), ('move', 'old'), ('move', 'friend'), ('move', \"n't\"), ('move', 'even'), ('move', 'batteries'), ('move', 'decade'), ('move', 'use'), ('move', 'coming'), ('move', 'home'), ('back', 'old'), ('back', 'friend'), ('back', \"n't\"), ('back', 'even'), ('back', 'batteries'), ('back', 'decade'), ('back', 'use'), ('back', 'coming'), ('back', 'home'), ('old', 'friend'), ('old', \"n't\"), ('old', 'even'), ('old', 'batteries'), ('old', 'decade'), ('old', 'use'), ('old', 'coming'), ('old', 'home'), ('friend', \"n't\"), ('friend', 'even'), ('friend', 'batteries'), ('friend', 'decade'), ('friend', 'use'), ('friend', 'coming'), ('friend', 'home'), (\"n't\", 'even'), (\"n't\", 'batteries'), (\"n't\", 'decade'), (\"n't\", 'use'), (\"n't\", 'coming'), (\"n't\", 'home'), ('even', 'batteries'), ('even', 'decade'), ('even', 'use'), ('even', 'coming'), ('even', 'home'), ('batteries', 'decade'), ('batteries', 'use'), ('batteries', 'coming'), ('batteries', 'home'), ('decade', 'use'), ('decade', 'coming'), ('decade', 'home'), ('use', 'coming'), ('use', 'home'), ('coming', 'home')]\n"
          ],
          "name": "stdout"
        }
      ]
    },
    {
      "cell_type": "code",
      "metadata": {
        "id": "Y3BYm71mr13z",
        "colab_type": "code",
        "colab": {
          "base_uri": "https://localhost:8080/",
          "height": 199
        },
        "outputId": "cc091274-a708-4e62-866e-c810884fddd8"
      },
      "source": [
        "pairs_df = pd.DataFrame(pairs, columns=['Word1', 'Word2'])      ## storing the combinations/tuples as dataframe\n",
        "pairs_df.head() "
      ],
      "execution_count": 14,
      "outputs": [
        {
          "output_type": "execute_result",
          "data": {
            "text/html": [
              "<div>\n",
              "<style scoped>\n",
              "    .dataframe tbody tr th:only-of-type {\n",
              "        vertical-align: middle;\n",
              "    }\n",
              "\n",
              "    .dataframe tbody tr th {\n",
              "        vertical-align: top;\n",
              "    }\n",
              "\n",
              "    .dataframe thead th {\n",
              "        text-align: right;\n",
              "    }\n",
              "</style>\n",
              "<table border=\"1\" class=\"dataframe\">\n",
              "  <thead>\n",
              "    <tr style=\"text-align: right;\">\n",
              "      <th></th>\n",
              "      <th>Word1</th>\n",
              "      <th>Word2</th>\n",
              "    </tr>\n",
              "  </thead>\n",
              "  <tbody>\n",
              "    <tr>\n",
              "      <th>0</th>\n",
              "      <td>bought</td>\n",
              "      <td>first</td>\n",
              "    </tr>\n",
              "    <tr>\n",
              "      <th>1</th>\n",
              "      <td>bought</td>\n",
              "      <td>hpc</td>\n",
              "    </tr>\n",
              "    <tr>\n",
              "      <th>2</th>\n",
              "      <td>bought</td>\n",
              "      <td>served</td>\n",
              "    </tr>\n",
              "    <tr>\n",
              "      <th>3</th>\n",
              "      <td>bought</td>\n",
              "      <td>faithfully</td>\n",
              "    </tr>\n",
              "    <tr>\n",
              "      <th>4</th>\n",
              "      <td>bought</td>\n",
              "      <td>lost</td>\n",
              "    </tr>\n",
              "  </tbody>\n",
              "</table>\n",
              "</div>"
            ],
            "text/plain": [
              "    Word1       Word2\n",
              "0  bought       first\n",
              "1  bought         hpc\n",
              "2  bought      served\n",
              "3  bought  faithfully\n",
              "4  bought        lost"
            ]
          },
          "metadata": {
            "tags": []
          },
          "execution_count": 14
        }
      ]
    },
    {
      "cell_type": "code",
      "metadata": {
        "id": "njtI4Sb-tYnU",
        "colab_type": "code",
        "colab": {},
        "cellView": "form"
      },
      "source": [
        "#@title\n",
        "'''def sim_score(w1, w2):\n",
        "  return model.similarity(w1, w2)\n",
        "\n",
        "import numpy as np\n",
        "def cos_sim(w1, w2):\n",
        "  cosine_similarity = np.dot(model[w1], model[w2])/(np.linalg.norm(model[w1])* numpy.linalg.norm(model[w2]))\n",
        "  return cosine_similarity'''"
      ],
      "execution_count": 0,
      "outputs": []
    },
    {
      "cell_type": "code",
      "metadata": {
        "id": "ErBFre-Ev_7i",
        "colab_type": "code",
        "colab": {},
        "cellView": "form"
      },
      "source": [
        "#@title\n",
        "'''pairs_df['Similarity Score'] = np.vectorize(cos_sim)(pairs_df['Word1'], pairs_df['Word2'])'''"
      ],
      "execution_count": 0,
      "outputs": []
    },
    {
      "cell_type": "code",
      "metadata": {
        "id": "9yHBzhXSwOKv",
        "colab_type": "code",
        "colab": {
          "base_uri": "https://localhost:8080/",
          "height": 55
        },
        "outputId": "2608e708-445f-4c71-8358-eb3bcb3aeefd"
      },
      "source": [
        "bagofwords = [[i] for i in unique]\n",
        "model1 = Word2Vec(list(bagofwords), min_count=1,size= 50,workers=3, window =3, sg = 1)\n",
        "print(bagofwords)"
      ],
      "execution_count": 15,
      "outputs": [
        {
          "output_type": "stream",
          "text": [
            "[['bought'], ['first'], ['hpc'], ['served'], ['faithfully'], ['lost'], ['travelling'], ['searched'], ['another'], ['one'], ['replace'], ['found'], ['difficult'], ['come'], ['area'], ['decided'], ['buy'], ['purchased'], ['hp'], ['g'], ['mistake'], ['know'], ['many'], ['people'], ['view'], ['('], ['g+'], [')'], ['flagship'], ['line'], ['disaster.the'], ['may'], ['powerful'], ['using'], ['extremely'], ['counterintuitive'], ['...'], ['manual'], ['sketchy'], ['best'], ['c'], ['hand'], ['need'], ['way'], ['makes'], ['good'], ['sense'], ['me.if'], ['looking'], ['solid'], ['reliable'], ['calculator'], [\"'s\"], ['programmable'], ['basic'], ['statistics'], ['well'], ['business'], ['applications'], ['running'], ['short'], ['order.i'], [\"'m\"], ['ready'], ['set'], ['aside'], ['move'], ['back'], ['old'], ['friend'], [\"n't\"], ['even'], ['batteries'], ['decade'], ['use'], ['coming'], ['home']]\n"
          ],
          "name": "stdout"
        }
      ]
    },
    {
      "cell_type": "code",
      "metadata": {
        "id": "jCMNskBJEwE9",
        "colab_type": "code",
        "colab": {}
      },
      "source": [
        "vocabulary = model1.wv.vocab\n",
        "def sim_score(w1, w2):\n",
        "  return model1.wv.similarity(w1, w2)             # calculating similarity b/w 2 words"
      ],
      "execution_count": 0,
      "outputs": []
    },
    {
      "cell_type": "code",
      "metadata": {
        "id": "tSerhdZvFeEE",
        "colab_type": "code",
        "colab": {
          "base_uri": "https://localhost:8080/",
          "height": 72
        },
        "outputId": "e2cf5fa3-395d-4f62-89fe-80f236bca676"
      },
      "source": [
        "import numpy as np\n",
        "pairs_df['Similarity Score'] = np.vectorize(sim_score)(pairs_df['Word1'], pairs_df['Word2'])\n",
        "# finding similarity score for each combination"
      ],
      "execution_count": 17,
      "outputs": [
        {
          "output_type": "stream",
          "text": [
            "/usr/local/lib/python3.6/dist-packages/gensim/matutils.py:737: FutureWarning: Conversion of the second argument of issubdtype from `int` to `np.signedinteger` is deprecated. In future, it will be treated as `np.int64 == np.dtype(int).type`.\n",
            "  if np.issubdtype(vec.dtype, np.int):\n"
          ],
          "name": "stderr"
        }
      ]
    },
    {
      "cell_type": "code",
      "metadata": {
        "id": "0cRGAIvGIHJb",
        "colab_type": "code",
        "colab": {
          "base_uri": "https://localhost:8080/",
          "height": 199
        },
        "outputId": "6f243af8-4bac-4bcd-e1b4-079e1ed3bf5d"
      },
      "source": [
        "pairs_df.head()"
      ],
      "execution_count": 18,
      "outputs": [
        {
          "output_type": "execute_result",
          "data": {
            "text/html": [
              "<div>\n",
              "<style scoped>\n",
              "    .dataframe tbody tr th:only-of-type {\n",
              "        vertical-align: middle;\n",
              "    }\n",
              "\n",
              "    .dataframe tbody tr th {\n",
              "        vertical-align: top;\n",
              "    }\n",
              "\n",
              "    .dataframe thead th {\n",
              "        text-align: right;\n",
              "    }\n",
              "</style>\n",
              "<table border=\"1\" class=\"dataframe\">\n",
              "  <thead>\n",
              "    <tr style=\"text-align: right;\">\n",
              "      <th></th>\n",
              "      <th>Word1</th>\n",
              "      <th>Word2</th>\n",
              "      <th>Similarity Score</th>\n",
              "    </tr>\n",
              "  </thead>\n",
              "  <tbody>\n",
              "    <tr>\n",
              "      <th>0</th>\n",
              "      <td>bought</td>\n",
              "      <td>first</td>\n",
              "      <td>0.009798</td>\n",
              "    </tr>\n",
              "    <tr>\n",
              "      <th>1</th>\n",
              "      <td>bought</td>\n",
              "      <td>hpc</td>\n",
              "      <td>-0.197298</td>\n",
              "    </tr>\n",
              "    <tr>\n",
              "      <th>2</th>\n",
              "      <td>bought</td>\n",
              "      <td>served</td>\n",
              "      <td>-0.096991</td>\n",
              "    </tr>\n",
              "    <tr>\n",
              "      <th>3</th>\n",
              "      <td>bought</td>\n",
              "      <td>faithfully</td>\n",
              "      <td>0.019584</td>\n",
              "    </tr>\n",
              "    <tr>\n",
              "      <th>4</th>\n",
              "      <td>bought</td>\n",
              "      <td>lost</td>\n",
              "      <td>0.051421</td>\n",
              "    </tr>\n",
              "  </tbody>\n",
              "</table>\n",
              "</div>"
            ],
            "text/plain": [
              "    Word1       Word2  Similarity Score\n",
              "0  bought       first          0.009798\n",
              "1  bought         hpc         -0.197298\n",
              "2  bought      served         -0.096991\n",
              "3  bought  faithfully          0.019584\n",
              "4  bought        lost          0.051421"
            ]
          },
          "metadata": {
            "tags": []
          },
          "execution_count": 18
        }
      ]
    }
  ]
}