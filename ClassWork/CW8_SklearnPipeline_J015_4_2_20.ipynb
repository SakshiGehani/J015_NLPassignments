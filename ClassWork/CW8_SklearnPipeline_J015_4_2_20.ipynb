{
  "nbformat": 4,
  "nbformat_minor": 0,
  "metadata": {
    "colab": {
      "name": "CW8_SklearnPipeline_J015_4/2/20.ipynb",
      "provenance": [],
      "authorship_tag": "ABX9TyMu5R2PPKWjw9wXTt7Amjkz",
      "include_colab_link": true
    },
    "kernelspec": {
      "name": "python3",
      "display_name": "Python 3"
    },
    "accelerator": "GPU"
  },
  "cells": [
    {
      "cell_type": "markdown",
      "metadata": {
        "id": "view-in-github",
        "colab_type": "text"
      },
      "source": [
        "<a href=\"https://colab.research.google.com/github/SakshiGehani/J015_NLPassignments/blob/ClassWork/CW8_SklearnPipeline_J015_4_2_20.ipynb\" target=\"_parent\"><img src=\"https://colab.research.google.com/assets/colab-badge.svg\" alt=\"Open In Colab\"/></a>"
      ]
    },
    {
      "cell_type": "code",
      "metadata": {
        "id": "wBKTeYdfGEvB",
        "colab_type": "code",
        "outputId": "338ea699-739d-4c57-c14e-67891478c4b1",
        "colab": {
          "resources": {
            "http://localhost:8080/nbextensions/google.colab/files.js": {
              "data": "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",
              "ok": true,
              "headers": [
                [
                  "content-type",
                  "application/javascript"
                ]
              ],
              "status": 200,
              "status_text": ""
            }
          },
          "base_uri": "https://localhost:8080/",
          "height": 75
        }
      },
      "source": [
        "import pandas as pd\n",
        "\n",
        "from google.colab import files\n",
        "uploaded = files.upload()"
      ],
      "execution_count": 0,
      "outputs": [
        {
          "output_type": "display_data",
          "data": {
            "text/html": [
              "\n",
              "     <input type=\"file\" id=\"files-fa1e263b-37cf-4e3c-870d-0ebe4e44ebdc\" name=\"files[]\" multiple disabled />\n",
              "     <output id=\"result-fa1e263b-37cf-4e3c-870d-0ebe4e44ebdc\">\n",
              "      Upload widget is only available when the cell has been executed in the\n",
              "      current browser session. Please rerun this cell to enable.\n",
              "      </output>\n",
              "      <script src=\"/nbextensions/google.colab/files.js\"></script> "
            ],
            "text/plain": [
              "<IPython.core.display.HTML object>"
            ]
          },
          "metadata": {
            "tags": []
          }
        },
        {
          "output_type": "stream",
          "text": [
            "Saving Womens Clothing E-Commerce Reviews.csv to Womens Clothing E-Commerce Reviews.csv\n"
          ],
          "name": "stdout"
        }
      ]
    },
    {
      "cell_type": "code",
      "metadata": {
        "id": "vXp1MFhjJplg",
        "colab_type": "code",
        "colab": {}
      },
      "source": [
        "import io\n",
        "df = pd.read_csv(io.BytesIO(uploaded['Womens Clothing E-Commerce Reviews.csv']))"
      ],
      "execution_count": 0,
      "outputs": []
    },
    {
      "cell_type": "code",
      "metadata": {
        "id": "BUWXauoBSUm5",
        "colab_type": "code",
        "outputId": "e1ff9b69-2a9a-424b-d479-6ebae36a92ae",
        "colab": {
          "base_uri": "https://localhost:8080/",
          "height": 252
        }
      },
      "source": [
        "df.head()"
      ],
      "execution_count": 0,
      "outputs": [
        {
          "output_type": "execute_result",
          "data": {
            "text/html": [
              "<div>\n",
              "<style scoped>\n",
              "    .dataframe tbody tr th:only-of-type {\n",
              "        vertical-align: middle;\n",
              "    }\n",
              "\n",
              "    .dataframe tbody tr th {\n",
              "        vertical-align: top;\n",
              "    }\n",
              "\n",
              "    .dataframe thead th {\n",
              "        text-align: right;\n",
              "    }\n",
              "</style>\n",
              "<table border=\"1\" class=\"dataframe\">\n",
              "  <thead>\n",
              "    <tr style=\"text-align: right;\">\n",
              "      <th></th>\n",
              "      <th>Unnamed: 0</th>\n",
              "      <th>Clothing ID</th>\n",
              "      <th>Age</th>\n",
              "      <th>Title</th>\n",
              "      <th>Review Text</th>\n",
              "      <th>Rating</th>\n",
              "      <th>Recommended IND</th>\n",
              "      <th>Positive Feedback Count</th>\n",
              "      <th>Division Name</th>\n",
              "      <th>Department Name</th>\n",
              "      <th>Class Name</th>\n",
              "    </tr>\n",
              "  </thead>\n",
              "  <tbody>\n",
              "    <tr>\n",
              "      <th>0</th>\n",
              "      <td>0</td>\n",
              "      <td>767</td>\n",
              "      <td>33</td>\n",
              "      <td>NaN</td>\n",
              "      <td>Absolutely wonderful - silky and sexy and comf...</td>\n",
              "      <td>4</td>\n",
              "      <td>1</td>\n",
              "      <td>0</td>\n",
              "      <td>Initmates</td>\n",
              "      <td>Intimate</td>\n",
              "      <td>Intimates</td>\n",
              "    </tr>\n",
              "    <tr>\n",
              "      <th>1</th>\n",
              "      <td>1</td>\n",
              "      <td>1080</td>\n",
              "      <td>34</td>\n",
              "      <td>NaN</td>\n",
              "      <td>Love this dress!  it's sooo pretty.  i happene...</td>\n",
              "      <td>5</td>\n",
              "      <td>1</td>\n",
              "      <td>4</td>\n",
              "      <td>General</td>\n",
              "      <td>Dresses</td>\n",
              "      <td>Dresses</td>\n",
              "    </tr>\n",
              "    <tr>\n",
              "      <th>2</th>\n",
              "      <td>2</td>\n",
              "      <td>1077</td>\n",
              "      <td>60</td>\n",
              "      <td>Some major design flaws</td>\n",
              "      <td>I had such high hopes for this dress and reall...</td>\n",
              "      <td>3</td>\n",
              "      <td>0</td>\n",
              "      <td>0</td>\n",
              "      <td>General</td>\n",
              "      <td>Dresses</td>\n",
              "      <td>Dresses</td>\n",
              "    </tr>\n",
              "    <tr>\n",
              "      <th>3</th>\n",
              "      <td>3</td>\n",
              "      <td>1049</td>\n",
              "      <td>50</td>\n",
              "      <td>My favorite buy!</td>\n",
              "      <td>I love, love, love this jumpsuit. it's fun, fl...</td>\n",
              "      <td>5</td>\n",
              "      <td>1</td>\n",
              "      <td>0</td>\n",
              "      <td>General Petite</td>\n",
              "      <td>Bottoms</td>\n",
              "      <td>Pants</td>\n",
              "    </tr>\n",
              "    <tr>\n",
              "      <th>4</th>\n",
              "      <td>4</td>\n",
              "      <td>847</td>\n",
              "      <td>47</td>\n",
              "      <td>Flattering shirt</td>\n",
              "      <td>This shirt is very flattering to all due to th...</td>\n",
              "      <td>5</td>\n",
              "      <td>1</td>\n",
              "      <td>6</td>\n",
              "      <td>General</td>\n",
              "      <td>Tops</td>\n",
              "      <td>Blouses</td>\n",
              "    </tr>\n",
              "  </tbody>\n",
              "</table>\n",
              "</div>"
            ],
            "text/plain": [
              "   Unnamed: 0  Clothing ID  Age  ...   Division Name Department Name  Class Name\n",
              "0           0          767   33  ...       Initmates        Intimate   Intimates\n",
              "1           1         1080   34  ...         General         Dresses     Dresses\n",
              "2           2         1077   60  ...         General         Dresses     Dresses\n",
              "3           3         1049   50  ...  General Petite         Bottoms       Pants\n",
              "4           4          847   47  ...         General            Tops     Blouses\n",
              "\n",
              "[5 rows x 11 columns]"
            ]
          },
          "metadata": {
            "tags": []
          },
          "execution_count": 6
        }
      ]
    },
    {
      "cell_type": "code",
      "metadata": {
        "id": "1lF80jBiSzRM",
        "colab_type": "code",
        "colab": {}
      },
      "source": [
        "#df.columns\n",
        "df = df.drop([\"Unnamed: 0\"], 1)"
      ],
      "execution_count": 0,
      "outputs": []
    },
    {
      "cell_type": "code",
      "metadata": {
        "id": "aYI6EU-7TFsy",
        "colab_type": "code",
        "outputId": "24c4b094-52a7-44c9-a067-ff29c54afd81",
        "colab": {
          "base_uri": "https://localhost:8080/",
          "height": 200
        }
      },
      "source": [
        "df.head()     ## possible target variables: Recommended(Binary classi.), rating(Multivariate classification)-- in that case remove 'recommended', coz it is a derived feature=>model becomes biased\n"
      ],
      "execution_count": 0,
      "outputs": [
        {
          "output_type": "execute_result",
          "data": {
            "text/html": [
              "<div>\n",
              "<style scoped>\n",
              "    .dataframe tbody tr th:only-of-type {\n",
              "        vertical-align: middle;\n",
              "    }\n",
              "\n",
              "    .dataframe tbody tr th {\n",
              "        vertical-align: top;\n",
              "    }\n",
              "\n",
              "    .dataframe thead th {\n",
              "        text-align: right;\n",
              "    }\n",
              "</style>\n",
              "<table border=\"1\" class=\"dataframe\">\n",
              "  <thead>\n",
              "    <tr style=\"text-align: right;\">\n",
              "      <th></th>\n",
              "      <th>Clothing ID</th>\n",
              "      <th>Age</th>\n",
              "      <th>Title</th>\n",
              "      <th>Review Text</th>\n",
              "      <th>Rating</th>\n",
              "      <th>Recommended IND</th>\n",
              "      <th>Positive Feedback Count</th>\n",
              "      <th>Division Name</th>\n",
              "      <th>Department Name</th>\n",
              "      <th>Class Name</th>\n",
              "    </tr>\n",
              "  </thead>\n",
              "  <tbody>\n",
              "    <tr>\n",
              "      <th>0</th>\n",
              "      <td>767</td>\n",
              "      <td>33</td>\n",
              "      <td>NaN</td>\n",
              "      <td>Absolutely wonderful - silky and sexy and comf...</td>\n",
              "      <td>4</td>\n",
              "      <td>1</td>\n",
              "      <td>0</td>\n",
              "      <td>Initmates</td>\n",
              "      <td>Intimate</td>\n",
              "      <td>Intimates</td>\n",
              "    </tr>\n",
              "    <tr>\n",
              "      <th>1</th>\n",
              "      <td>1080</td>\n",
              "      <td>34</td>\n",
              "      <td>NaN</td>\n",
              "      <td>Love this dress!  it's sooo pretty.  i happene...</td>\n",
              "      <td>5</td>\n",
              "      <td>1</td>\n",
              "      <td>4</td>\n",
              "      <td>General</td>\n",
              "      <td>Dresses</td>\n",
              "      <td>Dresses</td>\n",
              "    </tr>\n",
              "    <tr>\n",
              "      <th>2</th>\n",
              "      <td>1077</td>\n",
              "      <td>60</td>\n",
              "      <td>Some major design flaws</td>\n",
              "      <td>I had such high hopes for this dress and reall...</td>\n",
              "      <td>3</td>\n",
              "      <td>0</td>\n",
              "      <td>0</td>\n",
              "      <td>General</td>\n",
              "      <td>Dresses</td>\n",
              "      <td>Dresses</td>\n",
              "    </tr>\n",
              "    <tr>\n",
              "      <th>3</th>\n",
              "      <td>1049</td>\n",
              "      <td>50</td>\n",
              "      <td>My favorite buy!</td>\n",
              "      <td>I love, love, love this jumpsuit. it's fun, fl...</td>\n",
              "      <td>5</td>\n",
              "      <td>1</td>\n",
              "      <td>0</td>\n",
              "      <td>General Petite</td>\n",
              "      <td>Bottoms</td>\n",
              "      <td>Pants</td>\n",
              "    </tr>\n",
              "    <tr>\n",
              "      <th>4</th>\n",
              "      <td>847</td>\n",
              "      <td>47</td>\n",
              "      <td>Flattering shirt</td>\n",
              "      <td>This shirt is very flattering to all due to th...</td>\n",
              "      <td>5</td>\n",
              "      <td>1</td>\n",
              "      <td>6</td>\n",
              "      <td>General</td>\n",
              "      <td>Tops</td>\n",
              "      <td>Blouses</td>\n",
              "    </tr>\n",
              "  </tbody>\n",
              "</table>\n",
              "</div>"
            ],
            "text/plain": [
              "   Clothing ID  Age  ... Department Name Class Name\n",
              "0          767   33  ...        Intimate  Intimates\n",
              "1         1080   34  ...         Dresses    Dresses\n",
              "2         1077   60  ...         Dresses    Dresses\n",
              "3         1049   50  ...         Bottoms      Pants\n",
              "4          847   47  ...            Tops    Blouses\n",
              "\n",
              "[5 rows x 10 columns]"
            ]
          },
          "metadata": {
            "tags": []
          },
          "execution_count": 8
        }
      ]
    },
    {
      "cell_type": "code",
      "metadata": {
        "id": "a88uPfqCUfX-",
        "colab_type": "code",
        "colab": {}
      },
      "source": [
        "# Concating title and rev text\n",
        "#df['Review'] = df[['Title', 'Review Text']].apply(lambda x: ''.join(x), axis=1)\n",
        "rev = df['Title'].astype(str) + \" \" + df['Review Text']\n",
        "df.insert(4, \"Review\", rev)"
      ],
      "execution_count": 0,
      "outputs": []
    },
    {
      "cell_type": "code",
      "metadata": {
        "id": "uMjv7AGEbRTl",
        "colab_type": "code",
        "colab": {}
      },
      "source": [
        "df.Review = df.Review.astype(str)"
      ],
      "execution_count": 0,
      "outputs": []
    },
    {
      "cell_type": "code",
      "metadata": {
        "id": "eJ9obADlYQdQ",
        "colab_type": "code",
        "outputId": "01cca984-9edf-4a72-d23e-05d191ab5372",
        "colab": {
          "base_uri": "https://localhost:8080/",
          "height": 304
        }
      },
      "source": [
        "df.head()"
      ],
      "execution_count": 0,
      "outputs": [
        {
          "output_type": "execute_result",
          "data": {
            "text/html": [
              "<div>\n",
              "<style scoped>\n",
              "    .dataframe tbody tr th:only-of-type {\n",
              "        vertical-align: middle;\n",
              "    }\n",
              "\n",
              "    .dataframe tbody tr th {\n",
              "        vertical-align: top;\n",
              "    }\n",
              "\n",
              "    .dataframe thead th {\n",
              "        text-align: right;\n",
              "    }\n",
              "</style>\n",
              "<table border=\"1\" class=\"dataframe\">\n",
              "  <thead>\n",
              "    <tr style=\"text-align: right;\">\n",
              "      <th></th>\n",
              "      <th>Clothing ID</th>\n",
              "      <th>Age</th>\n",
              "      <th>Title</th>\n",
              "      <th>Review Text</th>\n",
              "      <th>Review</th>\n",
              "      <th>Rating</th>\n",
              "      <th>Recommended IND</th>\n",
              "      <th>Positive Feedback Count</th>\n",
              "      <th>Division Name</th>\n",
              "      <th>Department Name</th>\n",
              "      <th>Class Name</th>\n",
              "    </tr>\n",
              "  </thead>\n",
              "  <tbody>\n",
              "    <tr>\n",
              "      <th>0</th>\n",
              "      <td>767</td>\n",
              "      <td>33</td>\n",
              "      <td>NaN</td>\n",
              "      <td>Absolutely wonderful - silky and sexy and comf...</td>\n",
              "      <td>nan Absolutely wonderful - silky and sexy and ...</td>\n",
              "      <td>4</td>\n",
              "      <td>1</td>\n",
              "      <td>0</td>\n",
              "      <td>Initmates</td>\n",
              "      <td>Intimate</td>\n",
              "      <td>Intimates</td>\n",
              "    </tr>\n",
              "    <tr>\n",
              "      <th>1</th>\n",
              "      <td>1080</td>\n",
              "      <td>34</td>\n",
              "      <td>NaN</td>\n",
              "      <td>Love this dress!  it's sooo pretty.  i happene...</td>\n",
              "      <td>nan Love this dress!  it's sooo pretty.  i hap...</td>\n",
              "      <td>5</td>\n",
              "      <td>1</td>\n",
              "      <td>4</td>\n",
              "      <td>General</td>\n",
              "      <td>Dresses</td>\n",
              "      <td>Dresses</td>\n",
              "    </tr>\n",
              "    <tr>\n",
              "      <th>2</th>\n",
              "      <td>1077</td>\n",
              "      <td>60</td>\n",
              "      <td>Some major design flaws</td>\n",
              "      <td>I had such high hopes for this dress and reall...</td>\n",
              "      <td>Some major design flaws I had such high hopes ...</td>\n",
              "      <td>3</td>\n",
              "      <td>0</td>\n",
              "      <td>0</td>\n",
              "      <td>General</td>\n",
              "      <td>Dresses</td>\n",
              "      <td>Dresses</td>\n",
              "    </tr>\n",
              "    <tr>\n",
              "      <th>3</th>\n",
              "      <td>1049</td>\n",
              "      <td>50</td>\n",
              "      <td>My favorite buy!</td>\n",
              "      <td>I love, love, love this jumpsuit. it's fun, fl...</td>\n",
              "      <td>My favorite buy! I love, love, love this jumps...</td>\n",
              "      <td>5</td>\n",
              "      <td>1</td>\n",
              "      <td>0</td>\n",
              "      <td>General Petite</td>\n",
              "      <td>Bottoms</td>\n",
              "      <td>Pants</td>\n",
              "    </tr>\n",
              "    <tr>\n",
              "      <th>4</th>\n",
              "      <td>847</td>\n",
              "      <td>47</td>\n",
              "      <td>Flattering shirt</td>\n",
              "      <td>This shirt is very flattering to all due to th...</td>\n",
              "      <td>Flattering shirt This shirt is very flattering...</td>\n",
              "      <td>5</td>\n",
              "      <td>1</td>\n",
              "      <td>6</td>\n",
              "      <td>General</td>\n",
              "      <td>Tops</td>\n",
              "      <td>Blouses</td>\n",
              "    </tr>\n",
              "  </tbody>\n",
              "</table>\n",
              "</div>"
            ],
            "text/plain": [
              "   Clothing ID  Age  ... Department Name Class Name\n",
              "0          767   33  ...        Intimate  Intimates\n",
              "1         1080   34  ...         Dresses    Dresses\n",
              "2         1077   60  ...         Dresses    Dresses\n",
              "3         1049   50  ...         Bottoms      Pants\n",
              "4          847   47  ...            Tops    Blouses\n",
              "\n",
              "[5 rows x 11 columns]"
            ]
          },
          "metadata": {
            "tags": []
          },
          "execution_count": 11
        }
      ]
    },
    {
      "cell_type": "code",
      "metadata": {
        "id": "SdiinR9ZYzcH",
        "colab_type": "code",
        "colab": {}
      },
      "source": [
        "#df.Review[0]"
      ],
      "execution_count": 0,
      "outputs": []
    },
    {
      "cell_type": "code",
      "metadata": {
        "id": "EgSOahPIVl1E",
        "colab_type": "code",
        "outputId": "db465943-1424-432f-8535-55383bb664db",
        "colab": {
          "base_uri": "https://localhost:8080/",
          "height": 255
        }
      },
      "source": [
        "# One hot encode-Divisionname, Dept name, Class name-- not label encode; we do not want categories to be ranked\n",
        "'''df[\"Division Name\"] = pd.get_dummies(df[\"Division Name\"], prefix_sep='_', drop_first=True)\n",
        "df[\"Department Name\"] = pd.get_dummies(df[\"Department Name\"], prefix_sep='_', drop_first=True)\n",
        "df[\"Class Name\"] = pd.get_dummies(df[\"Class Name\"], prefix_sep='_', drop_first=True)'''\n",
        "new_df = df.iloc[:, 8:11]\n",
        "\n",
        "new_df = pd.get_dummies(new_df, drop_first=True)\n",
        "new_df.head()"
      ],
      "execution_count": 0,
      "outputs": [
        {
          "output_type": "execute_result",
          "data": {
            "text/html": [
              "<div>\n",
              "<style scoped>\n",
              "    .dataframe tbody tr th:only-of-type {\n",
              "        vertical-align: middle;\n",
              "    }\n",
              "\n",
              "    .dataframe tbody tr th {\n",
              "        vertical-align: top;\n",
              "    }\n",
              "\n",
              "    .dataframe thead th {\n",
              "        text-align: right;\n",
              "    }\n",
              "</style>\n",
              "<table border=\"1\" class=\"dataframe\">\n",
              "  <thead>\n",
              "    <tr style=\"text-align: right;\">\n",
              "      <th></th>\n",
              "      <th>Division Name_General Petite</th>\n",
              "      <th>Division Name_Initmates</th>\n",
              "      <th>Department Name_Dresses</th>\n",
              "      <th>Department Name_Intimate</th>\n",
              "      <th>Department Name_Jackets</th>\n",
              "      <th>Department Name_Tops</th>\n",
              "      <th>Department Name_Trend</th>\n",
              "      <th>Class Name_Casual bottoms</th>\n",
              "      <th>Class Name_Chemises</th>\n",
              "      <th>Class Name_Dresses</th>\n",
              "      <th>Class Name_Fine gauge</th>\n",
              "      <th>Class Name_Intimates</th>\n",
              "      <th>Class Name_Jackets</th>\n",
              "      <th>Class Name_Jeans</th>\n",
              "      <th>Class Name_Knits</th>\n",
              "      <th>Class Name_Layering</th>\n",
              "      <th>Class Name_Legwear</th>\n",
              "      <th>Class Name_Lounge</th>\n",
              "      <th>Class Name_Outerwear</th>\n",
              "      <th>Class Name_Pants</th>\n",
              "      <th>Class Name_Shorts</th>\n",
              "      <th>Class Name_Skirts</th>\n",
              "      <th>Class Name_Sleep</th>\n",
              "      <th>Class Name_Sweaters</th>\n",
              "      <th>Class Name_Swim</th>\n",
              "      <th>Class Name_Trend</th>\n",
              "    </tr>\n",
              "  </thead>\n",
              "  <tbody>\n",
              "    <tr>\n",
              "      <th>0</th>\n",
              "      <td>0</td>\n",
              "      <td>1</td>\n",
              "      <td>0</td>\n",
              "      <td>1</td>\n",
              "      <td>0</td>\n",
              "      <td>0</td>\n",
              "      <td>0</td>\n",
              "      <td>0</td>\n",
              "      <td>0</td>\n",
              "      <td>0</td>\n",
              "      <td>0</td>\n",
              "      <td>1</td>\n",
              "      <td>0</td>\n",
              "      <td>0</td>\n",
              "      <td>0</td>\n",
              "      <td>0</td>\n",
              "      <td>0</td>\n",
              "      <td>0</td>\n",
              "      <td>0</td>\n",
              "      <td>0</td>\n",
              "      <td>0</td>\n",
              "      <td>0</td>\n",
              "      <td>0</td>\n",
              "      <td>0</td>\n",
              "      <td>0</td>\n",
              "      <td>0</td>\n",
              "    </tr>\n",
              "    <tr>\n",
              "      <th>1</th>\n",
              "      <td>0</td>\n",
              "      <td>0</td>\n",
              "      <td>1</td>\n",
              "      <td>0</td>\n",
              "      <td>0</td>\n",
              "      <td>0</td>\n",
              "      <td>0</td>\n",
              "      <td>0</td>\n",
              "      <td>0</td>\n",
              "      <td>1</td>\n",
              "      <td>0</td>\n",
              "      <td>0</td>\n",
              "      <td>0</td>\n",
              "      <td>0</td>\n",
              "      <td>0</td>\n",
              "      <td>0</td>\n",
              "      <td>0</td>\n",
              "      <td>0</td>\n",
              "      <td>0</td>\n",
              "      <td>0</td>\n",
              "      <td>0</td>\n",
              "      <td>0</td>\n",
              "      <td>0</td>\n",
              "      <td>0</td>\n",
              "      <td>0</td>\n",
              "      <td>0</td>\n",
              "    </tr>\n",
              "    <tr>\n",
              "      <th>2</th>\n",
              "      <td>0</td>\n",
              "      <td>0</td>\n",
              "      <td>1</td>\n",
              "      <td>0</td>\n",
              "      <td>0</td>\n",
              "      <td>0</td>\n",
              "      <td>0</td>\n",
              "      <td>0</td>\n",
              "      <td>0</td>\n",
              "      <td>1</td>\n",
              "      <td>0</td>\n",
              "      <td>0</td>\n",
              "      <td>0</td>\n",
              "      <td>0</td>\n",
              "      <td>0</td>\n",
              "      <td>0</td>\n",
              "      <td>0</td>\n",
              "      <td>0</td>\n",
              "      <td>0</td>\n",
              "      <td>0</td>\n",
              "      <td>0</td>\n",
              "      <td>0</td>\n",
              "      <td>0</td>\n",
              "      <td>0</td>\n",
              "      <td>0</td>\n",
              "      <td>0</td>\n",
              "    </tr>\n",
              "    <tr>\n",
              "      <th>3</th>\n",
              "      <td>1</td>\n",
              "      <td>0</td>\n",
              "      <td>0</td>\n",
              "      <td>0</td>\n",
              "      <td>0</td>\n",
              "      <td>0</td>\n",
              "      <td>0</td>\n",
              "      <td>0</td>\n",
              "      <td>0</td>\n",
              "      <td>0</td>\n",
              "      <td>0</td>\n",
              "      <td>0</td>\n",
              "      <td>0</td>\n",
              "      <td>0</td>\n",
              "      <td>0</td>\n",
              "      <td>0</td>\n",
              "      <td>0</td>\n",
              "      <td>0</td>\n",
              "      <td>0</td>\n",
              "      <td>1</td>\n",
              "      <td>0</td>\n",
              "      <td>0</td>\n",
              "      <td>0</td>\n",
              "      <td>0</td>\n",
              "      <td>0</td>\n",
              "      <td>0</td>\n",
              "    </tr>\n",
              "    <tr>\n",
              "      <th>4</th>\n",
              "      <td>0</td>\n",
              "      <td>0</td>\n",
              "      <td>0</td>\n",
              "      <td>0</td>\n",
              "      <td>0</td>\n",
              "      <td>1</td>\n",
              "      <td>0</td>\n",
              "      <td>0</td>\n",
              "      <td>0</td>\n",
              "      <td>0</td>\n",
              "      <td>0</td>\n",
              "      <td>0</td>\n",
              "      <td>0</td>\n",
              "      <td>0</td>\n",
              "      <td>0</td>\n",
              "      <td>0</td>\n",
              "      <td>0</td>\n",
              "      <td>0</td>\n",
              "      <td>0</td>\n",
              "      <td>0</td>\n",
              "      <td>0</td>\n",
              "      <td>0</td>\n",
              "      <td>0</td>\n",
              "      <td>0</td>\n",
              "      <td>0</td>\n",
              "      <td>0</td>\n",
              "    </tr>\n",
              "  </tbody>\n",
              "</table>\n",
              "</div>"
            ],
            "text/plain": [
              "   Division Name_General Petite  ...  Class Name_Trend\n",
              "0                             0  ...                 0\n",
              "1                             0  ...                 0\n",
              "2                             0  ...                 0\n",
              "3                             1  ...                 0\n",
              "4                             0  ...                 0\n",
              "\n",
              "[5 rows x 26 columns]"
            ]
          },
          "metadata": {
            "tags": []
          },
          "execution_count": 13
        }
      ]
    },
    {
      "cell_type": "code",
      "metadata": {
        "id": "r45DHfJRgM0s",
        "colab_type": "code",
        "colab": {}
      },
      "source": [
        "df = df.drop([\"Division Name\", \"Department Name\", \"Class Name\"], 1)\n",
        "df = pd.concat([df, new_df], axis=1)"
      ],
      "execution_count": 0,
      "outputs": []
    },
    {
      "cell_type": "code",
      "metadata": {
        "id": "5kDMf-MJZxj1",
        "colab_type": "code",
        "outputId": "e76eda43-53bb-4bcf-8b77-63ca88d091b0",
        "colab": {
          "base_uri": "https://localhost:8080/",
          "height": 668
        }
      },
      "source": [
        "df.head()"
      ],
      "execution_count": 0,
      "outputs": [
        {
          "output_type": "execute_result",
          "data": {
            "text/html": [
              "<div>\n",
              "<style scoped>\n",
              "    .dataframe tbody tr th:only-of-type {\n",
              "        vertical-align: middle;\n",
              "    }\n",
              "\n",
              "    .dataframe tbody tr th {\n",
              "        vertical-align: top;\n",
              "    }\n",
              "\n",
              "    .dataframe thead th {\n",
              "        text-align: right;\n",
              "    }\n",
              "</style>\n",
              "<table border=\"1\" class=\"dataframe\">\n",
              "  <thead>\n",
              "    <tr style=\"text-align: right;\">\n",
              "      <th></th>\n",
              "      <th>Clothing ID</th>\n",
              "      <th>Age</th>\n",
              "      <th>Title</th>\n",
              "      <th>Review Text</th>\n",
              "      <th>Review</th>\n",
              "      <th>Rating</th>\n",
              "      <th>Recommended IND</th>\n",
              "      <th>Positive Feedback Count</th>\n",
              "      <th>Division Name_General Petite</th>\n",
              "      <th>Division Name_Initmates</th>\n",
              "      <th>Department Name_Dresses</th>\n",
              "      <th>Department Name_Intimate</th>\n",
              "      <th>Department Name_Jackets</th>\n",
              "      <th>Department Name_Tops</th>\n",
              "      <th>Department Name_Trend</th>\n",
              "      <th>Class Name_Casual bottoms</th>\n",
              "      <th>Class Name_Chemises</th>\n",
              "      <th>Class Name_Dresses</th>\n",
              "      <th>Class Name_Fine gauge</th>\n",
              "      <th>Class Name_Intimates</th>\n",
              "      <th>Class Name_Jackets</th>\n",
              "      <th>Class Name_Jeans</th>\n",
              "      <th>Class Name_Knits</th>\n",
              "      <th>Class Name_Layering</th>\n",
              "      <th>Class Name_Legwear</th>\n",
              "      <th>Class Name_Lounge</th>\n",
              "      <th>Class Name_Outerwear</th>\n",
              "      <th>Class Name_Pants</th>\n",
              "      <th>Class Name_Shorts</th>\n",
              "      <th>Class Name_Skirts</th>\n",
              "      <th>Class Name_Sleep</th>\n",
              "      <th>Class Name_Sweaters</th>\n",
              "      <th>Class Name_Swim</th>\n",
              "      <th>Class Name_Trend</th>\n",
              "    </tr>\n",
              "  </thead>\n",
              "  <tbody>\n",
              "    <tr>\n",
              "      <th>0</th>\n",
              "      <td>767</td>\n",
              "      <td>33</td>\n",
              "      <td>NaN</td>\n",
              "      <td>Absolutely wonderful - silky and sexy and comf...</td>\n",
              "      <td>nan Absolutely wonderful - silky and sexy and ...</td>\n",
              "      <td>4</td>\n",
              "      <td>1</td>\n",
              "      <td>0</td>\n",
              "      <td>0</td>\n",
              "      <td>1</td>\n",
              "      <td>0</td>\n",
              "      <td>1</td>\n",
              "      <td>0</td>\n",
              "      <td>0</td>\n",
              "      <td>0</td>\n",
              "      <td>0</td>\n",
              "      <td>0</td>\n",
              "      <td>0</td>\n",
              "      <td>0</td>\n",
              "      <td>1</td>\n",
              "      <td>0</td>\n",
              "      <td>0</td>\n",
              "      <td>0</td>\n",
              "      <td>0</td>\n",
              "      <td>0</td>\n",
              "      <td>0</td>\n",
              "      <td>0</td>\n",
              "      <td>0</td>\n",
              "      <td>0</td>\n",
              "      <td>0</td>\n",
              "      <td>0</td>\n",
              "      <td>0</td>\n",
              "      <td>0</td>\n",
              "      <td>0</td>\n",
              "    </tr>\n",
              "    <tr>\n",
              "      <th>1</th>\n",
              "      <td>1080</td>\n",
              "      <td>34</td>\n",
              "      <td>NaN</td>\n",
              "      <td>Love this dress!  it's sooo pretty.  i happene...</td>\n",
              "      <td>nan Love this dress!  it's sooo pretty.  i hap...</td>\n",
              "      <td>5</td>\n",
              "      <td>1</td>\n",
              "      <td>4</td>\n",
              "      <td>0</td>\n",
              "      <td>0</td>\n",
              "      <td>1</td>\n",
              "      <td>0</td>\n",
              "      <td>0</td>\n",
              "      <td>0</td>\n",
              "      <td>0</td>\n",
              "      <td>0</td>\n",
              "      <td>0</td>\n",
              "      <td>1</td>\n",
              "      <td>0</td>\n",
              "      <td>0</td>\n",
              "      <td>0</td>\n",
              "      <td>0</td>\n",
              "      <td>0</td>\n",
              "      <td>0</td>\n",
              "      <td>0</td>\n",
              "      <td>0</td>\n",
              "      <td>0</td>\n",
              "      <td>0</td>\n",
              "      <td>0</td>\n",
              "      <td>0</td>\n",
              "      <td>0</td>\n",
              "      <td>0</td>\n",
              "      <td>0</td>\n",
              "      <td>0</td>\n",
              "    </tr>\n",
              "    <tr>\n",
              "      <th>2</th>\n",
              "      <td>1077</td>\n",
              "      <td>60</td>\n",
              "      <td>Some major design flaws</td>\n",
              "      <td>I had such high hopes for this dress and reall...</td>\n",
              "      <td>Some major design flaws I had such high hopes ...</td>\n",
              "      <td>3</td>\n",
              "      <td>0</td>\n",
              "      <td>0</td>\n",
              "      <td>0</td>\n",
              "      <td>0</td>\n",
              "      <td>1</td>\n",
              "      <td>0</td>\n",
              "      <td>0</td>\n",
              "      <td>0</td>\n",
              "      <td>0</td>\n",
              "      <td>0</td>\n",
              "      <td>0</td>\n",
              "      <td>1</td>\n",
              "      <td>0</td>\n",
              "      <td>0</td>\n",
              "      <td>0</td>\n",
              "      <td>0</td>\n",
              "      <td>0</td>\n",
              "      <td>0</td>\n",
              "      <td>0</td>\n",
              "      <td>0</td>\n",
              "      <td>0</td>\n",
              "      <td>0</td>\n",
              "      <td>0</td>\n",
              "      <td>0</td>\n",
              "      <td>0</td>\n",
              "      <td>0</td>\n",
              "      <td>0</td>\n",
              "      <td>0</td>\n",
              "    </tr>\n",
              "    <tr>\n",
              "      <th>3</th>\n",
              "      <td>1049</td>\n",
              "      <td>50</td>\n",
              "      <td>My favorite buy!</td>\n",
              "      <td>I love, love, love this jumpsuit. it's fun, fl...</td>\n",
              "      <td>My favorite buy! I love, love, love this jumps...</td>\n",
              "      <td>5</td>\n",
              "      <td>1</td>\n",
              "      <td>0</td>\n",
              "      <td>1</td>\n",
              "      <td>0</td>\n",
              "      <td>0</td>\n",
              "      <td>0</td>\n",
              "      <td>0</td>\n",
              "      <td>0</td>\n",
              "      <td>0</td>\n",
              "      <td>0</td>\n",
              "      <td>0</td>\n",
              "      <td>0</td>\n",
              "      <td>0</td>\n",
              "      <td>0</td>\n",
              "      <td>0</td>\n",
              "      <td>0</td>\n",
              "      <td>0</td>\n",
              "      <td>0</td>\n",
              "      <td>0</td>\n",
              "      <td>0</td>\n",
              "      <td>0</td>\n",
              "      <td>1</td>\n",
              "      <td>0</td>\n",
              "      <td>0</td>\n",
              "      <td>0</td>\n",
              "      <td>0</td>\n",
              "      <td>0</td>\n",
              "      <td>0</td>\n",
              "    </tr>\n",
              "    <tr>\n",
              "      <th>4</th>\n",
              "      <td>847</td>\n",
              "      <td>47</td>\n",
              "      <td>Flattering shirt</td>\n",
              "      <td>This shirt is very flattering to all due to th...</td>\n",
              "      <td>Flattering shirt This shirt is very flattering...</td>\n",
              "      <td>5</td>\n",
              "      <td>1</td>\n",
              "      <td>6</td>\n",
              "      <td>0</td>\n",
              "      <td>0</td>\n",
              "      <td>0</td>\n",
              "      <td>0</td>\n",
              "      <td>0</td>\n",
              "      <td>1</td>\n",
              "      <td>0</td>\n",
              "      <td>0</td>\n",
              "      <td>0</td>\n",
              "      <td>0</td>\n",
              "      <td>0</td>\n",
              "      <td>0</td>\n",
              "      <td>0</td>\n",
              "      <td>0</td>\n",
              "      <td>0</td>\n",
              "      <td>0</td>\n",
              "      <td>0</td>\n",
              "      <td>0</td>\n",
              "      <td>0</td>\n",
              "      <td>0</td>\n",
              "      <td>0</td>\n",
              "      <td>0</td>\n",
              "      <td>0</td>\n",
              "      <td>0</td>\n",
              "      <td>0</td>\n",
              "      <td>0</td>\n",
              "    </tr>\n",
              "  </tbody>\n",
              "</table>\n",
              "</div>"
            ],
            "text/plain": [
              "   Clothing ID  Age  ... Class Name_Swim Class Name_Trend\n",
              "0          767   33  ...               0                0\n",
              "1         1080   34  ...               0                0\n",
              "2         1077   60  ...               0                0\n",
              "3         1049   50  ...               0                0\n",
              "4          847   47  ...               0                0\n",
              "\n",
              "[5 rows x 34 columns]"
            ]
          },
          "metadata": {
            "tags": []
          },
          "execution_count": 15
        }
      ]
    },
    {
      "cell_type": "code",
      "metadata": {
        "id": "IF3QtY-aZ4oI",
        "colab_type": "code",
        "outputId": "11ff9a49-13e5-4d65-f50b-6c25c381ef26",
        "colab": {
          "base_uri": "https://localhost:8080/",
          "height": 465
        }
      },
      "source": [
        "df.isna()"
      ],
      "execution_count": 0,
      "outputs": [
        {
          "output_type": "execute_result",
          "data": {
            "text/html": [
              "<div>\n",
              "<style scoped>\n",
              "    .dataframe tbody tr th:only-of-type {\n",
              "        vertical-align: middle;\n",
              "    }\n",
              "\n",
              "    .dataframe tbody tr th {\n",
              "        vertical-align: top;\n",
              "    }\n",
              "\n",
              "    .dataframe thead th {\n",
              "        text-align: right;\n",
              "    }\n",
              "</style>\n",
              "<table border=\"1\" class=\"dataframe\">\n",
              "  <thead>\n",
              "    <tr style=\"text-align: right;\">\n",
              "      <th></th>\n",
              "      <th>Clothing ID</th>\n",
              "      <th>Age</th>\n",
              "      <th>Title</th>\n",
              "      <th>Review Text</th>\n",
              "      <th>Review</th>\n",
              "      <th>Rating</th>\n",
              "      <th>Recommended IND</th>\n",
              "      <th>Positive Feedback Count</th>\n",
              "      <th>Division Name_General Petite</th>\n",
              "      <th>Division Name_Initmates</th>\n",
              "      <th>Department Name_Dresses</th>\n",
              "      <th>Department Name_Intimate</th>\n",
              "      <th>Department Name_Jackets</th>\n",
              "      <th>Department Name_Tops</th>\n",
              "      <th>Department Name_Trend</th>\n",
              "      <th>Class Name_Casual bottoms</th>\n",
              "      <th>Class Name_Chemises</th>\n",
              "      <th>Class Name_Dresses</th>\n",
              "      <th>Class Name_Fine gauge</th>\n",
              "      <th>Class Name_Intimates</th>\n",
              "      <th>Class Name_Jackets</th>\n",
              "      <th>Class Name_Jeans</th>\n",
              "      <th>Class Name_Knits</th>\n",
              "      <th>Class Name_Layering</th>\n",
              "      <th>Class Name_Legwear</th>\n",
              "      <th>Class Name_Lounge</th>\n",
              "      <th>Class Name_Outerwear</th>\n",
              "      <th>Class Name_Pants</th>\n",
              "      <th>Class Name_Shorts</th>\n",
              "      <th>Class Name_Skirts</th>\n",
              "      <th>Class Name_Sleep</th>\n",
              "      <th>Class Name_Sweaters</th>\n",
              "      <th>Class Name_Swim</th>\n",
              "      <th>Class Name_Trend</th>\n",
              "    </tr>\n",
              "  </thead>\n",
              "  <tbody>\n",
              "    <tr>\n",
              "      <th>0</th>\n",
              "      <td>False</td>\n",
              "      <td>False</td>\n",
              "      <td>True</td>\n",
              "      <td>False</td>\n",
              "      <td>False</td>\n",
              "      <td>False</td>\n",
              "      <td>False</td>\n",
              "      <td>False</td>\n",
              "      <td>False</td>\n",
              "      <td>False</td>\n",
              "      <td>False</td>\n",
              "      <td>False</td>\n",
              "      <td>False</td>\n",
              "      <td>False</td>\n",
              "      <td>False</td>\n",
              "      <td>False</td>\n",
              "      <td>False</td>\n",
              "      <td>False</td>\n",
              "      <td>False</td>\n",
              "      <td>False</td>\n",
              "      <td>False</td>\n",
              "      <td>False</td>\n",
              "      <td>False</td>\n",
              "      <td>False</td>\n",
              "      <td>False</td>\n",
              "      <td>False</td>\n",
              "      <td>False</td>\n",
              "      <td>False</td>\n",
              "      <td>False</td>\n",
              "      <td>False</td>\n",
              "      <td>False</td>\n",
              "      <td>False</td>\n",
              "      <td>False</td>\n",
              "      <td>False</td>\n",
              "    </tr>\n",
              "    <tr>\n",
              "      <th>1</th>\n",
              "      <td>False</td>\n",
              "      <td>False</td>\n",
              "      <td>True</td>\n",
              "      <td>False</td>\n",
              "      <td>False</td>\n",
              "      <td>False</td>\n",
              "      <td>False</td>\n",
              "      <td>False</td>\n",
              "      <td>False</td>\n",
              "      <td>False</td>\n",
              "      <td>False</td>\n",
              "      <td>False</td>\n",
              "      <td>False</td>\n",
              "      <td>False</td>\n",
              "      <td>False</td>\n",
              "      <td>False</td>\n",
              "      <td>False</td>\n",
              "      <td>False</td>\n",
              "      <td>False</td>\n",
              "      <td>False</td>\n",
              "      <td>False</td>\n",
              "      <td>False</td>\n",
              "      <td>False</td>\n",
              "      <td>False</td>\n",
              "      <td>False</td>\n",
              "      <td>False</td>\n",
              "      <td>False</td>\n",
              "      <td>False</td>\n",
              "      <td>False</td>\n",
              "      <td>False</td>\n",
              "      <td>False</td>\n",
              "      <td>False</td>\n",
              "      <td>False</td>\n",
              "      <td>False</td>\n",
              "    </tr>\n",
              "    <tr>\n",
              "      <th>2</th>\n",
              "      <td>False</td>\n",
              "      <td>False</td>\n",
              "      <td>False</td>\n",
              "      <td>False</td>\n",
              "      <td>False</td>\n",
              "      <td>False</td>\n",
              "      <td>False</td>\n",
              "      <td>False</td>\n",
              "      <td>False</td>\n",
              "      <td>False</td>\n",
              "      <td>False</td>\n",
              "      <td>False</td>\n",
              "      <td>False</td>\n",
              "      <td>False</td>\n",
              "      <td>False</td>\n",
              "      <td>False</td>\n",
              "      <td>False</td>\n",
              "      <td>False</td>\n",
              "      <td>False</td>\n",
              "      <td>False</td>\n",
              "      <td>False</td>\n",
              "      <td>False</td>\n",
              "      <td>False</td>\n",
              "      <td>False</td>\n",
              "      <td>False</td>\n",
              "      <td>False</td>\n",
              "      <td>False</td>\n",
              "      <td>False</td>\n",
              "      <td>False</td>\n",
              "      <td>False</td>\n",
              "      <td>False</td>\n",
              "      <td>False</td>\n",
              "      <td>False</td>\n",
              "      <td>False</td>\n",
              "    </tr>\n",
              "    <tr>\n",
              "      <th>3</th>\n",
              "      <td>False</td>\n",
              "      <td>False</td>\n",
              "      <td>False</td>\n",
              "      <td>False</td>\n",
              "      <td>False</td>\n",
              "      <td>False</td>\n",
              "      <td>False</td>\n",
              "      <td>False</td>\n",
              "      <td>False</td>\n",
              "      <td>False</td>\n",
              "      <td>False</td>\n",
              "      <td>False</td>\n",
              "      <td>False</td>\n",
              "      <td>False</td>\n",
              "      <td>False</td>\n",
              "      <td>False</td>\n",
              "      <td>False</td>\n",
              "      <td>False</td>\n",
              "      <td>False</td>\n",
              "      <td>False</td>\n",
              "      <td>False</td>\n",
              "      <td>False</td>\n",
              "      <td>False</td>\n",
              "      <td>False</td>\n",
              "      <td>False</td>\n",
              "      <td>False</td>\n",
              "      <td>False</td>\n",
              "      <td>False</td>\n",
              "      <td>False</td>\n",
              "      <td>False</td>\n",
              "      <td>False</td>\n",
              "      <td>False</td>\n",
              "      <td>False</td>\n",
              "      <td>False</td>\n",
              "    </tr>\n",
              "    <tr>\n",
              "      <th>4</th>\n",
              "      <td>False</td>\n",
              "      <td>False</td>\n",
              "      <td>False</td>\n",
              "      <td>False</td>\n",
              "      <td>False</td>\n",
              "      <td>False</td>\n",
              "      <td>False</td>\n",
              "      <td>False</td>\n",
              "      <td>False</td>\n",
              "      <td>False</td>\n",
              "      <td>False</td>\n",
              "      <td>False</td>\n",
              "      <td>False</td>\n",
              "      <td>False</td>\n",
              "      <td>False</td>\n",
              "      <td>False</td>\n",
              "      <td>False</td>\n",
              "      <td>False</td>\n",
              "      <td>False</td>\n",
              "      <td>False</td>\n",
              "      <td>False</td>\n",
              "      <td>False</td>\n",
              "      <td>False</td>\n",
              "      <td>False</td>\n",
              "      <td>False</td>\n",
              "      <td>False</td>\n",
              "      <td>False</td>\n",
              "      <td>False</td>\n",
              "      <td>False</td>\n",
              "      <td>False</td>\n",
              "      <td>False</td>\n",
              "      <td>False</td>\n",
              "      <td>False</td>\n",
              "      <td>False</td>\n",
              "    </tr>\n",
              "    <tr>\n",
              "      <th>...</th>\n",
              "      <td>...</td>\n",
              "      <td>...</td>\n",
              "      <td>...</td>\n",
              "      <td>...</td>\n",
              "      <td>...</td>\n",
              "      <td>...</td>\n",
              "      <td>...</td>\n",
              "      <td>...</td>\n",
              "      <td>...</td>\n",
              "      <td>...</td>\n",
              "      <td>...</td>\n",
              "      <td>...</td>\n",
              "      <td>...</td>\n",
              "      <td>...</td>\n",
              "      <td>...</td>\n",
              "      <td>...</td>\n",
              "      <td>...</td>\n",
              "      <td>...</td>\n",
              "      <td>...</td>\n",
              "      <td>...</td>\n",
              "      <td>...</td>\n",
              "      <td>...</td>\n",
              "      <td>...</td>\n",
              "      <td>...</td>\n",
              "      <td>...</td>\n",
              "      <td>...</td>\n",
              "      <td>...</td>\n",
              "      <td>...</td>\n",
              "      <td>...</td>\n",
              "      <td>...</td>\n",
              "      <td>...</td>\n",
              "      <td>...</td>\n",
              "      <td>...</td>\n",
              "      <td>...</td>\n",
              "    </tr>\n",
              "    <tr>\n",
              "      <th>23481</th>\n",
              "      <td>False</td>\n",
              "      <td>False</td>\n",
              "      <td>False</td>\n",
              "      <td>False</td>\n",
              "      <td>False</td>\n",
              "      <td>False</td>\n",
              "      <td>False</td>\n",
              "      <td>False</td>\n",
              "      <td>False</td>\n",
              "      <td>False</td>\n",
              "      <td>False</td>\n",
              "      <td>False</td>\n",
              "      <td>False</td>\n",
              "      <td>False</td>\n",
              "      <td>False</td>\n",
              "      <td>False</td>\n",
              "      <td>False</td>\n",
              "      <td>False</td>\n",
              "      <td>False</td>\n",
              "      <td>False</td>\n",
              "      <td>False</td>\n",
              "      <td>False</td>\n",
              "      <td>False</td>\n",
              "      <td>False</td>\n",
              "      <td>False</td>\n",
              "      <td>False</td>\n",
              "      <td>False</td>\n",
              "      <td>False</td>\n",
              "      <td>False</td>\n",
              "      <td>False</td>\n",
              "      <td>False</td>\n",
              "      <td>False</td>\n",
              "      <td>False</td>\n",
              "      <td>False</td>\n",
              "    </tr>\n",
              "    <tr>\n",
              "      <th>23482</th>\n",
              "      <td>False</td>\n",
              "      <td>False</td>\n",
              "      <td>False</td>\n",
              "      <td>False</td>\n",
              "      <td>False</td>\n",
              "      <td>False</td>\n",
              "      <td>False</td>\n",
              "      <td>False</td>\n",
              "      <td>False</td>\n",
              "      <td>False</td>\n",
              "      <td>False</td>\n",
              "      <td>False</td>\n",
              "      <td>False</td>\n",
              "      <td>False</td>\n",
              "      <td>False</td>\n",
              "      <td>False</td>\n",
              "      <td>False</td>\n",
              "      <td>False</td>\n",
              "      <td>False</td>\n",
              "      <td>False</td>\n",
              "      <td>False</td>\n",
              "      <td>False</td>\n",
              "      <td>False</td>\n",
              "      <td>False</td>\n",
              "      <td>False</td>\n",
              "      <td>False</td>\n",
              "      <td>False</td>\n",
              "      <td>False</td>\n",
              "      <td>False</td>\n",
              "      <td>False</td>\n",
              "      <td>False</td>\n",
              "      <td>False</td>\n",
              "      <td>False</td>\n",
              "      <td>False</td>\n",
              "    </tr>\n",
              "    <tr>\n",
              "      <th>23483</th>\n",
              "      <td>False</td>\n",
              "      <td>False</td>\n",
              "      <td>False</td>\n",
              "      <td>False</td>\n",
              "      <td>False</td>\n",
              "      <td>False</td>\n",
              "      <td>False</td>\n",
              "      <td>False</td>\n",
              "      <td>False</td>\n",
              "      <td>False</td>\n",
              "      <td>False</td>\n",
              "      <td>False</td>\n",
              "      <td>False</td>\n",
              "      <td>False</td>\n",
              "      <td>False</td>\n",
              "      <td>False</td>\n",
              "      <td>False</td>\n",
              "      <td>False</td>\n",
              "      <td>False</td>\n",
              "      <td>False</td>\n",
              "      <td>False</td>\n",
              "      <td>False</td>\n",
              "      <td>False</td>\n",
              "      <td>False</td>\n",
              "      <td>False</td>\n",
              "      <td>False</td>\n",
              "      <td>False</td>\n",
              "      <td>False</td>\n",
              "      <td>False</td>\n",
              "      <td>False</td>\n",
              "      <td>False</td>\n",
              "      <td>False</td>\n",
              "      <td>False</td>\n",
              "      <td>False</td>\n",
              "    </tr>\n",
              "    <tr>\n",
              "      <th>23484</th>\n",
              "      <td>False</td>\n",
              "      <td>False</td>\n",
              "      <td>False</td>\n",
              "      <td>False</td>\n",
              "      <td>False</td>\n",
              "      <td>False</td>\n",
              "      <td>False</td>\n",
              "      <td>False</td>\n",
              "      <td>False</td>\n",
              "      <td>False</td>\n",
              "      <td>False</td>\n",
              "      <td>False</td>\n",
              "      <td>False</td>\n",
              "      <td>False</td>\n",
              "      <td>False</td>\n",
              "      <td>False</td>\n",
              "      <td>False</td>\n",
              "      <td>False</td>\n",
              "      <td>False</td>\n",
              "      <td>False</td>\n",
              "      <td>False</td>\n",
              "      <td>False</td>\n",
              "      <td>False</td>\n",
              "      <td>False</td>\n",
              "      <td>False</td>\n",
              "      <td>False</td>\n",
              "      <td>False</td>\n",
              "      <td>False</td>\n",
              "      <td>False</td>\n",
              "      <td>False</td>\n",
              "      <td>False</td>\n",
              "      <td>False</td>\n",
              "      <td>False</td>\n",
              "      <td>False</td>\n",
              "    </tr>\n",
              "    <tr>\n",
              "      <th>23485</th>\n",
              "      <td>False</td>\n",
              "      <td>False</td>\n",
              "      <td>False</td>\n",
              "      <td>False</td>\n",
              "      <td>False</td>\n",
              "      <td>False</td>\n",
              "      <td>False</td>\n",
              "      <td>False</td>\n",
              "      <td>False</td>\n",
              "      <td>False</td>\n",
              "      <td>False</td>\n",
              "      <td>False</td>\n",
              "      <td>False</td>\n",
              "      <td>False</td>\n",
              "      <td>False</td>\n",
              "      <td>False</td>\n",
              "      <td>False</td>\n",
              "      <td>False</td>\n",
              "      <td>False</td>\n",
              "      <td>False</td>\n",
              "      <td>False</td>\n",
              "      <td>False</td>\n",
              "      <td>False</td>\n",
              "      <td>False</td>\n",
              "      <td>False</td>\n",
              "      <td>False</td>\n",
              "      <td>False</td>\n",
              "      <td>False</td>\n",
              "      <td>False</td>\n",
              "      <td>False</td>\n",
              "      <td>False</td>\n",
              "      <td>False</td>\n",
              "      <td>False</td>\n",
              "      <td>False</td>\n",
              "    </tr>\n",
              "  </tbody>\n",
              "</table>\n",
              "<p>23486 rows × 34 columns</p>\n",
              "</div>"
            ],
            "text/plain": [
              "       Clothing ID    Age  ...  Class Name_Swim  Class Name_Trend\n",
              "0            False  False  ...            False             False\n",
              "1            False  False  ...            False             False\n",
              "2            False  False  ...            False             False\n",
              "3            False  False  ...            False             False\n",
              "4            False  False  ...            False             False\n",
              "...            ...    ...  ...              ...               ...\n",
              "23481        False  False  ...            False             False\n",
              "23482        False  False  ...            False             False\n",
              "23483        False  False  ...            False             False\n",
              "23484        False  False  ...            False             False\n",
              "23485        False  False  ...            False             False\n",
              "\n",
              "[23486 rows x 34 columns]"
            ]
          },
          "metadata": {
            "tags": []
          },
          "execution_count": 16
        }
      ]
    },
    {
      "cell_type": "code",
      "metadata": {
        "id": "L3ihg7cLZ_pC",
        "colab_type": "code",
        "colab": {}
      },
      "source": [
        "#fill na with space"
      ],
      "execution_count": 0,
      "outputs": []
    },
    {
      "cell_type": "code",
      "metadata": {
        "id": "zlcbSVrGalnN",
        "colab_type": "code",
        "colab": {}
      },
      "source": [
        "df = df.drop([\"Title\", \"Review Text\"], 1)"
      ],
      "execution_count": 0,
      "outputs": []
    },
    {
      "cell_type": "code",
      "metadata": {
        "id": "0Cr5CWgVTW1O",
        "colab_type": "code",
        "outputId": "45c7ceba-6fa0-4d47-aa27-fe9386bbcc13",
        "colab": {
          "base_uri": "https://localhost:8080/",
          "height": 138
        }
      },
      "source": [
        "# importing required modules\n",
        "import nltk\n",
        "nltk.download('punkt')\n",
        "nltk.download('stopwords')\n",
        "from nltk.corpus import stopwords\n",
        "from nltk.tokenize import word_tokenize\n",
        "nltk.download('words')"
      ],
      "execution_count": 0,
      "outputs": [
        {
          "output_type": "stream",
          "text": [
            "[nltk_data] Downloading package punkt to /root/nltk_data...\n",
            "[nltk_data]   Unzipping tokenizers/punkt.zip.\n",
            "[nltk_data] Downloading package stopwords to /root/nltk_data...\n",
            "[nltk_data]   Unzipping corpora/stopwords.zip.\n",
            "[nltk_data] Downloading package words to /root/nltk_data...\n",
            "[nltk_data]   Unzipping corpora/words.zip.\n"
          ],
          "name": "stdout"
        },
        {
          "output_type": "execute_result",
          "data": {
            "text/plain": [
              "True"
            ]
          },
          "metadata": {
            "tags": []
          },
          "execution_count": 19
        }
      ]
    },
    {
      "cell_type": "code",
      "metadata": {
        "id": "pYoJRqxEUKvK",
        "colab_type": "code",
        "colab": {}
      },
      "source": [
        "## Preprocessing data\n",
        "\n",
        "stop_words = set(stopwords.words('english'))      # for unique entries -> set()\n",
        "stop_words.add(\"nan\")\n",
        "words = set(nltk.corpus.words.words())\n",
        "def preprocess(sen):\n",
        "  sen = sen.lower()\n",
        "  no_punc = sen.translate(sen.maketrans('', '', '!\"$%&\\'()#@*+,-./:;<=>?[\\\\]^_`{|}~'))      ## removing all punctuation marks\n",
        "  filtered = no_punc.translate(no_punc.maketrans('', '', '#@0123456789'))           ## removing digits\n",
        "  tokens = word_tokenize(filtered)                        ## creating a list of tokens\n",
        "  no_stop_words = [w for w in tokens if not w in stop_words]     # eliminate stop words;  returns list of lists\n",
        "  sent = \" \".join(w for w in no_stop_words)\n",
        "  sent = \" \".join(w for w in nltk.wordpunct_tokenize(sent) \\\n",
        "            if w.lower() in words or not w.isalpha())                ## eliminating all non-english words\n",
        "  \n",
        "  return sent"
      ],
      "execution_count": 0,
      "outputs": []
    },
    {
      "cell_type": "code",
      "metadata": {
        "id": "vpzDdPAqaYMD",
        "colab_type": "code",
        "colab": {}
      },
      "source": [
        "cleaned = df.Review.apply(preprocess)"
      ],
      "execution_count": 0,
      "outputs": []
    },
    {
      "cell_type": "code",
      "metadata": {
        "id": "yEKgvCaGa37i",
        "colab_type": "code",
        "outputId": "a7ef3a0e-4ce1-443e-e5ce-aa26af6ae98b",
        "colab": {
          "base_uri": "https://localhost:8080/",
          "height": 224
        }
      },
      "source": [
        "cleaned"
      ],
      "execution_count": 0,
      "outputs": [
        {
          "output_type": "execute_result",
          "data": {
            "text/plain": [
              "0              absolutely wonderful silky sexy comfortable\n",
              "1        love dress pretty find store glad never would ...\n",
              "2        major design high dress really work initially ...\n",
              "3        favorite buy love love love fun flirty fabulou...\n",
              "4        flattering shirt shirt flattering due adjustab...\n",
              "                               ...                        \n",
              "23481    great dress many happy snag dress great price ...\n",
              "23482    wish made cotton maternity clothes soft stretc...\n",
              "23483    cute see fit well top see never would worked g...\n",
              "23484    cute dress perfect summer bought dress wedding...\n",
              "23485    please make like one dress lovely platinum fem...\n",
              "Name: Review, Length: 23486, dtype: object"
            ]
          },
          "metadata": {
            "tags": []
          },
          "execution_count": 22
        }
      ]
    },
    {
      "cell_type": "code",
      "metadata": {
        "id": "GY4Bygv6a-9b",
        "colab_type": "code",
        "outputId": "681803f7-9930-4540-c97d-4d533eea296e",
        "colab": {
          "base_uri": "https://localhost:8080/",
          "height": 668
        }
      },
      "source": [
        "df.head()"
      ],
      "execution_count": 0,
      "outputs": [
        {
          "output_type": "execute_result",
          "data": {
            "text/html": [
              "<div>\n",
              "<style scoped>\n",
              "    .dataframe tbody tr th:only-of-type {\n",
              "        vertical-align: middle;\n",
              "    }\n",
              "\n",
              "    .dataframe tbody tr th {\n",
              "        vertical-align: top;\n",
              "    }\n",
              "\n",
              "    .dataframe thead th {\n",
              "        text-align: right;\n",
              "    }\n",
              "</style>\n",
              "<table border=\"1\" class=\"dataframe\">\n",
              "  <thead>\n",
              "    <tr style=\"text-align: right;\">\n",
              "      <th></th>\n",
              "      <th>Clothing ID</th>\n",
              "      <th>Age</th>\n",
              "      <th>Review</th>\n",
              "      <th>Rating</th>\n",
              "      <th>Recommended IND</th>\n",
              "      <th>Positive Feedback Count</th>\n",
              "      <th>Division Name_General Petite</th>\n",
              "      <th>Division Name_Initmates</th>\n",
              "      <th>Department Name_Dresses</th>\n",
              "      <th>Department Name_Intimate</th>\n",
              "      <th>Department Name_Jackets</th>\n",
              "      <th>Department Name_Tops</th>\n",
              "      <th>Department Name_Trend</th>\n",
              "      <th>Class Name_Casual bottoms</th>\n",
              "      <th>Class Name_Chemises</th>\n",
              "      <th>Class Name_Dresses</th>\n",
              "      <th>Class Name_Fine gauge</th>\n",
              "      <th>Class Name_Intimates</th>\n",
              "      <th>Class Name_Jackets</th>\n",
              "      <th>Class Name_Jeans</th>\n",
              "      <th>Class Name_Knits</th>\n",
              "      <th>Class Name_Layering</th>\n",
              "      <th>Class Name_Legwear</th>\n",
              "      <th>Class Name_Lounge</th>\n",
              "      <th>Class Name_Outerwear</th>\n",
              "      <th>Class Name_Pants</th>\n",
              "      <th>Class Name_Shorts</th>\n",
              "      <th>Class Name_Skirts</th>\n",
              "      <th>Class Name_Sleep</th>\n",
              "      <th>Class Name_Sweaters</th>\n",
              "      <th>Class Name_Swim</th>\n",
              "      <th>Class Name_Trend</th>\n",
              "    </tr>\n",
              "  </thead>\n",
              "  <tbody>\n",
              "    <tr>\n",
              "      <th>0</th>\n",
              "      <td>767</td>\n",
              "      <td>33</td>\n",
              "      <td>nan Absolutely wonderful - silky and sexy and ...</td>\n",
              "      <td>4</td>\n",
              "      <td>1</td>\n",
              "      <td>0</td>\n",
              "      <td>0</td>\n",
              "      <td>1</td>\n",
              "      <td>0</td>\n",
              "      <td>1</td>\n",
              "      <td>0</td>\n",
              "      <td>0</td>\n",
              "      <td>0</td>\n",
              "      <td>0</td>\n",
              "      <td>0</td>\n",
              "      <td>0</td>\n",
              "      <td>0</td>\n",
              "      <td>1</td>\n",
              "      <td>0</td>\n",
              "      <td>0</td>\n",
              "      <td>0</td>\n",
              "      <td>0</td>\n",
              "      <td>0</td>\n",
              "      <td>0</td>\n",
              "      <td>0</td>\n",
              "      <td>0</td>\n",
              "      <td>0</td>\n",
              "      <td>0</td>\n",
              "      <td>0</td>\n",
              "      <td>0</td>\n",
              "      <td>0</td>\n",
              "      <td>0</td>\n",
              "    </tr>\n",
              "    <tr>\n",
              "      <th>1</th>\n",
              "      <td>1080</td>\n",
              "      <td>34</td>\n",
              "      <td>nan Love this dress!  it's sooo pretty.  i hap...</td>\n",
              "      <td>5</td>\n",
              "      <td>1</td>\n",
              "      <td>4</td>\n",
              "      <td>0</td>\n",
              "      <td>0</td>\n",
              "      <td>1</td>\n",
              "      <td>0</td>\n",
              "      <td>0</td>\n",
              "      <td>0</td>\n",
              "      <td>0</td>\n",
              "      <td>0</td>\n",
              "      <td>0</td>\n",
              "      <td>1</td>\n",
              "      <td>0</td>\n",
              "      <td>0</td>\n",
              "      <td>0</td>\n",
              "      <td>0</td>\n",
              "      <td>0</td>\n",
              "      <td>0</td>\n",
              "      <td>0</td>\n",
              "      <td>0</td>\n",
              "      <td>0</td>\n",
              "      <td>0</td>\n",
              "      <td>0</td>\n",
              "      <td>0</td>\n",
              "      <td>0</td>\n",
              "      <td>0</td>\n",
              "      <td>0</td>\n",
              "      <td>0</td>\n",
              "    </tr>\n",
              "    <tr>\n",
              "      <th>2</th>\n",
              "      <td>1077</td>\n",
              "      <td>60</td>\n",
              "      <td>Some major design flaws I had such high hopes ...</td>\n",
              "      <td>3</td>\n",
              "      <td>0</td>\n",
              "      <td>0</td>\n",
              "      <td>0</td>\n",
              "      <td>0</td>\n",
              "      <td>1</td>\n",
              "      <td>0</td>\n",
              "      <td>0</td>\n",
              "      <td>0</td>\n",
              "      <td>0</td>\n",
              "      <td>0</td>\n",
              "      <td>0</td>\n",
              "      <td>1</td>\n",
              "      <td>0</td>\n",
              "      <td>0</td>\n",
              "      <td>0</td>\n",
              "      <td>0</td>\n",
              "      <td>0</td>\n",
              "      <td>0</td>\n",
              "      <td>0</td>\n",
              "      <td>0</td>\n",
              "      <td>0</td>\n",
              "      <td>0</td>\n",
              "      <td>0</td>\n",
              "      <td>0</td>\n",
              "      <td>0</td>\n",
              "      <td>0</td>\n",
              "      <td>0</td>\n",
              "      <td>0</td>\n",
              "    </tr>\n",
              "    <tr>\n",
              "      <th>3</th>\n",
              "      <td>1049</td>\n",
              "      <td>50</td>\n",
              "      <td>My favorite buy! I love, love, love this jumps...</td>\n",
              "      <td>5</td>\n",
              "      <td>1</td>\n",
              "      <td>0</td>\n",
              "      <td>1</td>\n",
              "      <td>0</td>\n",
              "      <td>0</td>\n",
              "      <td>0</td>\n",
              "      <td>0</td>\n",
              "      <td>0</td>\n",
              "      <td>0</td>\n",
              "      <td>0</td>\n",
              "      <td>0</td>\n",
              "      <td>0</td>\n",
              "      <td>0</td>\n",
              "      <td>0</td>\n",
              "      <td>0</td>\n",
              "      <td>0</td>\n",
              "      <td>0</td>\n",
              "      <td>0</td>\n",
              "      <td>0</td>\n",
              "      <td>0</td>\n",
              "      <td>0</td>\n",
              "      <td>1</td>\n",
              "      <td>0</td>\n",
              "      <td>0</td>\n",
              "      <td>0</td>\n",
              "      <td>0</td>\n",
              "      <td>0</td>\n",
              "      <td>0</td>\n",
              "    </tr>\n",
              "    <tr>\n",
              "      <th>4</th>\n",
              "      <td>847</td>\n",
              "      <td>47</td>\n",
              "      <td>Flattering shirt This shirt is very flattering...</td>\n",
              "      <td>5</td>\n",
              "      <td>1</td>\n",
              "      <td>6</td>\n",
              "      <td>0</td>\n",
              "      <td>0</td>\n",
              "      <td>0</td>\n",
              "      <td>0</td>\n",
              "      <td>0</td>\n",
              "      <td>1</td>\n",
              "      <td>0</td>\n",
              "      <td>0</td>\n",
              "      <td>0</td>\n",
              "      <td>0</td>\n",
              "      <td>0</td>\n",
              "      <td>0</td>\n",
              "      <td>0</td>\n",
              "      <td>0</td>\n",
              "      <td>0</td>\n",
              "      <td>0</td>\n",
              "      <td>0</td>\n",
              "      <td>0</td>\n",
              "      <td>0</td>\n",
              "      <td>0</td>\n",
              "      <td>0</td>\n",
              "      <td>0</td>\n",
              "      <td>0</td>\n",
              "      <td>0</td>\n",
              "      <td>0</td>\n",
              "      <td>0</td>\n",
              "    </tr>\n",
              "  </tbody>\n",
              "</table>\n",
              "</div>"
            ],
            "text/plain": [
              "   Clothing ID  Age  ... Class Name_Swim  Class Name_Trend\n",
              "0          767   33  ...               0                 0\n",
              "1         1080   34  ...               0                 0\n",
              "2         1077   60  ...               0                 0\n",
              "3         1049   50  ...               0                 0\n",
              "4          847   47  ...               0                 0\n",
              "\n",
              "[5 rows x 32 columns]"
            ]
          },
          "metadata": {
            "tags": []
          },
          "execution_count": 23
        }
      ]
    },
    {
      "cell_type": "code",
      "metadata": {
        "id": "5hS2Ee2JcYak",
        "colab_type": "code",
        "colab": {}
      },
      "source": [
        "from sklearn.feature_extraction.text import TfidfVectorizer\n",
        "vectorizer = TfidfVectorizer()\n",
        "X = vectorizer.fit_transform(cleaned)"
      ],
      "execution_count": 0,
      "outputs": []
    },
    {
      "cell_type": "code",
      "metadata": {
        "id": "aUAa0hAFxBxc",
        "colab_type": "code",
        "outputId": "5e956dbf-56ac-4372-a89e-c7234bc6f526",
        "colab": {
          "base_uri": "https://localhost:8080/",
          "height": 54
        }
      },
      "source": [
        "print(vectorizer.get_feature_names())"
      ],
      "execution_count": 0,
      "outputs": [
        {
          "output_type": "stream",
          "text": [
            "['aa', 'abbey', 'abdomen', 'abdominal', 'abhor', 'ability', 'abject', 'able', 'abnormal', 'abnormally', 'abroad', 'abruptly', 'absence', 'absolute', 'absolutely', 'absorbent', 'abstract', 'absurd', 'absurdly', 'abundance', 'abundant', 'abut', 'accent', 'accentuate', 'accept', 'acceptable', 'acceptably', 'accepted', 'access', 'accessory', 'accident', 'accidental', 'accidentally', 'accommodate', 'accommodating', 'accompany', 'accomplish', 'accomplishment', 'accord', 'accordance', 'according', 'accordingly', 'accordion', 'account', 'accumulate', 'accuracy', 'accurate', 'accurately', 'ace', 'acetate', 'achieve', 'acid', 'acknowledge', 'acquaintance', 'acquisition', 'across', 'acrylic', 'act', 'action', 'active', 'actively', 'activity', 'actual', 'actuality', 'actually', 'ad', 'add', 'added', 'addict', 'addicted', 'addiction', 'addition', 'additional', 'additionally', 'address', 'adequate', 'adequately', 'adhesive', 'adieu', 'adjacent', 'adjust', 'adjustable', 'adjustment', 'admirable', 'admiration', 'admire', 'admired', 'admiring', 'admit', 'admittedly', 'adopted', 'adorable', 'adorably', 'adore', 'adorn', 'adult', 'advantage', 'adventure', 'adventurous', 'advertise', 'advertisement', 'advertising', 'advice', 'advise', 'advised', 'aesthetic', 'aesthetically', 'aesthetics', 'affair', 'affect', 'affected', 'affluent', 'afford', 'affordable', 'aflutter', 'afraid', 'aft', 'afternoon', 'afterthought', 'afterward', 'afterwards', 'afterwork', 'aga', 'age', 'aged', 'ageless', 'agent', 'aggressive', 'aggressively', 'aghast', 'ago', 'agree', 'agreed', 'agreeing', 'agreement', 'ah', 'ahead', 'ahem', 'ahoy', 'ai', 'aid', 'aiming', 'air', 'airiness', 'airing', 'airplane', 'airport', 'airy', 'ak', 'aka', 'akin', 'al', 'alas', 'albeit', 'alert', 'align', 'alignment', 'alike', 'alive', 'allergic', 'alleviate', 'alley', 'allot', 'allover', 'allow', 'allowance', 'alluring', 'allusion', 'almost', 'alone', 'along', 'alpaca', 'already', 'alright', 'also', 'alt', 'altar', 'alter', 'alteration', 'alternate', 'alternately', 'alternative', 'altho', 'although', 'alto', 'altogether', 'alway', 'always', 'ama', 'amaze', 'amazed', 'amazement', 'amazing', 'amazingly', 'amber', 'ambiguous', 'ambitious', 'amelia', 'amenable', 'amidst', 'amnesty', 'among', 'amoret', 'amorphous', 'amount', 'ample', 'amply', 'amt', 'analogy', 'analysis', 'anatomy', 'androgynous', 'angel', 'angle', 'angled', 'angling', 'animal', 'ankle', 'anna', 'anniversary', 'announce', 'annoy', 'annoyance', 'annoying', 'annual', 'anomaly', 'anorak', 'another', 'answer', 'ant', 'ante', 'anther', 'anti', 'anticipate', 'anticipation', 'antique', 'anxious', 'anxiously', 'anybody', 'anyhow', 'anyone', 'anything', 'anyway', 'anyways', 'anywhere', 'apart', 'apartment', 'apex', 'apparel', 'apparent', 'apparently', 'appeal', 'appealing', 'appear', 'appearance', 'appetite', 'applaud', 'apple', 'applied', 'applique', 'apply', 'appreciate', 'appreciation', 'apprehension', 'apprehensive', 'approach', 'approachable', 'approaching', 'appropriate', 'appropriately', 'appropriateness', 'approximate', 'approximately', 'apricot', 'apron', 'apt', 'aptly', 'aqua', 'aquarelle', 'ar', 'arbor', 'arc', 'arched', 'architectural', 'arctic', 'area', 'arent', 'argument', 'arise', 'ark', 'arm', 'armed', 'armful', 'armhole', 'armpit', 'arms', 'armscye', 'army', 'arose', 'around', 'arrangement', 'array', 'arrival', 'arrive', 'arrow', 'art', 'artfully', 'article', 'artificial', 'artist', 'artistic', 'artistically', 'artistry', 'arty', 'ash', 'ashamed', 'aside', 'ask', 'askew', 'aspect', 'assemblage', 'assessed', 'assessment', 'asset', 'assets', 'assist', 'assistance', 'assistant', 'associate', 'association', 'assorted', 'assume', 'assumed', 'assuming', 'assumption', 'assurance', 'assure', 'assured', 'ast', 'astronomical', 'aswing', 'asylum', 'asymmetric', 'asymmetrical', 'asymmetry', 'ate', 'athlete', 'athletic', 'athletically', 'athleticism', 'atrocious', 'atrociously', 'attach', 'attached', 'attachment', 'attack', 'attempt', 'attend', 'attendant', 'attent', 'attention', 'attest', 'attic', 'attire', 'attitude', 'attraction', 'attractive', 'attractively', 'attribute', 'atypical', 'auction', 'audience', 'august', 'aunt', 'authentic', 'authenticity', 'automatically', 'autumn', 'autumnal', 'avail', 'availability', 'available', 'ave', 'average', 'aversion', 'avid', 'avoid', 'aw', 'aware', 'awareness', 'away', 'awe', 'awesome', 'awesomely', 'awesomeness', 'awful', 'awfully', 'awhile', 'awkward', 'awkwardly', 'awkwardness', 'azure', 'ba', 'babe', 'baby', 'bac', 'back', 'backed', 'background', 'backless', 'backside', 'backup', 'backward', 'backwards', 'bacon', 'bad', 'badly', 'bag', 'baggage', 'bagged', 'bagger', 'baggie', 'bagginess', 'bagging', 'baggy', 'baglike', 'bailey', 'balance', 'balanced', 'balancing', 'ball', 'balled', 'ballerina', 'ballet', 'balloon', 'ballooning', 'ballroom', 'balmy', 'bam', 'bamboo', 'ban', 'band', 'bandage', 'bandeau', 'banded', 'banding', 'bando', 'bane', 'bank', 'banking', 'banquet', 'bar', 'barbecue', 'bare', 'barefoot', 'barelegged', 'barely', 'bargain', 'barley', 'barn', 'barnyard', 'baroque', 'barrel', 'base', 'baseball', 'based', 'basement', 'bash', 'basic', 'basically', 'basis', 'basket', 'basketball', 'bass', 'bat', 'batch', 'bath', 'bathing', 'bathrobe', 'bathroom', 'bating', 'battle', 'batty', 'batwing', 'bauble', 'bay', 'beach', 'beached', 'beachy', 'bead', 'beaded', 'beading', 'beadwork', 'beam', 'beamed', 'bear', 'bearable', 'bearing', 'beast', 'beat', 'beating', 'beau', 'beauti', 'beautiful', 'beautifully', 'beautify', 'beauty', 'become', 'becomes', 'becoming', 'bed', 'bedspread', 'bedtime', 'bee', 'beef', 'beefy', 'bees', 'beforehand', 'beg', 'begging', 'begin', 'beginning', 'begrudgingly', 'begun', 'behave', 'behind', 'behold', 'beige', 'bel', 'belief', 'believable', 'believe', 'believer', 'believing', 'belive', 'bell', 'belle', 'belled', 'belling', 'bellow', 'belly', 'belong', 'beloved', 'belt', 'belted', 'belting', 'ben', 'bench', 'bend', 'bendable', 'bending', 'bendy', 'beneath', 'beneficial', 'benefit', 'bent', 'berry', 'bes', 'beside', 'besides', 'best', 'bet', 'better', 'betty', 'betwixt', 'beware', 'beyond', 'bias', 'bib', 'biceps', 'bicycle', 'bid', 'bidding', 'big', 'bigger', 'biggest', 'biggish', 'bight', 'bike', 'bikini', 'bilious', 'bill', 'billow', 'billowy', 'bin', 'bind', 'binder', 'binding', 'binge', 'bingo', 'bird', 'birdy', 'birth', 'birthday', 'bit', 'bite', 'biti', 'bitter', 'bitterly', 'biweekly', 'bizarre', 'bizarrely', 'black', 'blade', 'blah', 'blair', 'blanc', 'bland', 'blank', 'blanket', 'blasting', 'blazer', 'blazing', 'blazy', 'bleach', 'bleached', 'bleed', 'bleeding', 'blend', 'blended', 'bless', 'blessed', 'blight', 'blinded', 'blindly', 'bliss', 'blissfully', 'blizzard', 'bloated', 'blob', 'block', 'blocked', 'blocking', 'blonde', 'blood', 'bloom', 'bloop', 'blossom', 'blotchy', 'blouse', 'bloused', 'blousing', 'blow', 'blown', 'blowzy', 'blue', 'blueness', 'blues', 'bluish', 'blunt', 'blurred', 'blush', 'bo', 'board', 'boarder', 'boardwalk', 'boat', 'bod', 'bode', 'bodice', 'bodied', 'bodily', 'body', 'bog', 'boho', 'boiled', 'bold', 'bolero', 'bolo', 'bolt', 'bomb', 'bomber', 'bombshell', 'bone', 'boned', 'bonfire', 'bonnet', 'bonus', 'boo', 'boob', 'boodie', 'boohoo', 'book', 'boom', 'boost', 'booster', 'boot', 'boots', 'booty', 'border', 'bordered', 'bordering', 'borderline', 'boring', 'born', 'borrow', 'bosom', 'boston', 'bot', 'bother', 'bothersome', 'bottom', 'bottomed', 'bottomless', 'boudoir', 'bough', 'bought', 'bounce', 'bound', 'bountiful', 'bouse', 'bout', 'bow', 'bowback', 'box', 'boxer', 'boxing', 'boxlike', 'boxy', 'boy', 'boyish', 'boyishly', 'bozo', 'bra', 'bracelet', 'bracket', 'braid', 'braided', 'brainer', 'bran', 'branch', 'brand', 'branded', 'brass', 'brave', 'bravely', 'bravo', 'bread', 'break', 'breaker', 'breakfast', 'breaking', 'breast', 'breasted', 'breastfeeding', 'breasting', 'breath', 'breathable', 'breathe', 'breathing', 'breeze', 'breeziness', 'breezy', 'brethren', 'briar', 'brick', 'bricky', 'bridal', 'bride', 'bridesmaid', 'bridging', 'brief', 'briefly', 'briefs', 'bright', 'brighten', 'brightening', 'brightness', 'brilliance', 'brilliant', 'brilliantly', 'bring', 'brioche', 'brisk', 'broach', 'broad', 'broaden', 'broadish', 'broadness', 'brocade', 'brochure', 'broke', 'broken', 'bronze', 'bronzed', 'bronzy', 'brooch', 'brooding', 'brother', 'brought', 'brow', 'brown', 'brownish', 'browse', 'browsing', 'brunch', 'brunette', 'brush', 'brushed', 'brushing', 'brutal', 'bu', 'bubble', 'bubbling', 'buckle', 'buckled', 'buckling', 'budge', 'budget', 'bug', 'build', 'builder', 'building', 'built', 'bulge', 'bulk', 'bulked', 'bulkiness', 'bulky', 'bullet', 'bum', 'bumble', 'bummed', 'bummer', 'bump', 'bumpkin', 'bumpy', 'bun', 'bunch', 'bunchiness', 'bunchy', 'bundle', 'bunny', 'burdensome', 'burlap', 'burn', 'burned', 'burning', 'burnout', 'burnt', 'burst', 'bus', 'business', 'bust', 'busted', 'bustle', 'bustling', 'busy', 'busyness', 'butt', 'butter', 'buttercup', 'butterfly', 'buttery', 'buttock', 'button', 'buttoned', 'buttonhole', 'buttons', 'buxom', 'buy', 'buyer', 'buzz', 'ca', 'cab', 'cabernet', 'cable', 'cabled', 'cacoon', 'cacti', 'cadet', 'cadi', 'caftan', 'cage', 'cake', 'cal', 'calf', 'caliber', 'call', 'calling', 'calves', 'cam', 'came', 'camel', 'cameo', 'camera', 'camisole', 'camouflage', 'camp', 'campaign', 'campus', 'canary', 'cancel', 'cancer', 'candidate', 'candlestick', 'candy', 'cane', 'canna', 'canopy', 'canso', 'cant', 'canter', 'canton', 'canvas', 'canyon', 'cap', 'cape', 'capelet', 'capes', 'capped', 'capsule', 'captain', 'captivating', 'capture', 'car', 'caramel', 'carbon', 'card', 'cardboard', 'cardigan', 'cardinal', 'care', 'carefree', 'careful', 'carefully', 'careless', 'caressing', 'carful', 'cargo', 'carnival', 'carol', 'caroline', 'carpet', 'carried', 'carrot', 'carry', 'carrying', 'cart', 'carter', 'carton', 'cartoon', 'cascade', 'case', 'cash', 'cashier', 'cashmere', 'casing', 'cassia', 'cast', 'castoff', 'casual', 'casually', 'casula', 'cat', 'catalogue', 'catch', 'catcher', 'catching', 'catchy', 'categorize', 'category', 'caught', 'causal', 'causally', 'cause', 'causing', 'caution', 'cautious', 'cave', 'caveat', 'cavernous', 'cedar', 'celadon', 'celebrate', 'celebration', 'cell', 'cello', 'cellophane', 'cellular', 'center', 'centered', 'centering', 'centimeter', 'central', 'century', 'ceremony', 'cerise', 'certain', 'certainly', 'cervical', 'cervix', 'chafe', 'chagrin', 'chain', 'chair', 'challenge', 'chambray', 'chameleon', 'chamois', 'champagne', 'champion', 'chance', 'chandelier', 'chang', 'change', 'channel', 'channeling', 'chaos', 'character', 'characteristic', 'charcoal', 'charge', 'charging', 'charisma', 'charity', 'charm', 'charming', 'chart', 'charter', 'chartreuse', 'chase', 'chasing', 'che', 'cheap', 'cheapish', 'cheaply', 'cheapness', 'cheating', 'check', 'checked', 'checkerboard', 'checkered', 'checkers', 'cheek', 'cheeky', 'cheep', 'cheered', 'cheerful', 'cheery', 'cheese', 'cheesecake', 'cheesecloth', 'cheesy', 'cheetah', 'chemical', 'chemise', 'cherish', 'cherry', 'chest', 'chestiness', 'chesty', 'chevron', 'chic', 'chick', 'chicken', 'chicness', 'chief', 'chiffon', 'child', 'childhood', 'childish', 'childlike', 'chill', 'chiller', 'chilling', 'chilly', 'chime', 'chin', 'china', 'chino', 'chirpy', 'chlorine', 'chock', 'chocolate', 'choice', 'choir', 'choke', 'choker', 'choking', 'choose', 'choosing', 'chopped', 'choppy', 'choral', 'chord', 'chore', 'chose', 'chosen', 'christening', 'chronic', 'chub', 'chubbiness', 'chubby', 'chuckle', 'chunk', 'chunkiness', 'chunky', 'church', 'cigar', 'cigarette', 'cinch', 'cinnamon', 'cinque', 'circa', 'circle', 'circular', 'circulation', 'circumference', 'circumferentially', 'circumstance', 'circus', 'cirque', 'citizen', 'citrus', 'city', 'civil', 'clack', 'claim', 'clamp', 'clarification', 'clarify', 'clasp', 'class', 'classes', 'classic', 'classical', 'classically', 'classroom', 'classy', 'clavicle', 'claw', 'clay', 'clean', 'cleaner', 'cleaning', 'cleanly', 'clear', 'clearance', 'clearer', 'clearly', 'cleavage', 'cleave', 'clerk', 'clever', 'cleverly', 'click', 'climate', 'climb', 'climbing', 'clincher', 'cling', 'clinging', 'clingy', 'clip', 'clipped', 'clips', 'clock', 'clog', 'close', 'closed', 'closely', 'closer', 'closet', 'closure', 'cloth', 'clothes', 'clothing', 'cloud', 'cloudy', 'clown', 'clownish', 'cloying', 'club', 'clue', 'clumsy', 'clung', 'cluster', 'clutch', 'coal', 'coarse', 'coast', 'coastal', 'coat', 'coated', 'cobalt', 'cocktail', 'cocoon', 'code', 'coffee', 'cognac', 'cohesive', 'coincidence', 'col', 'cold', 'colder', 'collaboration', 'collage', 'collar', 'collarbone', 'collared', 'collarless', 'collect', 'collected', 'collection', 'collector', 'college', 'colony', 'color', 'colorado', 'coloration', 'colored', 'colorfast', 'colorful', 'coloring', 'colorless', 'colors', 'colour', 'column', 'comb', 'combat', 'combed', 'comber', 'combination', 'combine', 'combined', 'combing', 'combining', 'come', 'comes', 'comfort', 'comfortable', 'comfortably', 'comfy', 'comic', 'comical', 'comically', 'coming', 'comment', 'commercial', 'commission', 'common', 'commonly', 'community', 'companion', 'company', 'comparable', 'compare', 'comparison', 'compatible', 'compensate', 'compete', 'complain', 'complaint', 'complected', 'complement', 'complementary', 'complete', 'completely', 'completer', 'complex', 'complexion', 'compliant', 'complicated', 'compliment', 'complimentary', 'component', 'composed', 'composition', 'compression', 'compromise', 'compromising', 'computer', 'con', 'conceal', 'concealed', 'concept', 'conceptually', 'concern', 'concerned', 'concerning', 'concert', 'conclusion', 'concrete', 'concur', 'condition', 'conditionally', 'conditioned', 'conditioner', 'cone', 'cones', 'confection', 'conference', 'confess', 'confidence', 'confident', 'confine', 'confining', 'confirm', 'confirmed', 'conflict', 'conform', 'conformable', 'confuse', 'confused', 'confusion', 'conjecture', 'connected', 'connector', 'conscience', 'conscious', 'consequence', 'consequently', 'conservative', 'conservatively', 'consider', 'considerable', 'considerably', 'considerate', 'consideration', 'considered', 'considering', 'consistency', 'consistent', 'consistently', 'consolation', 'conspicuous', 'conspicuously', 'constant', 'constantly', 'constrained', 'constraining', 'constrict', 'constricted', 'constriction', 'constrictive', 'construct', 'construction', 'consultant', 'consuming', 'contact', 'contain', 'container', 'contemporary', 'contender', 'content', 'contentment', 'contest', 'continually', 'continue', 'continued', 'continuity', 'continuous', 'continuously', 'contort', 'contortion', 'contortionist', 'contour', 'contra', 'contract', 'contrary', 'contrast', 'contribute', 'control', 'controversial', 'conundrum', 'convenient', 'conventional', 'conversation', 'conversational', 'conversationalist', 'converse', 'conversely', 'convert', 'converted', 'convertible', 'convey', 'convince', 'convinced', 'cooing', 'cook', 'cooking', 'cookout', 'cool', 'cooler', 'cooling', 'coolness', 'cop', 'copper', 'coppery', 'copy', 'coral', 'cord', 'corduroy', 'core', 'corer', 'corn', 'corner', 'cornflower', 'corny', 'corporate', 'corpse', 'correct', 'corrected', 'correctly', 'corset', 'cos', 'cosmetic', 'cost', 'costa', 'costly', 'costume', 'costumer', 'cosy', 'coth', 'cotta', 'cotton', 'cottony', 'couch', 'cough', 'coul', 'could', 'count', 'counter', 'counterbalance', 'counting', 'countless', 'country', 'couple', 'coupled', 'coupon', 'courage', 'course', 'cover', 'coverage', 'coveralls', 'covered', 'covering', 'covet', 'coveting', 'cow', 'cowboy', 'cowl', 'cowled', 'coz', 'cozier', 'cozily', 'coziness', 'cozy', 'crab', 'crack', 'cracked', 'cracking', 'craft', 'craftsman', 'craftsmanship', 'crafty', 'cranberry', 'cranky', 'cranny', 'crass', 'crave', 'craving', 'crawl', 'crawling', 'craze', 'crazy', 'cream', 'creamy', 'crease', 'creasing', 'create', 'creation', 'creative', 'creatively', 'creativity', 'creature', 'credit', 'creek', 'creep', 'creeping', 'creepy', 'crepe', 'crew', 'cried', 'crime', 'crimson', 'cringing', 'crinkle', 'crinkly', 'crinoline', 'crisp', 'crisper', 'crisply', 'crispy', 'criss', 'crisscross', 'criteria', 'critical', 'criticism', 'critique', 'cro', 'crochet', 'crocheting', 'crooked', 'crop', 'cross', 'crossed', 'crossing', 'crossover', 'crossword', 'crotch', 'crowd', 'crowded', 'crown', 'crucial', 'crude', 'cruise', 'crumple', 'crumpled', 'crumply', 'crunchy', 'crush', 'crushed', 'crushing', 'crusty', 'cry', 'cub', 'cucumber', 'cuddly', 'cue', 'cuff', 'culotte', 'culottes', 'cumbersome', 'cunning', 'cup', 'cupcake', 'cupped', 'cur', 'curatorial', 'curb', 'cure', 'curiosity', 'curious', 'curl', 'curled', 'curling', 'curly', 'currant', 'current', 'currently', 'cursed', 'curtain', 'curvaceous', 'curve', 'curved', 'curvy', 'cushion', 'cushy', 'cusp', 'custom', 'customer', 'cut', 'cutaway', 'cute', 'cutely', 'cuteness', 'cutie', 'cutin', 'cutis', 'cutoff', 'cutout', 'cutting', 'cutwork', 'cycle', 'da', 'dab', 'dad', 'daily', 'dainty', 'daisy', 'daker', 'damage', 'damages', 'damask', 'damp', 'dance', 'dancer', 'dancing', 'dang', 'danger', 'dangerous', 'dangerously', 'dangle', 'dangling', 'dapper', 'darby', 'dare', 'daring', 'dark', 'darkly', 'darkness', 'darling', 'darn', 'darned', 'dart', 'darting', 'darts', 'dash', 'dashed', 'date', 'daughter', 'davy', 'dawn', 'day', 'daybreak', 'daylight', 'days', 'daytime', 'dazzle', 'de', 'dead', 'deal', 'dealing', 'dealt', 'dear', 'death', 'debate', 'debating', 'decade', 'decadent', 'deceive', 'deceiving', 'decent', 'decently', 'deceptive', 'deceptively', 'decide', 'decided', 'decidedly', 'decision', 'decked', 'declared', 'decolletage', 'decorated', 'decoration', 'decorative', 'deduce', 'deem', 'deep', 'deeply', 'deer', 'default', 'defect', 'defective', 'defense', 'defiantly', 'define', 'defined', 'definite', 'definitely', 'definition', 'definitive', 'definitively', 'degrade', 'degree', 'deign', 'delaine', 'delay', 'delegate', 'deliberately', 'delicacy', 'delicate', 'delicately', 'delicateness', 'delicious', 'deliciously', 'delight', 'delighted', 'delightful', 'delightfully', 'delineator', 'deliver', 'delivery', 'demi', 'demographic', 'demon', 'demure', 'denim', 'dense', 'density', 'deny', 'deodorant', 'department', 'departure', 'depend', 'depending', 'depict', 'depiction', 'depth', 'derby', 'derelict', 'descent', 'describe', 'description', 'descriptive', 'desert', 'deserve', 'deserved', 'deserving', 'desi', 'design', 'designed', 'designer', 'desirable', 'desire', 'desired', 'desk', 'desperate', 'desperately', 'despite', 'destroy', 'detach', 'detachable', 'detached', 'detail', 'detailed', 'detect', 'deter', 'detergent', 'determine', 'determined', 'deterrent', 'detest', 'detract', 'develop', 'device', 'devoted', 'devotee', 'di', 'diagonal', 'dial', 'diameter', 'diamond', 'diaper', 'diaphanous', 'dice', 'dickey', 'didnt', 'die', 'diet', 'differ', 'difference', 'different', 'differently', 'difficult', 'difficulty', 'dig', 'digging', 'digit', 'digress', 'digs', 'dilemma', 'diligent', 'dim', 'dime', 'dimension', 'dimensional', 'diminish', 'dimple', 'dine', 'diner', 'ding', 'dingy', 'dining', 'dinner', 'dinosaur', 'dint', 'dip', 'dipped', 'dipping', 'dire', 'direct', 'directed', 'direction', 'directly', 'dirt', 'dirty', 'disadvantage', 'disagree', 'disagreed', 'disappear', 'disappearing', 'disappoint', 'disappointed', 'disappointedly', 'disappointing', 'disappointingly', 'disappointment', 'disaster', 'disastrous', 'disastrously', 'discard', 'discern', 'discerning', 'disclaimer', 'disclosure', 'discolor', 'discoloration', 'discolored', 'discomfort', 'discontinue', 'discount', 'discourage', 'discouraging', 'discover', 'discovered', 'discreet', 'discrepancy', 'discuss', 'disgraceful', 'disguise', 'disguised', 'disguising', 'disgusted', 'disgusting', 'disgustingly', 'dish', 'disheveled', 'disintegrate', 'dislike', 'dismay', 'dismayed', 'display', 'displayed', 'disposable', 'disposed', 'disproportionate', 'disproportionately', 'disrobe', 'diss', 'dissenter', 'disservice', 'dissuade', 'distance', 'distinct', 'distinction', 'distinctive', 'distinctly', 'distinguishable', 'distorted', 'distract', 'distracted', 'distraction', 'distraught', 'distress', 'distressed', 'distressing', 'distribute', 'distribution', 'district', 'disturb', 'disturbed', 'disturbing', 'dit', 'ditto', 'diva', 'dive', 'divers', 'diversity', 'divide', 'dividing', 'divine', 'divinely', 'diving', 'division', 'doable', 'dobby', 'doc', 'dock', 'doe', 'doesnt', 'doest', 'dog', 'doggedly', 'dogs', 'doily', 'doldrums', 'doll', 'dollar', 'dolly', 'dolman', 'dolor', 'dominant', 'dominantly', 'dominate', 'domino', 'donated', 'done', 'donna', 'dont', 'door', 'doorstep', 'dose', 'dot', 'dotted', 'double', 'doubled', 'doubt', 'doubtful', 'dove', 'dow', 'dowdy', 'downfall', 'downhill', 'downright', 'downside', 'downtown', 'downward', 'dozen', 'drab', 'draft', 'drag', 'dragged', 'dragging', 'dragonfly', 'drama', 'dramatic', 'dramatically', 'drape', 'draper', 'drapery', 'drastic', 'drastically', 'draw', 'drawback', 'drawer', 'drawing', 'drawn', 'drawstring', 'dread', 'dreadful', 'dream', 'dreamy', 'dreary', 'dress', 'dressed', 'dresser', 'dressiness', 'dressing', 'dressmaker', 'dressy', 'drew', 'dried', 'drier', 'drink', 'drinking', 'drip', 'drive', 'driving', 'drool', 'droop', 'drooping', 'droopy', 'drop', 'dropping', 'droppy', 'drove', 'drown', 'drug', 'drugstore', 'drumstick', 'dry', 'drying', 'dual', 'dubious', 'duck', 'dud', 'due', 'dug', 'dull', 'duller', 'dummy', 'dumpy', 'dunk', 'duper', 'durability', 'durable', 'dusky', 'dust', 'duster', 'dusty', 'duty', 'dye', 'dying', 'dynamic', 'dynamite', 'eager', 'eagerly', 'ear', 'earl', 'early', 'earnest', 'earnings', 'earth', 'earthly', 'earthy', 'ease', 'easel', 'easier', 'easiest', 'easily', 'easiness', 'east', 'easter', 'eastern', 'easy', 'easygoing', 'eat', 'eating', 'eccentric', 'echo', 'eclat', 'eclectic', 'economical', 'ecru', 'ecstatic', 'edge', 'edged', 'edginess', 'edging', 'edgy', 'edition', 'effect', 'effective', 'effector', 'effects', 'effort', 'effortless', 'effortlessly', 'egg', 'eggplant', 'eggshell', 'ego', 'eh', 'eight', 'either', 'el', 'elaborate', 'elastic', 'elasticity', 'elated', 'elbow', 'elder', 'electric', 'electricity', 'elegance', 'elegant', 'elegantly', 'element', 'elementary', 'elephant', 'elevate', 'elevated', 'elevating', 'eliminate', 'elle', 'elongate', 'elongated', 'else', 'elsewhere', 'em', 'embarrassed', 'embarrassing', 'embellishment', 'embodiment', 'embrace', 'embracing', 'embroider', 'embroiderer', 'embroidery', 'emerald', 'emergency', 'emphasis', 'emphasize', 'empire', 'employee', 'empty', 'emulate', 'en', 'enable', 'enamor', 'enamored', 'encounter', 'encourage', 'encouragement', 'encouraging', 'end', 'ended', 'endless', 'endlessly', 'enduring', 'energy', 'engagement', 'engine', 'enhance', 'enhanced', 'enhancement', 'enjoy', 'enjoyable', 'enjoying', 'enjoyment', 'enlarged', 'enlarging', 'enormous', 'enormously', 'enough', 'ensemble', 'ensure', 'enter', 'entering', 'entertaining', 'enthusiasm', 'enthusiast', 'enthusiastic', 'entire', 'entirely', 'entrancing', 'entry', 'envelope', 'envious', 'environment', 'environs', 'envision', 'epic', 'epitome', 'equal', 'equally', 'equivalent', 'era', 'err', 'errand', 'erratic', 'erring', 'error', 'escape', 'especially', 'essence', 'essential', 'essentially', 'estimate', 'estimation', 'eternal', 'ethereal', 'ethnic', 'eu', 'eve', 'even', 'evening', 'evenly', 'evens', 'event', 'eventually', 'ever', 'evergreen', 'every', 'everybody', 'everyday', 'everyone', 'everything', 'everywhere', 'evident', 'evidently', 'evocative', 'ex', 'exacerbate', 'exact', 'exactly', 'exaggerate', 'exaggerated', 'exaggerating', 'exaggeration', 'examination', 'examine', 'examining', 'example', 'excellent', 'excellently', 'except', 'exception', 'exceptional', 'exceptionally', 'excess', 'excessive', 'excessively', 'exchange', 'excited', 'excitedly', 'excitement', 'exciting', 'exclude', 'exclusive', 'exclusively', 'excuse', 'execute', 'executed', 'execution', 'exercise', 'exhausted', 'exhausting', 'exhilarating', 'exist', 'existence', 'exit', 'exorbitant', 'exotic', 'expand', 'expanding', 'expect', 'expectant', 'expectation', 'expedited', 'expense', 'expensive', 'experience', 'experienced', 'experiment', 'experimented', 'expert', 'expertly', 'explain', 'explaining', 'explanation', 'exploring', 'expose', 'exposed', 'exposure', 'express', 'exquisite', 'exquisitely', 'extend', 'extended', 'extensive', 'extensively', 'extent', 'exterior', 'external', 'extra', 'extraordinarily', 'extraordinary', 'extravagant', 'extreme', 'extremely', 'eye', 'eyed', 'eyeglass', 'eyelash', 'eyelet', 'eying', 'fa', 'fabled', 'fabric', 'fabrication', 'fabulous', 'fabulously', 'face', 'faced', 'facing', 'fact', 'factor', 'factory', 'faculty', 'fade', 'faded', 'fading', 'fail', 'failing', 'failure', 'faint', 'fair', 'fairer', 'fairly', 'fairness', 'fairy', 'faith', 'fake', 'fall', 'fallacy', 'fallback', 'fallen', 'falling', 'false', 'faltering', 'familiar', 'family', 'famine', 'famous', 'fan', 'fanatic', 'fancied', 'fancier', 'fancy', 'fantasia', 'fantastic', 'fantastically', 'fantasy', 'far', 'fare', 'farm', 'farrier', 'farrow', 'farther', 'farthest', 'fascinating', 'fashion', 'fashionable', 'fashioned', 'fast', 'fasten', 'fastener', 'fastening', 'faster', 'fat', 'fatal', 'fate', 'fateful', 'fathom', 'fatter', 'fattiness', 'fatty', 'fault', 'faulty', 'favor', 'favorable', 'favorably', 'favorite', 'fe', 'fear', 'feared', 'fearful', 'feasible', 'feast', 'feat', 'feather', 'feature', 'featured', 'fee', 'feed', 'feedback', 'feel', 'feeling', 'feign', 'feline', 'fell', 'fellow', 'felt', 'felted', 'felting', 'feltlike', 'felty', 'female', 'feminie', 'feminine', 'femininity', 'fence', 'ferry', 'fess', 'fest', 'festival', 'festive', 'festoon', 'fetching', 'fever', 'fi', 'fiance', 'fiber', 'fiddling', 'field', 'fiend', 'fierce', 'fiery', 'fifteen', 'fifth', 'fifty', 'fig', 'fight', 'fighting', 'figure', 'figured', 'filigree', 'fill', 'filled', 'film', 'filmy', 'filter', 'filthy', 'fin', 'final', 'finale', 'finally', 'financial', 'find', 'finding', 'fine', 'finely', 'finer', 'finesse', 'finestill', 'finger', 'fingernail', 'finish', 'finished', 'finishing', 'fir', 'fire', 'fireside', 'firm', 'firmly', 'firmness', 'first', 'firstly', 'fish', 'fisher', 'fisherman', 'fist', 'fit', 'fitness', 'fitted', 'fitter', 'fitting', 'five', 'fix', 'fixable', 'fixed', 'fixture', 'flabby', 'flag', 'flail', 'flair', 'flake', 'flamboyant', 'flamenco', 'flamingo', 'flanking', 'flannel', 'flannels', 'flap', 'flapper', 'flare', 'flaring', 'flash', 'flashing', 'flashy', 'flat', 'flatten', 'flattening', 'flatter', 'flattering', 'flatteringly', 'flattery', 'flatting', 'flaunt', 'flavor', 'flaw', 'flawed', 'flawless', 'flawlessly', 'flawy', 'flax', 'flea', 'fleece', 'fleeced', 'fleecelike', 'fleecy', 'flesh', 'fleshy', 'flew', 'flex', 'flexibility', 'flexible', 'flexibly', 'flight', 'flimsy', 'flip', 'flirt', 'flirty', 'float', 'floating', 'floaty', 'flood', 'floor', 'flop', 'floppy', 'flora', 'floral', 'florescent', 'flory', 'flounce', 'flour', 'flow', 'flower', 'flowered', 'flowery', 'flowing', 'flown', 'flub', 'fluctuate', 'fluff', 'fluffiness', 'fluffy', 'fluid', 'fluidity', 'fluke', 'flung', 'fluorescent', 'flutter', 'fluttering', 'fluttery', 'fly', 'flyaway', 'flying', 'foam', 'foamlike', 'foamy', 'focal', 'focus', 'foggy', 'foil', 'fold', 'foldable', 'folded', 'folding', 'folk', 'folkloric', 'follow', 'following', 'fondly', 'font', 'food', 'fool', 'foolishly', 'foollike', 'foot', 'football', 'footless', 'footwear', 'force', 'forced', 'forcing', 'ford', 'forearm', 'forehead', 'foresee', 'forest', 'forever', 'forewarning', 'forget', 'forgive', 'forgiveness', 'forgiving', 'forgot', 'forgotten', 'form', 'formal', 'formality', 'formally', 'formalness', 'format', 'formed', 'former', 'formerly', 'forming', 'formless', 'formula', 'fort', 'forth', 'fortunate', 'fortunately', 'fortune', 'forward', 'fostering', 'fought', 'found', 'foundation', 'fountain', 'four', 'fourth', 'fox', 'foxy', 'fraction', 'fragile', 'frail', 'frame', 'framed', 'framing', 'franco', 'frank', 'frankly', 'fray', 'frayed', 'fraying', 'freakishly', 'free', 'freedom', 'freely', 'freeze', 'freezer', 'freezing', 'frequent', 'frequently', 'fresh', 'freshen', 'freshly', 'freshman', 'friction', 'friend', 'friendly', 'frigid', 'frill', 'frilly', 'fringe', 'fringed', 'fringing', 'fringy', 'frist', 'frivolous', 'fro', 'frock', 'front', 'frontal', 'frosty', 'froth', 'fruit', 'frump', 'frumpiness', 'frumpy', 'frustration', 'fu', 'full', 'fuller', 'fullish', 'fullness', 'fully', 'fun', 'function', 'functional', 'functionality', 'funds', 'funeral', 'funk', 'funky', 'funnel', 'funnily', 'funny', 'fur', 'furniture', 'furry', 'furthermore', 'fusible', 'fuss', 'fussy', 'future', 'futuristic', 'fuzz', 'fuzziness', 'fuzzy', 'ga', 'gadget', 'gain', 'gaining', 'gal', 'gala', 'gallery', 'galore', 'gamble', 'game', 'gamut', 'gap', 'gape', 'gapes', 'gaping', 'gappy', 'gar', 'garbage', 'garden', 'garish', 'garment', 'garner', 'garnet', 'garter', 'gas', 'gasoline', 'gate', 'gateway', 'gather', 'gathering', 'gaudy', 'gauge', 'gauntlet', 'gauze', 'gauzelike', 'gauzy', 'gave', 'ge', 'gear', 'geared', 'geek', 'gel', 'gem', 'gender', 'general', 'generally', 'generate', 'generic', 'generous', 'generously', 'genetic', 'geneva', 'genie', 'genius', 'gentle', 'gently', 'genuine', 'genuinely', 'geometric', 'geometrical', 'geometry', 'geranium', 'get', 'getaway', 'getter', 'getting', 'ghost', 'giant', 'giantess', 'giddy', 'gift', 'gifted', 'gigantic', 'gilded', 'gill', 'gingham', 'girl', 'girlie', 'girlish', 'girly', 'girth', 'give', 'given', 'giving', 'glad', 'gladiator', 'gladly', 'glam', 'glamorous', 'glamour', 'glance', 'glancing', 'glass', 'glasses', 'glide', 'glimmer', 'glimmery', 'glimpse', 'glistening', 'glitter', 'glittery', 'globally', 'gloomy', 'glorious', 'glory', 'gloss', 'glossy', 'glove', 'glow', 'glowing', 'glue', 'gnarly', 'go', 'goal', 'god', 'goddess', 'godsend', 'goes', 'gogo', 'goi', 'going', 'gol', 'gold', 'golden', 'goldenrod', 'goldilocks', 'goldish', 'gon', 'gone', 'goner', 'goo', 'good', 'goodness', 'goods', 'goodwill', 'goody', 'goof', 'goofy', 'goon', 'goose', 'gorge', 'gorgeous', 'gorgeously', 'gorgeousness', 'gorilla', 'gosh', 'got', 'gotten', 'gown', 'grab', 'grabber', 'grace', 'graceful', 'gracefully', 'gracious', 'graciously', 'grad', 'grade', 'grading', 'gradually', 'graduated', 'graduating', 'graduation', 'graham', 'grail', 'grand', 'granddad', 'granddaughter', 'grandma', 'grandmother', 'grandmotherly', 'grandpa', 'grandson', 'granite', 'granny', 'graphic', 'graphics', 'grass', 'grateful', 'grave', 'gravely', 'gravitate', 'gravity', 'gray', 'grayish', 'graze', 'grazing', 'grease', 'great', 'greater', 'greatly', 'greatness', 'greedy', 'green', 'greener', 'greenhouse', 'greenish', 'greeny', 'greige', 'grew', 'grey', 'grid', 'grill', 'grip', 'gripe', 'gripper', 'grocery', 'groin', 'grommet', 'groom', 'grosgrain', 'gross', 'grossly', 'ground', 'group', 'grow', 'growing', 'grown', 'guarantee', 'guard', 'guess', 'guessing', 'guest', 'guidance', 'guide', 'guilt', 'guilty', 'guise', 'gum', 'gumby', 'gun', 'gunny', 'gush', 'gushing', 'gut', 'guy', 'gym', 'gymnastics', 'gypsy', 'ha', 'habit', 'habitus', 'hack', 'hacked', 'hacking', 'hail', 'hair', 'haired', 'hairy', 'half', 'halfway', 'hall', 'hallelujah', 'hallway', 'halt', 'halter', 'hammy', 'hamper', 'hand', 'handed', 'handful', 'handkerchief', 'handle', 'handled', 'handling', 'handmade', 'handsome', 'handwork', 'handy', 'hangar', 'hange', 'hanger', 'hanging', 'hanky', 'hap', 'haphazardly', 'happen', 'happening', 'happier', 'happiest', 'happily', 'happiness', 'happy', 'harbinger', 'hard', 'harder', 'hardly', 'hardware', 'hardy', 'hare', 'harem', 'harm', 'harmonious', 'harness', 'harper', 'harsh', 'hassel', 'hassle', 'hat', 'hate', 'haunt', 'havent', 'haw', 'hawk', 'haystack', 'head', 'headache', 'headband', 'headed', 'heading', 'heal', 'health', 'healthy', 'heaps', 'hear', 'hearing', 'heart', 'heartbeat', 'heartbreaker', 'heartbreakingly', 'heartbroken', 'hearted', 'heartfelt', 'hearts', 'hearty', 'heat', 'heater', 'heather', 'heathered', 'heathery', 'heathy', 'heaven', 'heavenly', 'heavens', 'heavily', 'heaviness', 'heavy', 'heavyweight', 'heck', 'hedging', 'heed', 'heel', 'heeled', 'heft', 'hefty', 'hei', 'height', 'heirloom', 'hello', 'help', 'helpful', 'helping', 'hem', 'hemstitch', 'hence', 'herbalist', 'hero', 'herringbone', 'hesitancy', 'hesitant', 'hesitantly', 'hesitate', 'hesitating', 'hesitation', 'hey', 'hi', 'hidden', 'hide', 'hideous', 'high', 'higher', 'highest', 'highland', 'highlight', 'highly', 'hike', 'hilarious', 'hill', 'hinder', 'hindsight', 'hint', 'hip', 'hipbone', 'hipless', 'hipped', 'hippy', 'hire', 'hist', 'historically', 'history', 'hit', 'ho', 'hobby', 'hoisting', 'hokey', 'hold', 'holder', 'holding', 'holdup', 'hole', 'holey', 'holiday', 'holly', 'holy', 'homage', 'home', 'homeless', 'homemade', 'homespun', 'homework', 'hone', 'honest', 'honestly', 'honesty', 'honey', 'honeymoon', 'honor', 'hood', 'hooded', 'hoodie', 'hook', 'hooked', 'hoop', 'hope', 'hoped', 'hopeful', 'hopefully', 'hopeless', 'hopped', 'horizon', 'horizontal', 'horizontally', 'horrendous', 'horrible', 'horribly', 'horrid', 'horrific', 'horror', 'horse', 'horseshoe', 'horticulture', 'hose', 'hosed', 'hosiery', 'hospital', 'host', 'hostess', 'hot', 'hotel', 'hotter', 'hour', 'hourglass', 'house', 'houseboat', 'housecoat', 'housewife', 'hover', 'hovering', 'howe', 'however', 'hub', 'hubby', 'hue', 'hued', 'hug', 'huge', 'hugely', 'hugger', 'hugging', 'huh', 'hula', 'hulk', 'human', 'humanity', 'humble', 'humid', 'humidity', 'humor', 'hump', 'hunch', 'hunchback', 'hundred', 'hung', 'hungry', 'hunt', 'hunting', 'hurdle', 'hurriedly', 'hurry', 'hurt', 'husband', 'hutch', 'hybrid', 'hydrogen', 'hyphen', 'hysterical', 'hysterically', 'ice', 'icing', 'iconic', 'id', 'ide', 'idea', 'ideal', 'ideally', 'identical', 'ie', 'iffy', 'ignore', 'ikat', 'ill', 'illusion', 'image', 'imaginable', 'imagination', 'imaginative', 'imagine', 'immaculate', 'immediate', 'immediately', 'immensely', 'imminent', 'immodest', 'imp', 'impact', 'impatiently', 'impeccable', 'impeccably', 'impending', 'imperfect', 'imperfection', 'imperial', 'impersonator', 'implore', 'imply', 'importance', 'important', 'importantly', 'impossible', 'impossibly', 'impractical', 'impress', 'impression', 'impressionist', 'impressive', 'impromptu', 'improperly', 'improve', 'improvement', 'impulse', 'impulsively', 'inaccurate', 'inaccurately', 'inadequate', 'inadvertently', 'inappropriate', 'inappropriately', 'inauthentic', 'incase', 'incentive', 'inch', 'incidental', 'incidentally', 'inclination', 'include', 'included', 'inclusive', 'incomparable', 'incomplete', 'incongruous', 'inconsistency', 'inconsistent', 'inconsistently', 'inconvenience', 'inconvenient', 'incorporate', 'incorporated', 'incorrect', 'incorrectly', 'increase', 'increasingly', 'incredible', 'incredibly', 'indecent', 'indecently', 'indecisive', 'indeed', 'independently', 'indicate', 'indication', 'indicative', 'indifference', 'indifferent', 'indigo', 'indispensable', 'individual', 'individuality', 'indoor', 'indoors', 'indulgent', 'industry', 'inevitably', 'inexcusable', 'inexpensive', 'inexplicably', 'inferior', 'infinity', 'inflexibility', 'influence', 'influx', 'informal', 'information', 'informed', 'ingenious', 'ingest', 'ingratiating', 'inherent', 'initial', 'initially', 'injury', 'ink', 'inky', 'inlaw', 'inlay', 'inlet', 'inner', 'innocent', 'innovative', 'input', 'inquiry', 'insane', 'insanely', 'inseam', 'insert', 'inset', 'inside', 'insist', 'insistence', 'inspection', 'inspiration', 'inspirational', 'inspired', 'install', 'instance', 'instant', 'instantaneously', 'instantly', 'instead', 'instinct', 'instruct', 'instructed', 'instruction', 'insubstantial', 'insufficient', 'insulated', 'insulating', 'insult', 'insulting', 'intact', 'intarsia', 'integrity', 'intend', 'intended', 'intending', 'intense', 'intensely', 'intensity', 'intent', 'intention', 'intentional', 'intentionally', 'inter', 'interchangeable', 'interest', 'interested', 'interesting', 'interestingly', 'interfere', 'interim', 'interior', 'internal', 'international', 'internationally', 'internship', 'interpret', 'interpretation', 'interview', 'interviewer', 'interwoven', 'intimate', 'intimidate', 'intolerable', 'intrepid', 'intricacy', 'intricate', 'intricately', 'intriguing', 'intrinsic', 'introduction', 'intrusive', 'intuition', 'invaluable', 'invariably', 'invent', 'inventory', 'invert', 'inverted', 'invest', 'investment', 'invisible', 'inviting', 'involve', 'involved', 'inward', 'inwardly', 'inwards', 'ion', 'iridescent', 'iris', 'iron', 'ironically', 'irradiated', 'irregular', 'irresistible', 'irresistibly', 'irritable', 'irritate', 'irritating', 'irritatingly', 'irritation', 'island', 'islander', 'isle', 'iso', 'isolated', 'issue', 'itch', 'itchiness', 'itching', 'itchy', 'item', 'iteration', 'ivory', 'jack', 'jacker', 'jacket', 'jackety', 'jade', 'jagged', 'jaggedly', 'jam', 'jane', 'japan', 'jasper', 'jaundice', 'jaw', 'jazz', 'jean', 'jeans', 'jelly', 'jersey', 'jess', 'jet', 'jewel', 'jewellike', 'jewelry', 'jiffy', 'jiggle', 'jimmy', 'jingle', 'jingling', 'job', 'jodhpurs', 'joe', 'jog', 'jogger', 'join', 'joke', 'jolly', 'journey', 'joy', 'joyful', 'judge', 'judgment', 'juice', 'julep', 'jump', 'jumper', 'june', 'jungle', 'junior', 'junk', 'jury', 'justice', 'justifiable', 'justification', 'justify', 'justifying', 'jut', 'jutting', 'juvenile', 'juxtaposition', 'kaki', 'kangaroo', 'keel', 'keen', 'keep', 'keeper', 'keeping', 'keg', 'kelly', 'ken', 'kept', 'key', 'keyhole', 'khaki', 'kick', 'kicking', 'kil', 'kill', 'killer', 'killing', 'kim', 'kimono', 'kin', 'kind', 'kindly', 'king', 'kit', 'kitchen', 'kitten', 'kitty', 'knee', 'kneecap', 'knew', 'knicker', 'knit', 'knitted', 'knitter', 'knitting', 'knitwear', 'knobby', 'knock', 'knocking', 'knockoff', 'knockout', 'knot', 'knotted', 'knotting', 'know', 'knowing', 'knowledge', 'known', 'kudos', 'la', 'lab', 'label', 'labor', 'lace', 'laced', 'lacelike', 'lacework', 'lacing', 'lack', 'lackadaisical', 'lackluster', 'lacy', 'ladder', 'laden', 'ladies', 'lady', 'ladybug', 'ladyish', 'ladylike', 'lagoon', 'lai', 'laid', 'lake', 'lamb', 'land', 'landed', 'landscape', 'language', 'lanky', 'lap', 'lapel', 'lar', 'large', 'largely', 'largeness', 'largish', 'largo', 'lariat', 'lark', 'larkspur', 'las', 'laser', 'lass', 'last', 'lasting', 'lastly', 'lat', 'latch', 'late', 'lately', 'later', 'latest', 'latigo', 'latter', 'lattice', 'laugh', 'laughable', 'laughing', 'launder', 'laundry', 'laura', 'lavender', 'law', 'lawn', 'lay', 'layer', 'layered', 'laying', 'layout', 'layover', 'lazy', 'lea', 'lead', 'leading', 'leaf', 'lean', 'leaner', 'leaning', 'leap', 'leapt', 'learn', 'learned', 'learning', 'least', 'leather', 'leathery', 'leave', 'leaves', 'leaving', 'led', 'leery', 'leeway', 'left', 'leftover', 'leg', 'legged', 'legging', 'leggy', 'legit', 'leisure', 'lemon', 'lemonade', 'lemony', 'lend', 'length', 'lengthen', 'lengthwise', 'lengthy', 'lens', 'lent', 'lenth', 'leopard', 'less', 'lesser', 'lesson', 'let', 'letdown', 'letter', 'level', 'li', 'liberation', 'liberty', 'librarian', 'lie', 'lied', 'life', 'lifeless', 'lifelessly', 'lifelong', 'lifesaver', 'lifetime', 'lift', 'lifting', 'light', 'lighten', 'lighter', 'lightheaded', 'lighting', 'lightly', 'lightness', 'lightweight', 'like', 'likely', 'likewise', 'liking', 'lilac', 'lilt', 'lily', 'limb', 'limbed', 'lime', 'limit', 'limited', 'limiting', 'limitless', 'limp', 'lin', 'line', 'linear', 'lined', 'lineman', 'linen', 'liner', 'linger', 'lingerie', 'linin', 'lining', 'link', 'linking', 'lint', 'linty', 'lip', 'lipstick', 'liquid', 'lis', 'list', 'listed', 'listen', 'listening', 'listing', 'lit', 'lite', 'literally', 'lithe', 'litter', 'little', 'live', 'lived', 'lively', 'living', 'lizard', 'llama', 'lo', 'load', 'loaded', 'lobsterlike', 'loca', 'local', 'locally', 'locate', 'location', 'lodge', 'loft', 'lofty', 'log', 'logged', 'loke', 'lone', 'long', 'longer', 'longevity', 'longing', 'longish', 'longs', 'loo', 'look', 'looking', 'lookout', 'loom', 'loop', 'loopy', 'loose', 'loosely', 'loosen', 'looseness', 'looser', 'loosing', 'lopsided', 'loro', 'lose', 'loser', 'losing', 'loss', 'lost', 'lot', 'lota', 'lots', 'lotus', 'loud', 'lounge', 'lounger', 'lounging', 'love', 'loveliness', 'lovely', 'lover', 'loving', 'lovingly', 'low', 'lower', 'lowering', 'lowness', 'loyal', 'luck', 'luckily', 'lucky', 'lucy', 'ludicrous', 'lug', 'luggage', 'lumberjack', 'lump', 'lumpiness', 'lumpy', 'luna', 'lunch', 'luncheon', 'lune', 'lure', 'luscious', 'lusciousness', 'lush', 'lust', 'luster', 'lux', 'luxe', 'luxurious', 'luxuriously', 'luxury', 'lying', 'machine', 'macrame', 'mad', 'made', 'madeline', 'madly', 'magazine', 'magenta', 'magic', 'magical', 'magically', 'magnet', 'magnification', 'magnificent', 'magnify', 'magnolia', 'maid', 'maiden', 'mail', 'mailbox', 'mailed', 'main', 'mainly', 'mainstay', 'maintain', 'maintenance', 'maize', 'major', 'majority', 'make', 'maker', 'making', 'male', 'mall', 'mallard', 'mamma', 'mammoth', 'man', 'manage', 'manageable', 'maneuver', 'mango', 'manicure', 'manipulate', 'manipulation', 'mankind', 'mannequin', 'manner', 'manually', 'manufacture', 'manufacturer', 'many', 'map', 'mar', 'marathoner', 'march', 'marginally', 'marguerite', 'marigold', 'marine', 'mark', 'markdown', 'marked', 'market', 'marketing', 'marking', 'marled', 'maroon', 'marriage', 'married', 'marry', 'marsupial', 'martial', 'marvel', 'marvelous', 'mary', 'masculine', 'mashing', 'mask', 'masquerade', 'mass', 'massive', 'massively', 'mastectomy', 'master', 'masterpiece', 'mat', 'matador', 'match', 'matching', 'matchy', 'mate', 'mater', 'material', 'materiel', 'maternity', 'matronly', 'matte', 'matted', 'matter', 'mattress', 'mature', 'maturity', 'mauve', 'mavis', 'maximize', 'may', 'maybe', 'maynt', 'maza', 'meadow', 'meal', 'mean', 'meaning', 'meant', 'meanwhile', 'measly', 'measure', 'measured', 'measurement', 'measuring', 'meat', 'meatiness', 'meaty', 'medallion', 'media', 'mediately', 'medical', 'medieval', 'mediocre', 'mediterranean', 'medium', 'meek', 'meet', 'meeting', 'melange', 'mellow', 'melodist', 'melon', 'melt', 'melting', 'member', 'memorable', 'memorial', 'memory', 'men', 'mend', 'mending', 'menopause', 'mentality', 'mention', 'merchandise', 'mere', 'merely', 'merit', 'mermaid', 'merry', 'mesh', 'meso', 'mess', 'message', 'messing', 'messy', 'met', 'meta', 'metal', 'metallic', 'metallics', 'method', 'mi', 'michigan', 'micro', 'mid', 'midday', 'middle', 'midnight', 'midriff', 'mids', 'midst', 'midsummer', 'midway', 'might', 'mightnt', 'mighty', 'mila', 'mild', 'milder', 'mildish', 'mildly', 'mile', 'mileage', 'milestone', 'military', 'milk', 'milkmaid', 'milky', 'mill', 'millimeter', 'million', 'mim', 'mimic', 'min', 'mind', 'minded', 'mindful', 'mine', 'miniature', 'minimal', 'minimalism', 'minimally', 'minimize', 'minimum', 'minny', 'minor', 'minority', 'mint', 'minty', 'minuet', 'minus', 'minuscule', 'minute', 'miracle', 'miraculously', 'mirror', 'mischievous', 'miserable', 'mishap', 'mislabel', 'misleading', 'misled', 'mismatch', 'misnomer', 'misread', 'misrepresent', 'miss', 'misshapen', 'missing', 'mission', 'mist', 'mistake', 'mistaken', 'mistakenly', 'mistaking', 'misty', 'misunderstood', 'mite', 'mix', 'mixed', 'mixture', 'mo', 'mobility', 'mocha', 'mock', 'modal', 'mode', 'model', 'modeling', 'moderate', 'moderately', 'modern', 'modernity', 'modest', 'modesty', 'modification', 'mohair', 'moisture', 'mola', 'mold', 'moment', 'mommy', 'mona', 'money', 'moniker', 'monitor', 'monkey', 'monogram', 'monotony', 'monstrosity', 'monstrously', 'month', 'monthly', 'moo', 'mood', 'moon', 'moonlight', 'moonscape', 'moors', 'moot', 'mor', 'morel', 'moreover', 'morgan', 'morning', 'mornings', 'morocco', 'mortar', 'mosaic', 'moss', 'mossy', 'mostly', 'moth', 'mother', 'motif', 'motion', 'motivate', 'motorcycle', 'mottle', 'mottled', 'mou', 'moulded', 'mound', 'mountain', 'mourn', 'mouth', 'movability', 'move', 'moveability', 'movement', 'movie', 'moving', 'mu', 'much', 'mud', 'muddy', 'muffin', 'muggy', 'mullet', 'multicolor', 'multicolored', 'multiple', 'multitude', 'mummy', 'murder', 'murky', 'muscle', 'muscular', 'muse', 'museum', 'mushroom', 'music', 'musical', 'muslin', 'must', 'mustard', 'musty', 'mutton', 'myriad', 'mysteriously', 'mystery', 'na', 'nab', 'nail', 'name', 'namely', 'naming', 'nanny', 'nap', 'napa', 'nape', 'napkin', 'narrow', 'narrower', 'narrowly', 'nat', 'native', 'natural', 'naturally', 'nature', 'naught', 'naughty', 'nautical', 'naval', 'navel', 'navigate', 'navy', 'nay', 'ne', 'near', 'nearby', 'nearest', 'nearly', 'neat', 'neaten', 'neath', 'neatly', 'neatness', 'necessarily', 'necessary', 'necessity', 'neck', 'neckband', 'necked', 'necklace', 'neckline', 'nee', 'need', 'needing', 'needle', 'needles', 'needless', 'needlessly', 'needs', 'negative', 'negatively', 'negligee', 'neighbor', 'neighborhood', 'neighboring', 'neither', 'neon', 'neoprene', 'nephew', 'nervous', 'net', 'netted', 'netting', 'neutral', 'neve', 'never', 'nevertheless', 'new', 'newly', 'news', 'next', 'ni', 'nice', 'nicely', 'niche', 'nick', 'niece', 'nifty', 'nigh', 'night', 'nightdress', 'nightgown', 'nightie', 'nightless', 'nightmare', 'nights', 'nightshirt', 'nighttime', 'nightwear', 'nimble', 'nine', 'nip', 'nipping', 'nipple', 'nit', 'nix', 'nobody', 'nod', 'noir', 'noise', 'noisy', 'nominal', 'non', 'nonadjustable', 'none', 'nonetheless', 'nonexistent', 'nonmuscular', 'nonobvious', 'nonorganic', 'nonsense', 'nonsensical', 'nonsolid', 'nonstop', 'nonstretchy', 'nontraditional', 'nonuniform', 'nook', 'noon', 'nope', 'norm', 'normal', 'normally', 'north', 'northeast', 'northeastern', 'northern', 'northwest', 'nostalgia', 'notable', 'notably', 'notation', 'notch', 'notched', 'note', 'notebook', 'noted', 'nothing', 'notice', 'noticeable', 'noticeably', 'notorious', 'notwithstanding', 'novelty', 'nowadays', 'nowhere', 'nuance', 'nubbly', 'nubby', 'nude', 'nudist', 'number', 'numero', 'numerous', 'nurse', 'nursing', 'nut', 'nutcracker', 'nutmeg', 'nutty', 'nye', 'nylon', 'nymph', 'oatmeal', 'obese', 'obi', 'object', 'objection', 'objectionably', 'oblong', 'obnoxious', 'obscene', 'observation', 'obsession', 'obsessive', 'obtrusive', 'obvious', 'obviously', 'occasion', 'occasional', 'occasionally', 'occurrence', 'ocean', 'oceanside', 'ocher', 'oclock', 'odd', 'oddity', 'oddly', 'ode', 'odor', 'offensive', 'offer', 'offering', 'office', 'official', 'offset', 'oft', 'often', 'oh', 'oil', 'oki', 'old', 'older', 'olive', 'one', 'onetime', 'ongoing', 'ons', 'onto', 'opacity', 'opal', 'opaque', 'opaqueness', 'ope', 'open', 'opening', 'openly', 'openness', 'openwork', 'opera', 'operatic', 'opinion', 'opportunity', 'opposed', 'opposing', 'opposite', 'oppressive', 'opt', 'optic', 'optical', 'optimal', 'optimistic', 'option', 'optional', 'orange', 'orangey', 'orangutan', 'order', 'ordered', 'orderer', 'ordinar', 'ordinarily', 'ordinary', 'ore', 'organ', 'organic', 'organist', 'organization', 'orientation', 'original', 'originality', 'originally', 'orignal', 'ornamental', 'ornate', 'orphan', 'os', 'otherwise', 'ought', 'outcome', 'outdated', 'outdoor', 'outdoors', 'outer', 'outermost', 'outerwear', 'outfit', 'outfitter', 'outgoing', 'outing', 'outline', 'outlined', 'outrageous', 'outrageously', 'outside', 'outsized', 'outstanding', 'outward', 'outwards', 'outwear', 'outweigh', 'oval', 'oven', 'overall', 'overalls', 'overbearing', 'overboard', 'overcast', 'overdone', 'overdress', 'overemphasize', 'overexposure', 'overflowing', 'overhead', 'overindulge', 'overlaid', 'overlap', 'overlay', 'overlong', 'overlook', 'overly', 'overlying', 'overnight', 'overpower', 'overpowering', 'overseas', 'overshadow', 'overshirt', 'oversight', 'oversize', 'oversized', 'overstretch', 'overt', 'overtime', 'overtly', 'overweight', 'overwhelm', 'overwhelming', 'overwhelmingly', 'owe', 'owing', 'owl', 'owner', 'oxblood', 'pa', 'pace', 'pacific', 'pack', 'packable', 'package', 'padding', 'page', 'pain', 'pained', 'painful', 'painfully', 'paint', 'painted', 'painterly', 'painting', 'pair', 'paired', 'pajama', 'pal', 'palate', 'pale', 'paleface', 'paler', 'palette', 'pallet', 'pallette', 'palm', 'pampered', 'pan', 'panama', 'pand', 'pane', 'paned', 'panel', 'paneling', 'panic', 'pant', 'pantie', 'panties', 'pants', 'panty', 'papaya', 'paper', 'par', 'parachute', 'paradise', 'parallel', 'paranoid', 'parcel', 'pardon', 'pari', 'paring', 'park', 'parka', 'parker', 'parrot', 'part', 'partake', 'partial', 'partially', 'particle', 'particular', 'particularly', 'partly', 'partner', 'party', 'pass', 'passable', 'passe', 'passing', 'passion', 'past', 'pasted', 'pastel', 'patch', 'patchouli', 'patchwork', 'patent', 'pathetic', 'patience', 'patient', 'patiently', 'patio', 'patten', 'patter', 'pattern', 'patterned', 'patterning', 'pause', 'pay', 'payed', 'payer', 'paying', 'pea', 'peace', 'peach', 'peachy', 'peacoat', 'peacock', 'peak', 'peaked', 'peaking', 'pear', 'pearl', 'peasant', 'peasantlike', 'peasy', 'pebbled', 'pedal', 'peek', 'peekaboo', 'peel', 'peeled', 'peep', 'peeve', 'pelvis', 'pen', 'pencil', 'pencillike', 'pendant', 'penguin', 'penny', 'peony', 'people', 'pep', 'peplum', 'pepper', 'peppery', 'per', 'perceive', 'percent', 'percentage', 'perception', 'perennial', 'perfect', 'perfecti', 'perfection', 'perfectionist', 'perfectly', 'perfecto', 'perforated', 'performance', 'perfume', 'perhaps', 'period', 'periodically', 'periwinkle', 'perk', 'perky', 'permanent', 'permanently', 'peroxide', 'persimmon', 'person', 'personal', 'personality', 'personally', 'perspective', 'perspiration', 'peruse', 'pesky', 'pessimist', 'pet', 'petal', 'peter', 'petit', 'petite', 'petiteness', 'petroleum', 'petted', 'petticoat', 'pharmacist', 'phase', 'phenomenal', 'pho', 'phoenix', 'phone', 'phot', 'photo', 'photograph', 'photographer', 'photography', 'physical', 'physicality', 'physically', 'physique', 'pi', 'pic', 'pice', 'pick', 'picked', 'pickup', 'picky', 'picnic', 'picot', 'pict', 'picture', 'pictured', 'pie', 'piece', 'piecing', 'pied', 'pierce', 'pig', 'pilcrow', 'pile', 'piled', 'piles', 'piling', 'pill', 'pilled', 'pillow', 'pillowcase', 'pillowy', 'pin', 'pinch', 'pinched', 'pinching', 'pineapple', 'pining', 'pink', 'pinker', 'pinkish', 'pinky', 'pinned', 'pinning', 'piped', 'piping', 'pirate', 'piratelike', 'pit', 'pitiful', 'pity', 'pix', 'pixie', 'place', 'placement', 'placket', 'plague', 'plaid', 'plain', 'plainer', 'plainly', 'plan', 'plane', 'planet', 'planner', 'plastic', 'plate', 'platform', 'platinum', 'play', 'playa', 'player', 'playful', 'playfully', 'playfulness', 'playground', 'plaza', 'pleasant', 'pleasantly', 'please', 'pleaser', 'pleasing', 'pleasure', 'pleat', 'plentiful', 'plenty', 'plethora', 'pliable', 'pliers', 'plucked', 'plug', 'plum', 'plump', 'plunge', 'plunging', 'plus', 'plush', 'ply', 'po', 'pocket', 'pocketed', 'poetic', 'poetry', 'point', 'pointed', 'pointing', 'pointy', 'poise', 'poke', 'poked', 'pokey', 'poking', 'poky', 'polar', 'policy', 'polish', 'polished', 'polite', 'politely', 'polka', 'polo', 'poly', 'polyamide', 'polyester', 'pom', 'poncho', 'pond', 'ponder', 'pondering', 'pony', 'pooch', 'poodle', 'poof', 'pool', 'poolside', 'poor', 'poorly', 'pop', 'popcorn', 'poplin', 'popover', 'poppy', 'popular', 'population', 'porcelain', 'port', 'portion', 'portrait', 'portray', 'pose', 'posey', 'position', 'positioned', 'positive', 'positively', 'possess', 'possessing', 'possession', 'possibility', 'possible', 'possibly', 'post', 'postage', 'posted', 'poster', 'posterior', 'posting', 'postmark', 'postnatal', 'posture', 'posy', 'pot', 'potato', 'potatoes', 'potbellied', 'potential', 'potentially', 'pouch', 'pouchy', 'pouf', 'pounced', 'pound', 'powder', 'powdery', 'power', 'powerful', 'powerless', 'practical', 'practicality', 'practically', 'practice', 'pragmatics', 'prairie', 'praise', 'prance', 'preaching', 'precious', 'precise', 'precisely', 'predict', 'predictable', 'predictably', 'predominant', 'predominantly', 'predominately', 'preface', 'prefect', 'prefectly', 'prefer', 'preferably', 'preference', 'preferred', 'pregnancy', 'pregnant', 'preholiday', 'premium', 'prep', 'prepare', 'prepared', 'preschool', 'present', 'presentable', 'presentation', 'preserve', 'press', 'pressing', 'pressure', 'presumably', 'presumptive', 'pretry', 'prettily', 'prettiness', 'pretty', 'prevalent', 'prevent', 'preview', 'previous', 'previously', 'price', 'priced', 'priceless', 'pricking', 'prickling', 'prickly', 'prim', 'prima', 'primarily', 'primary', 'primula', 'princess', 'print', 'printed', 'printing', 'prior', 'priority', 'prisoner', 'pristine', 'prize', 'pro', 'prob', 'probable', 'probably', 'problem', 'problematic', 'proceed', 'process', 'procrastinate', 'prod', 'produce', 'produced', 'product', 'production', 'profession', 'professional', 'professionalism', 'professionally', 'professor', 'professorial', 'profile', 'prohibitively', 'project', 'prolong', 'prominent', 'prominently', 'promise', 'promising', 'promotion', 'promotional', 'prompt', 'promptly', 'prone', 'pronounced', 'proof', 'propensity', 'proper', 'properly', 'property', 'proportion', 'proportional', 'proportionally', 'proportionate', 'proportionately', 'proportioned', 'props', 'protect', 'protection', 'prototype', 'protrude', 'protrusion', 'prove', 'proved', 'proven', 'provide', 'provided', 'providing', 'proving', 'provocative', 'prowl', 'prudish', 'pry', 'pu', 'public', 'pucker', 'puckery', 'puddle', 'pudge', 'puff', 'puffed', 'puffer', 'puffin', 'puffiness', 'puffing', 'puffy', 'pul', 'pull', 'pump', 'pumpkin', 'pun', 'punch', 'punk', 'pup', 'puppy', 'pur', 'purchasable', 'purchase', 'purchaser', 'pure', 'purely', 'purple', 'purplish', 'purpose', 'purposeful', 'purposefully', 'purposely', 'purse', 'pursuit', 'push', 'pusher', 'pushing', 'put', 'puzzled', 'puzzling', 'pyjama', 'qua', 'quadriceps', 'qualification', 'qualifier', 'qualify', 'quality', 'qualm', 'quantity', 'quarter', 'quarters', 'queen', 'quest', 'question', 'questionable', 'quibble', 'quick', 'quickly', 'quiet', 'quietly', 'quilt', 'quilted', 'quilting', 'quintessential', 'quire', 'quirk', 'quirkiness', 'quirky', 'quit', 'quite', 'quot', 'quote', 'rabbit', 'race', 'racer', 'racing', 'rack', 'racy', 'radiant', 'rag', 'rage', 'ragged', 'raggy', 'raglan', 'rail', 'railroad', 'rain', 'rainbow', 'raincoat', 'rainproof', 'rainy', 'raise', 'raised', 'raising', 'ran', 'rana', 'ranch', 'random', 'randomly', 'range', 'ranged', 'rap', 'rare', 'rarely', 'rarity', 'rash', 'raspberry', 'rat', 'rate', 'rated', 'rath', 'rather', 'rating', 'ratio', 'ratty', 'rave', 'ravel', 'raving', 'raw', 'rayon', 're', 'rea', 'reach', 'reaching', 'reaction', 'read', 'reader', 'readily', 'reading', 'readjust', 'readjustment', 'ready', 'real', 'realign', 'realistic', 'realistically', 'reality', 'realize', 'realizing', 'really', 'realness', 'rear', 'rearrange', 'reason', 'reasonable', 'reasonably', 'reattach', 'rebound', 'rebuy', 'recall', 'receipt', 'receive', 'received', 'recent', 'recently', 'reception', 'receptionist', 'recheck', 'recipe', 'recipient', 'reckon', 'recognition', 'recognizable', 'recognize', 'recommend', 'recommendation', 'reconsider', 'reconstructed', 'record', 'recover', 'recreate', 'recreation', 'rectangle', 'rectangular', 'rectified', 'recurrent', 'recurve', 'red', 'redberry', 'reddish', 'redhead', 'redo', 'reduce', 'reduced', 'redundant', 'reed', 'reef', 'reeled', 'reese', 'ref', 'reference', 'refined', 'refit', 'reflect', 'reflected', 'reflection', 'reflective', 'reflex', 'refrain', 'refresher', 'refreshing', 'refund', 'reg', 'regain', 'regal', 'regard', 'regarding', 'regardless', 'regency', 'region', 'register', 'registry', 'regret', 'regretfully', 'regrettably', 'regular', 'regularly', 'rehearsal', 'reinforce', 'reins', 'reject', 'rejoice', 'related', 'relation', 'relationship', 'relative', 'relatively', 'relax', 'relaxed', 'release', 'relent', 'relentless', 'reliable', 'reliably', 'reliant', 'relief', 'relieved', 'religious', 'relish', 'reluctant', 'reluctantly', 'rely', 'remade', 'remain', 'remains', 'remake', 'remark', 'remarkable', 'remarkably', 'remedy', 'remember', 'remind', 'reminder', 'reminiscent', 'remiss', 'remnant', 'remotely', 'removable', 'removal', 'remove', 'removed', 'remover', 'removing', 'renaissance', 'rename', 'rendition', 'rent', 'rented', 'reorder', 'rep', 'repair', 'repeat', 'repeated', 'repeatedly', 'repel', 'repellent', 'repeller', 'repertoire', 'replace', 'replacement', 'reply', 'report', 'represent', 'representation', 'representative', 'repurchase', 'repurpose', 'request', 'require', 'requirement', 'reroll', 'rescue', 'reseam', 'resemblance', 'resemble', 'resent', 'reservation', 'reserve', 'reserved', 'reservedly', 'resew', 'residual', 'resigned', 'resilient', 'resist', 'resistance', 'resistant', 'resolution', 'resolved', 'resort', 'resounding', 'respect', 'respectable', 'respite', 'response', 'responsible', 'responsibly', 'rest', 'restaurant', 'resting', 'restock', 'restore', 'restrained', 'restrict', 'restricted', 'restriction', 'restrictive', 'result', 'resulting', 'ret', 'retail', 'retailer', 'retain', 'retaining', 'retie', 'retire', 'retired', 'retirement', 'retreat', 'retrospect', 'return', 'returnable', 'returned', 'reunion', 'reve', 'reveal', 'revealed', 'revealing', 'reverse', 'reversed', 'reversible', 'revert', 'revie', 'review', 'reviewer', 'revisit', 'revisitation', 'reward', 'reweave', 'reworked', 'rhapsody', 'rhinestone', 'rial', 'rib', 'ribbed', 'ribbing', 'ribbon', 'riblike', 'rich', 'richly', 'richness', 'rid', 'ride', 'ridge', 'ridiculous', 'ridiculously', 'riding', 'riffle', 'rifle', 'rig', 'right', 'righter', 'rigid', 'rigidity', 'riley', 'ring', 'rinse', 'rip', 'ripping', 'rippling', 'rise', 'rising', 'risk', 'risky', 'road', 'roaming', 'roaring', 'roast', 'robe', 'robin', 'roc', 'rock', 'rocker', 'rocket', 'rocking', 'rode', 'rodeo', 'roger', 'role', 'roll', 'rolled', 'roller', 'rolling', 'romance', 'romantic', 'romp', 'romper', 'roof', 'room', 'roomie', 'roominess', 'roommate', 'roomy', 'rooster', 'rope', 'ropelike', 'roper', 'rose', 'rosebud', 'rosette', 'rosy', 'rotate', 'rotating', 'rotation', 'rotund', 'rouge', 'rough', 'rougher', 'roughly', 'roughness', 'round', 'rounded', 'rounder', 'route', 'routinely', 'row', 'royal', 'royalty', 'rub', 'rubbed', 'rubber', 'rubbery', 'rubbing', 'ruching', 'rue', 'ruffle', 'ruffled', 'ruffling', 'ruffly', 'rug', 'rugged', 'ruggedness', 'ruggy', 'ruglike', 'ruin', 'ruined', 'rule', 'ruler', 'rump', 'run', 'runner', 'running', 'runway', 'rural', 'rush', 'rushed', 'rushing', 'rust', 'rustic', 'rustle', 'rusty', 'sa', 'sabina', 'sable', 'sac', 'saccharine', 'sack', 'sacklike', 'sacred', 'sacrifice', 'sacrificing', 'sad', 'saddle', 'saddlebag', 'sadly', 'safari', 'safe', 'safely', 'safety', 'saffron', 'sag', 'saga', 'sage', 'sagging', 'saggy', 'sai', 'said', 'sailboat', 'sailcloth', 'sailing', 'sailor', 'sake', 'sal', 'sale', 'salesclerk', 'saleslady', 'salespeople', 'salesperson', 'saleswoman', 'sallow', 'salmon', 'salon', 'salt', 'sample', 'sampler', 'san', 'sanctuary', 'sand', 'sandal', 'sanded', 'sandpaper', 'sandy', 'sans', 'sapphire', 'sari', 'sarong', 'sartorial', 'sash', 'sassy', 'sat', 'sateen', 'satin', 'satinlike', 'satiny', 'satisfaction', 'satisfactorily', 'satisfactory', 'satisfied', 'satisfy', 'satisfying', 'saturated', 'sauce', 'saucy', 'sausage', 'save', 'saved', 'saver', 'saving', 'savvy', 'saw', 'sawn', 'sax', 'say', 'saying', 'scale', 'scaled', 'scallop', 'scandalous', 'scar', 'scarf', 'scattered', 'scenario', 'scene', 'scenery', 'schedule', 'scheme', 'school', 'schoolboy', 'scissors', 'scoop', 'scooped', 'scope', 'score', 'scored', 'scoring', 'scoured', 'scout', 'scouting', 'scramble', 'scrappy', 'scratch', 'scratches', 'scratchiness', 'scratching', 'scratchy', 'scream', 'screaming', 'scree', 'screeching', 'screen', 'scrip', 'script', 'scroll', 'scrolled', 'scrooge', 'scrub', 'scruffy', 'scrumptious', 'scrunch', 'scrunchy', 'scuff', 'se', 'sea', 'seal', 'sealed', 'seam', 'seamed', 'seaming', 'seamless', 'seamlessly', 'seamstress', 'search', 'searching', 'searing', 'seaside', 'season', 'seasonal', 'seasonality', 'seasonally', 'seasoned', 'seasonless', 'seat', 'seated', 'seater', 'sec', 'second', 'secondhand', 'secondly', 'secret', 'secretly', 'section', 'secular', 'secure', 'securely', 'security', 'seductive', 'see', 'seed', 'seeing', 'seek', 'seeking', 'seem', 'seeming', 'seemingly', 'seen', 'seersucker', 'seethe', 'seldom', 'select', 'selected', 'selection', 'selective', 'self', 'sell', 'selling', 'selvage', 'semblance', 'semi', 'semiattached', 'semidressy', 'semiformal', 'semihigh', 'semiopaque', 'semisheer', 'send', 'sending', 'sensational', 'sense', 'sensed', 'sensitive', 'sensitivity', 'sensual', 'sent', 'sentence', 'sentimental', 'separate', 'separately', 'separates', 'separating', 'separation', 'sepia', 'sept', 'sequence', 'sequin', 'series', 'serif', 'serious', 'seriously', 'serve', 'service', 'serving', 'session', 'set', 'setting', 'settle', 'settled', 'seven', 'several', 'severe', 'severely', 'sew', 'sewed', 'sewer', 'sewing', 'sewn', 'sexy', 'sh', 'sha', 'shabby', 'shade', 'shaded', 'shading', 'shadow', 'shaggy', 'shake', 'shaking', 'shall', 'shallow', 'sham', 'shame', 'shammy', 'shank', 'shap', 'shape', 'shaped', 'shapeless', 'shapelessly', 'shapelessness', 'shapely', 'shaper', 'shaping', 'share', 'shark', 'sharp', 'sharply', 'shave', 'shaved', 'shaver', 'shawl', 'shear', 'shearer', 'shearling', 'sheath', 'shed', 'shedding', 'shee', 'sheen', 'sheeny', 'sheep', 'sheepskin', 'sheer', 'sheerness', 'sheet', 'sheik', 'shelf', 'shell', 'shelling', 'shied', 'shield', 'shift', 'shifting', 'shimmer', 'shimmering', 'shimmery', 'shimmy', 'shin', 'shine', 'shingles', 'shininess', 'shining', 'shiny', 'ship', 'shipment', 'shipped', 'shipping', 'shirring', 'shirt', 'shirting', 'shirtlike', 'shirttail', 'shirtwaist', 'sho', 'shock', 'shocker', 'shocking', 'shoddily', 'shoddy', 'shoe', 'shoeless', 'shook', 'shoot', 'shop', 'shopper', 'shopping', 'shopworn', 'shore', 'short', 'shortcake', 'shorten', 'shortening', 'shorter', 'shortish', 'shortly', 'shortness', 'shorts', 'shortstop', 'shot', 'shotgun', 'shotty', 'shou', 'shoulder', 'shouldered', 'shouldnt', 'shout', 'shove', 'show', 'showcase', 'shower', 'showing', 'shown', 'showpiece', 'showy', 'shrank', 'shrink', 'shrinkage', 'shrinking', 'shrug', 'shrunk', 'shrunken', 'shuffle', 'shut', 'shy', 'si', 'sice', 'sick', 'sickly', 'side', 'sided', 'sides', 'sideways', 'sie', 'sienna', 'sierra', 'sift', 'sigh', 'sight', 'sign', 'signature', 'significant', 'significantly', 'silhouette', 'silicon', 'silicone', 'silk', 'silkiness', 'silklike', 'silky', 'sill', 'silly', 'silver', 'silvery', 'similar', 'similarly', 'simple', 'simpleness', 'simpler', 'simplicity', 'simplistic', 'simply', 'simultaneously', 'sin', 'since', 'sincerely', 'sing', 'singer', 'singing', 'single', 'singly', 'sink', 'sipper', 'sis', 'sish', 'sissy', 'sister', 'sisterhood', 'sit', 'site', 'sitter', 'sitting', 'situated', 'situation', 'six', 'sizable', 'size', 'sizeable', 'sized', 'sizes', 'sizing', 'skater', 'skating', 'skeptical', 'skew', 'skewed', 'ski', 'skier', 'skies', 'skim', 'skimmed', 'skimming', 'skimpy', 'skin', 'skinned', 'skinny', 'skintight', 'skip', 'skipping', 'skirt', 'skirted', 'skit', 'sky', 'skylark', 'slack', 'slam', 'slant', 'slapping', 'slash', 'slate', 'slee', 'sleek', 'sleeker', 'sleep', 'sleeper', 'sleeping', 'sleepy', 'sleeve', 'sleeved', 'sleeveless', 'slender', 'slenderize', 'slept', 'slice', 'sliced', 'slick', 'slid', 'slide', 'sliding', 'slight', 'slighting', 'slightly', 'slighty', 'slim', 'slimly', 'sling', 'slinkiness', 'slinky', 'slip', 'slipped', 'slipper', 'slippery', 'slipping', 'slit', 'slithering', 'slitted', 'slone', 'sloped', 'sloping', 'sloppiness', 'sloppy', 'slot', 'slouch', 'slouchy', 'slovenly', 'slow', 'slowly', 'slub', 'slubby', 'slumpy', 'sly', 'sma', 'smack', 'small', 'smaller', 'smallish', 'smalls', 'smart', 'smartly', 'smash', 'smashing', 'smear', 'smell', 'smelled', 'smelling', 'smelly', 'smidge', 'smidgen', 'smile', 'smiling', 'smitten', 'smock', 'smocking', 'smoking', 'smoky', 'smooth', 'smoother', 'smoothing', 'smoothly', 'smudge', 'smudged', 'snack', 'snag', 'snagged', 'snail', 'snails', 'snake', 'snakeskin', 'snap', 'snapped', 'snapping', 'snappy', 'snaps', 'snatch', 'snatched', 'snatching', 'sneak', 'snigger', 'snow', 'snowflake', 'snowstorm', 'snowy', 'snuck', 'snug', 'snugger', 'snuggle', 'snugly', 'snugness', 'soak', 'soaked', 'soaking', 'soap', 'soapbox', 'soccer', 'social', 'socially', 'sock', 'sofa', 'soft', 'soften', 'softener', 'softening', 'softly', 'softness', 'sold', 'sole', 'solely', 'soles', 'solid', 'solidly', 'solo', 'solution', 'solve', 'somebody', 'someday', 'somehow', 'someone', 'something', 'sometime', 'sometimes', 'someway', 'somewhat', 'somewhere', 'son', 'song', 'sons', 'soon', 'sooner', 'soothing', 'sophia', 'sophisticated', 'sophistication', 'sore', 'sorely', 'sorry', 'sort', 'soso', 'sought', 'soul', 'sound', 'soup', 'sour', 'source', 'south', 'southeast', 'southern', 'southwest', 'southwestern', 'sown', 'space', 'spaced', 'spacious', 'spade', 'spaghetti', 'span', 'spank', 'spare', 'sparingly', 'spark', 'sparkle', 'sparkly', 'sparks', 'sparrow', 'spattering', 'speak', 'speaker', 'speaking', 'spec', 'special', 'specialist', 'specific', 'specifically', 'specious', 'speck', 'speckle', 'speckled', 'specks', 'specs', 'spectacular', 'spectrum', 'speechless', 'speed', 'spell', 'spencer', 'spend', 'spending', 'spent', 'spice', 'spicy', 'spider', 'spied', 'spiffy', 'spill', 'spillage', 'spin', 'spinning', 'spirit', 'spirited', 'spite', 'splash', 'splashed', 'splashy', 'splendid', 'splendidly', 'splendor', 'split', 'splotch', 'splotchy', 'splurge', 'spoil', 'spoiler', 'spoke', 'spoken', 'spongy', 'spontaneous', 'spor', 'sport', 'sporting', 'sports', 'sporty', 'spot', 'spotlight', 'spotted', 'spotty', 'sprang', 'spray', 'spreading', 'spree', 'spring', 'springlike', 'springtime', 'springy', 'sprinkled', 'sprint', 'spruce', 'sprung', 'spun', 'spunk', 'spurt', 'spy', 'square', 'squared', 'squareness', 'squarish', 'squash', 'squat', 'squeeze', 'squeezing', 'squirming', 'squirrel', 'squish', 'squishy', 'st', 'stability', 'stable', 'stack', 'stadium', 'staff', 'stag', 'stage', 'staged', 'stain', 'staining', 'stair', 'stalked', 'stalking', 'stand', 'standard', 'standing', 'standout', 'standpoint', 'staple', 'star', 'starched', 'starchy', 'stare', 'stargazer', 'staring', 'stark', 'starkly', 'starring', 'start', 'starting', 'stash', 'state', 'stated', 'statement', 'static', 'station', 'statue', 'statuesque', 'stature', 'status', 'stay', 'stayed', 'stays', 'steal', 'steam', 'steamer', 'steaming', 'steamy', 'steel', 'steep', 'steer', 'stell', 'stellar', 'step', 'stepped', 'stepping', 'sternum', 'stet', 'stick', 'sticker', 'stickers', 'sticking', 'sticks', 'sticky', 'stiff', 'stifflike', 'stiffly', 'stiffness', 'stifling', 'still', 'stilt', 'sting', 'stink', 'stinking', 'stirrup', 'stitch', 'stitching', 'stitchwork', 'stock', 'stocking', 'stole', 'stomach', 'stone', 'stood', 'stop', 'stopped', 'stopper', 'storage', 'store', 'storeroom', 'storm', 'story', 'stout', 'stra', 'straight', 'straighten', 'straightforward', 'straightish', 'straightup', 'strained', 'straining', 'strand', 'strang', 'strange', 'strangely', 'stranger', 'strangling', 'strap', 'strapless', 'strapped', 'strategic', 'strategically', 'strategy', 'stratosphere', 'straw', 'strawberry', 'stray', 'stre', 'streaked', 'streamline', 'streamlined', 'street', 'streets', 'strength', 'strenuous', 'stress', 'stretch', 'stretchable', 'stretchiness', 'stretchy', 'strictly', 'stride', 'stright', 'strike', 'striking', 'strikingly', 'string', 'strip', 'stripe', 'striped', 'stripped', 'striving', 'stroke', 'stroll', 'strong', 'strongly', 'struck', 'structural', 'structure', 'structured', 'struggle', 'struggling', 'stubborn', 'stubby', 'stuck', 'stud', 'student', 'studied', 'studio', 'studious', 'study', 'stuff', 'stuffed', 'stuffy', 'stumble', 'stumpy', 'stunner', 'stunning', 'stunningly', 'stunted', 'stupid', 'sturdy', 'sty', 'style', 'styling', 'stylish', 'stylist', 'stylistically', 'sub', 'subdued', 'subject', 'sublime', 'submerge', 'submit', 'subsequent', 'subsequently', 'subset', 'substance', 'substandard', 'substantial', 'substantially', 'substantive', 'substitute', 'substituting', 'subtle', 'subtlety', 'subtly', 'suburban', 'subway', 'succeed', 'success', 'successful', 'successfully', 'succumb', 'suck', 'sucker', 'sucking', 'suction', 'sudden', 'suddenly', 'suede', 'suffer', 'suffering', 'sufficient', 'sufficiently', 'suffocating', 'sugary', 'suggest', 'suggesting', 'suggestion', 'suggestive', 'suit', 'suitable', 'suitcase', 'suite', 'sultry', 'sum', 'summarize', 'summary', 'summation', 'summed', 'summer', 'summerize', 'summerlike', 'summertime', 'summery', 'sumptuous', 'sun', 'sundry', 'sunflower', 'sung', 'sunglass', 'sunless', 'sunlight', 'sunny', 'sunset', 'sunshine', 'sup', 'super', 'superb', 'superdelicate', 'superficial', 'superior', 'superugly', 'supervisor', 'supper', 'supple', 'supply', 'support', 'supporting', 'supportive', 'suppose', 'supposed', 'supposedly', 'supremely', 'sur', 'sure', 'surely', 'surf', 'surface', 'surgery', 'surmountable', 'surpass', 'surplice', 'surplus', 'surprise', 'surprising', 'surprisingly', 'surrender', 'surrounded', 'surrounding', 'surroundings', 'survey', 'survive', 'surviving', 'survivor', 'suspect', 'suspected', 'suspicion', 'suspicious', 'svelte', 'swag', 'swagger', 'swallow', 'swam', 'swamp', 'swanky', 'swap', 'swapping', 'swatch', 'swath', 'sway', 'swayed', 'swear', 'sweat', 'sweater', 'sweating', 'sweaty', 'sweep', 'sweeping', 'sweet', 'sweetheart', 'sweetly', 'swell', 'sweltering', 'swept', 'swim', 'swimmer', 'swimming', 'swimmingly', 'swimsuit', 'swing', 'swinging', 'swingy', 'swirly', 'swish', 'swishing', 'swishy', 'swiss', 'switch', 'switched', 'swollen', 'swooned', 'swoop', 'swore', 'symbol', 'symmetrical', 'symmetry', 'symphony', 'synch', 'synthetic', 'system', 'ta', 'tab', 'tabby', 'table', 'tablecloth', 'tack', 'tackle', 'tacky', 'tact', 'tad', 'taffeta', 'tag', 'tagged', 'tail', 'tailor', 'tailoring', 'take', 'taken', 'taking', 'tale', 'talented', 'talk', 'talking', 'tall', 'taller', 'tallish', 'tallit', 'tame', 'tan', 'tangible', 'tank', 'tanned', 'tanner', 'tap', 'tape', 'taper', 'tapered', 'tapering', 'tapestry', 'target', 'tartan', 'task', 'tassel', 'taste', 'tasteful', 'tastefully', 'tasting', 'tat', 'tattered', 'tattoo', 'taught', 'taupe', 'tax', 'te', 'tea', 'teach', 'teacher', 'teaching', 'teal', 'team', 'tear', 'teardrop', 'tearing', 'tearoom', 'tease', 'teaser', 'tech', 'technically', 'tedious', 'tee', 'teen', 'teenage', 'teens', 'teensy', 'teeny', 'teeter', 'tell', 'teller', 'telling', 'temp', 'temperate', 'temperature', 'temple', 'temporarily', 'temptation', 'tempting', 'ten', 'tend', 'tendency', 'tending', 'tenfold', 'tennis', 'tensile', 'tent', 'tentative', 'tented', 'tentlike', 'tenty', 'term', 'terrace', 'terrible', 'terribly', 'terrific', 'terrifically', 'territory', 'terror', 'terry', 'test', 'testament', 'tested', 'testing', 'testy', 'text', 'textile', 'texturally', 'texture', 'th', 'tha', 'thank', 'thankful', 'thankfully', 'thanks', 'thanksgiving', 'thats', 'theater', 'thee', 'theme', 'theoretically', 'theory', 'therapy', 'thereby', 'therefor', 'therefore', 'thereof', 'theres', 'thermal', 'thermostat', 'theses', 'thesis', 'theyll', 'theyre', 'thick', 'thickish', 'thickness', 'thigh', 'thighed', 'thin', 'thing', 'think', 'thinking', 'thinner', 'thinness', 'thinning', 'thinnish', 'third', 'thirst', 'thirteen', 'thirty', 'tho', 'thong', 'thorax', 'thorough', 'thoroughly', 'thou', 'though', 'thought', 'thoughtful', 'thoughtfully', 'thousand', 'thread', 'threaded', 'threatening', 'three', 'threw', 'thrift', 'thrill', 'thro', 'throat', 'throb', 'throu', 'throughout', 'throw', 'throwaway', 'throwback', 'throwing', 'thrown', 'thumb', 'thus', 'thy', 'ti', 'tic', 'tick', 'ticket', 'tickle', 'tickled', 'tide', 'tie', 'tieback', 'tied', 'tier', 'tiered', 'tig', 'tiger', 'tight', 'tighten', 'tightener', 'tightish', 'tightly', 'tightness', 'tights', 'til', 'tile', 'till', 'time', 'timeless', 'timelessness', 'timely', 'times', 'timeworn', 'timing', 'tinge', 'tinselly', 'tint', 'tinted', 'tiny', 'tip', 'tipping', 'tire', 'tired', 'tissue', 'tit', 'title', 'titled', 'toasty', 'tod', 'today', 'toddler', 'toe', 'toed', 'together', 'told', 'tolerable', 'tolerance', 'tolerate', 'toll', 'tomato', 'tomboy', 'tommy', 'tomorrow', 'ton', 'tonal', 'tone', 'toned', 'tonight', 'took', 'toosh', 'tooth', 'toothed', 'toothpick', 'top', 'topflight', 'topi', 'topic', 'topnotch', 'topped', 'topper', 'toppiece', 'topping', 'tops', 'tor', 'tore', 'torn', 'toro', 'torso', 'torture', 'tory', 'toss', 'tossing', 'tot', 'total', 'totally', 'tote', 'toucan', 'touch', 'touched', 'touching', 'tough', 'toughen', 'touring', 'tournament', 'tow', 'toward', 'towards', 'towel', 'town', 'toxic', 'toy', 'toying', 'tra', 'track', 'tracked', 'trade', 'trading', 'traditional', 'traditionally', 'train', 'training', 'tranquil', 'transcend', 'transfer', 'transferred', 'transform', 'transition', 'transitional', 'translate', 'translation', 'translucent', 'transparency', 'transparent', 'transported', 'trapeze', 'trapezoid', 'trapped', 'traps', 'trash', 'trashy', 'travel', 'traveled', 'traveling', 'traverse', 'treading', 'treasure', 'treat', 'treatment', 'tree', 'trek', 'tremendous', 'tremendously', 'trench', 'trend', 'trepidation', 'tri', 'trial', 'triangle', 'triangular', 'trick', 'tricky', 'tried', 'trifle', 'trigger', 'trim', 'trimester', 'trimmer', 'trimming', 'trip', 'triple', 'tripping', 'trolling', 'tropic', 'tropical', 'troubadour', 'trouble', 'troublesome', 'trough', 'trouser', 'trousers', 'trucker', 'true', 'truer', 'truly', 'trumpet', 'trunk', 'trust', 'trusting', 'trusty', 'truth', 'truthfully', 'try', 'trying', 'tu', 'tub', 'tube', 'tuck', 'tucking', 'tug', 'tugging', 'tula', 'tule', 'tulip', 'tuliplike', 'tulle', 'tum', 'tumble', 'tummy', 'tuned', 'tunic', 'tur', 'turkey', 'turn', 'turned', 'turner', 'turning', 'turns', 'turquoise', 'turtle', 'tush', 'tuts', 'tutu', 'tuxedo', 'tweak', 'twee', 'tweed', 'tweedy', 'tween', 'tweet', 'twenty', 'twice', 'twig', 'twiggy', 'twill', 'twin', 'twinkles', 'twirl', 'twirly', 'twist', 'twisted', 'twisting', 'twisty', 'two', 'tying', 'type', 'typica', 'typical', 'typically', 'ubiquitous', 'ugh', 'ugly', 'ultimate', 'ultimately', 'ultra', 'um', 'umbrella', 'umph', 'umpire', 'un', 'unable', 'unacceptable', 'unaltered', 'unappealing', 'unassuming', 'unattached', 'unattractive', 'unattractively', 'unavailable', 'unavoidable', 'unaware', 'unbalanced', 'unbearable', 'unbearably', 'unbeatable', 'unbelievable', 'unbelievably', 'unbreathable', 'unbutton', 'unbuttoned', 'uncertain', 'uncle', 'unclear', 'unco', 'uncomfortable', 'uncomfortably', 'uncomfy', 'uncommon', 'uncomplicated', 'unconnected', 'uncovered', 'uncuffed', 'uncured', 'uncut', 'undamaged', 'undecided', 'undefined', 'undeniable', 'underarm', 'underdone', 'underdress', 'underdressed', 'undergarment', 'underlay', 'underlayer', 'underlining', 'underlying', 'underneath', 'undershirt', 'underside', 'underskirt', 'underslip', 'understand', 'understandable', 'understanding', 'understatement', 'understood', 'undertaking', 'undertone', 'underwear', 'underweight', 'underwood', 'undesired', 'undies', 'undistinguished', 'undo', 'undoing', 'undone', 'undoubtedly', 'undress', 'undressed', 'uneasy', 'uneven', 'unevenly', 'unexciting', 'unexpected', 'unexpectedly', 'unfamiliar', 'unfasten', 'unfinished', 'unfit', 'unfitted', 'unfixable', 'unflattering', 'unflatteringly', 'unfold', 'unfolded', 'unfolding', 'unforced', 'unforgettable', 'unforgiving', 'unfortunate', 'unfortunately', 'unhappy', 'unhealthily', 'unhealthy', 'unheard', 'unhemmed', 'unhook', 'unicorn', 'uniform', 'unimpressed', 'unimpressive', 'unintentionally', 'unique', 'uniquely', 'uniqueness', 'unit', 'universal', 'universally', 'university', 'unkept', 'unlaced', 'unless', 'unlike', 'unlikely', 'unlined', 'unmatched', 'unmistakable', 'unmodest', 'unnatural', 'unnaturally', 'unnecessarily', 'unnecessary', 'unnoticeable', 'unopened', 'unpack', 'unpacked', 'unpick', 'unpleasant', 'unpleasantly', 'unpredictable', 'unprofessionally', 'unproportioned', 'unprotected', 'unravel', 'unraveled', 'unraveling', 'unravelling', 'unreal', 'unrealistic', 'unreasonable', 'unreasonably', 'unreliable', 'unrepairable', 'unroll', 'unrolled', 'unruly', 'unseamed', 'unsecured', 'unsee', 'unsewn', 'unshapely', 'unsightly', 'unsnapped', 'unsolvable', 'unstable', 'unstitch', 'unstitched', 'unstretched', 'unsuccessful', 'unsuited', 'unsung', 'unsure', 'untacked', 'untanned', 'untie', 'untied', 'untill', 'unto', 'untreatable', 'untucked', 'unusual', 'unusually', 'unveil', 'unwanted', 'unwearable', 'unwieldy', 'unworn', 'unwrapped', 'unwrapping', 'upbeat', 'upcoming', 'update', 'updo', 'upgrade', 'upholstery', 'upkeep', 'uplifted', 'uplifting', 'upon', 'upper', 'upping', 'upright', 'upscale', 'upset', 'upsetting', 'upside', 'upstairs', 'upwards', 'upwell', 'ur', 'urban', 'urge', 'us', 'usable', 'use', 'used', 'useful', 'usefulness', 'useless', 'user', 'usual', 'usually', 'ut', 'utilitarian', 'utility', 'utter', 'utterly', 'vacation', 'vacillate', 'vacillating', 'vaguely', 'vain', 'valentine', 'valid', 'valuable', 'value', 'vanilla', 'vanity', 'variable', 'variance', 'variation', 'varied', 'variety', 'various', 'vary', 'vas', 'vast', 'vee', 'vein', 'velvet', 'velvety', 'vendor', 'vent', 'ventilation', 'venture', 'verdict', 'verge', 'verify', 'versatile', 'versatility', 'version', 'versus', 'vertical', 'vertically', 'vest', 'veterinarian', 'via', 'vibrancy', 'vibrant', 'vice', 'victim', 'video', 'view', 'viewable', 'villa', 'village', 'villain', 'vine', 'vinegar', 'vineyard', 'vinta', 'vintage', 'vinyl', 'violet', 'virtually', 'viscose', 'visibility', 'visible', 'visibly', 'vision', 'visit', 'visiting', 'visual', 'visually', 'vita', 'vitamin', 'vivid', 'vividly', 'vogue', 'voice', 'void', 'voile', 'volition', 'volume', 'voluminous', 'voluptuous', 'vouch', 'vowed', 'vulgar', 'vulnerability', 'vulnerable', 'wa', 'waffle', 'wag', 'waggle', 'waif', 'waist', 'waistband', 'waistcoat', 'waisted', 'waistless', 'waistline', 'wait', 'waiting', 'waiver', 'wake', 'waking', 'wale', 'walk', 'walking', 'wall', 'wallet', 'wallpaper', 'walnut', 'wamp', 'wan', 'wanderer', 'wanderlust', 'want', 'wanting', 'war', 'wardrobe', 'ware', 'warehouse', 'warm', 'warmed', 'warmer', 'warming', 'warmish', 'warmth', 'warn', 'warning', 'warped', 'warrant', 'warranted', 'warren', 'wary', 'wash', 'washability', 'washable', 'washcloth', 'washed', 'washer', 'washing', 'washout', 'washy', 'wasnt', 'waste', 'wasted', 'wasting', 'watch', 'watched', 'watching', 'water', 'waterfall', 'watermelon', 'waterproof', 'wave', 'waved', 'wavering', 'wavy', 'wax', 'way', 'ways', 'weak', 'weakness', 'wear', 'wearability', 'wearable', 'wearer', 'wearing', 'weary', 'weather', 'weathered', 'weave', 'weaved', 'weaver', 'web', 'webbed', 'webbing', 'wed', 'wedding', 'wedge', 'wedged', 'wee', 'week', 'weekday', 'weekend', 'weekender', 'weekly', 'weigh', 'weighed', 'weighing', 'weight', 'weighted', 'weightiness', 'weightless', 'weightlessness', 'weighty', 'weird', 'weirdly', 'welcome', 'welcoming', 'well', 'wen', 'wench', 'went', 'wer', 'werent', 'west', 'western', 'wet', 'wether', 'wetting', 'weve', 'whack', 'whacky', 'whale', 'whatever', 'whatnot', 'whats', 'whatsoever', 'wheelhouse', 'whenever', 'whereas', 'whereof', 'wherever', 'whether', 'whew', 'whey', 'whig', 'whilst', 'whim', 'whimper', 'whimsical', 'whimsically', 'whine', 'whip', 'whiplash', 'whirl', 'whirlwind', 'whiskered', 'whisking', 'whisper', 'whispered', 'whispering', 'whit', 'white', 'whiteness', 'whites', 'whitish', 'whittle', 'whiz', 'whoa', 'whoever', 'whole', 'wholeheartedly', 'whomever', 'whoop', 'whoops', 'whose', 'wi', 'wicked', 'wicking', 'wid', 'wide', 'widely', 'widen', 'wideness', 'width', 'widthwise', 'wife', 'wiggle', 'wight', 'wild', 'wilder', 'wildfire', 'wildly', 'willing', 'willingness', 'willowy', 'wilt', 'win', 'wind', 'winder', 'winding', 'window', 'windowpane', 'windy', 'wine', 'winery', 'wing', 'winglike', 'winking', 'winner', 'winning', 'winter', 'wintry', 'wire', 'wired', 'wireless', 'wise', 'wisely', 'wish', 'wished', 'wishful', 'wishing', 'wispy', 'wisteria', 'wit', 'withe', 'wither', 'withhold', 'within', 'without', 'withstand', 'withstood', 'wo', 'wobbly', 'woke', 'woman', 'womanly', 'wonder', 'wonderful', 'wonderfully', 'wondering', 'wonderland', 'wonky', 'wont', 'wood', 'wooden', 'woodland', 'woohoo', 'wool', 'woolen', 'woollike', 'word', 'wore', 'work', 'workable', 'workday', 'worked', 'worker', 'working', 'workmanship', 'workout', 'workplace', 'works', 'world', 'worldly', 'worm', 'worn', 'worried', 'worrisome', 'worry', 'worrying', 'worse', 'worst', 'worth', 'worthy', 'would', 'wouldnt', 'wound', 'woven', 'wow', 'wowser', 'wowt', 'wrangle', 'wrap', 'wrapped', 'wrapping', 'wrestle', 'wrestler', 'wrestling', 'wretched', 'wring', 'wrinkle', 'wrinkled', 'wrinkly', 'wrist', 'write', 'writer', 'writing', 'written', 'wrong', 'wrote', 'wuzzy', 'yacht', 'yak', 'yank', 'yanking', 'yarn', 'ye', 'yea', 'yeah', 'year', 'yee', 'yelling', 'yellow', 'yellowish', 'yellows', 'yellowy', 'yep', 'yer', 'yes', 'yest', 'yesterday', 'yesteryear', 'yet', 'yield', 'yo', 'yoga', 'yogi', 'yoke', 'yolk', 'yore', 'york', 'youd', 'young', 'younger', 'youth', 'youthful', 'youve', 'yr', 'yuck', 'yucky', 'yummy', 'zag', 'zed', 'zero', 'zig', 'zigzag', 'zip', 'zipper', 'zipping', 'zombie', 'zone', 'zoom', 'zowie', 'ã¼ber']\n"
          ],
          "name": "stdout"
        }
      ]
    },
    {
      "cell_type": "code",
      "metadata": {
        "id": "lBoAA2DGxH8L",
        "colab_type": "code",
        "outputId": "90595623-9947-4484-d951-598ab9f71bac",
        "colab": {
          "base_uri": "https://localhost:8080/",
          "height": 138
        }
      },
      "source": [
        "print(X.toarray())"
      ],
      "execution_count": 0,
      "outputs": [
        {
          "output_type": "stream",
          "text": [
            "[[0. 0. 0. ... 0. 0. 0.]\n",
            " [0. 0. 0. ... 0. 0. 0.]\n",
            " [0. 0. 0. ... 0. 0. 0.]\n",
            " ...\n",
            " [0. 0. 0. ... 0. 0. 0.]\n",
            " [0. 0. 0. ... 0. 0. 0.]\n",
            " [0. 0. 0. ... 0. 0. 0.]]\n"
          ],
          "name": "stdout"
        }
      ]
    },
    {
      "cell_type": "code",
      "metadata": {
        "id": "e4YUgvKmz6RX",
        "colab_type": "code",
        "colab": {}
      },
      "source": [
        "X = pd.DataFrame(X.toarray(), columns=(vectorizer.get_feature_names()))"
      ],
      "execution_count": 0,
      "outputs": []
    },
    {
      "cell_type": "code",
      "metadata": {
        "id": "inOjRI-IxlZf",
        "colab_type": "code",
        "colab": {}
      },
      "source": [
        "from sklearn.model_selection import train_test_split as tts\n",
        "X_train, X_test, y_train, y_test = tts(X, df[\"Recommended IND\"], random_state = 42, test_size = 0.3)"
      ],
      "execution_count": 0,
      "outputs": []
    },
    {
      "cell_type": "code",
      "metadata": {
        "id": "2Rfhs6OG0CJ5",
        "colab_type": "code",
        "outputId": "0f0bf12b-29a3-439e-ea65-2293b2122f03",
        "colab": {
          "base_uri": "https://localhost:8080/",
          "height": 69
        }
      },
      "source": [
        "!pip install xgboost"
      ],
      "execution_count": 0,
      "outputs": [
        {
          "output_type": "stream",
          "text": [
            "Requirement already satisfied: xgboost in /usr/local/lib/python3.6/dist-packages (0.90)\n",
            "Requirement already satisfied: numpy in /usr/local/lib/python3.6/dist-packages (from xgboost) (1.17.5)\n",
            "Requirement already satisfied: scipy in /usr/local/lib/python3.6/dist-packages (from xgboost) (1.4.1)\n"
          ],
          "name": "stdout"
        }
      ]
    },
    {
      "cell_type": "code",
      "metadata": {
        "id": "blHqThqI0Gy7",
        "colab_type": "code",
        "colab": {}
      },
      "source": [
        "# applying base model XGBoost on the data returned by the tf/idf vectorizer\n",
        "\n",
        "from xgboost import XGBClassifier\n",
        "from sklearn.metrics import classification_report\n",
        "\n",
        "# fit model on training data\n",
        "xgb = XGBClassifier()\n",
        "xgb.fit(X_train, y_train)\n",
        "# make predictions for test data\n",
        "xg_pred = xgb.predict(X_test)"
      ],
      "execution_count": 0,
      "outputs": []
    },
    {
      "cell_type": "code",
      "metadata": {
        "id": "bLxubcTw38Ik",
        "colab_type": "code",
        "outputId": "0cb434ac-aa36-47b2-8c48-6ac07ed2828b",
        "colab": {
          "base_uri": "https://localhost:8080/",
          "height": 207
        }
      },
      "source": [
        "xg_probs = xgb.predict_proba(X_test)\n",
        "print(\"\\n Classification Report for test data : \\n\", classification_report(xg_pred, y_test))"
      ],
      "execution_count": 0,
      "outputs": [
        {
          "output_type": "stream",
          "text": [
            "\n",
            " Classification Report for test data : \n",
            "               precision    recall  f1-score   support\n",
            "\n",
            "           0       0.28      0.82      0.42       425\n",
            "           1       0.99      0.86      0.92      6621\n",
            "\n",
            "    accuracy                           0.86      7046\n",
            "   macro avg       0.63      0.84      0.67      7046\n",
            "weighted avg       0.94      0.86      0.89      7046\n",
            "\n"
          ],
          "name": "stdout"
        }
      ]
    },
    {
      "cell_type": "code",
      "metadata": {
        "id": "qMo8g7GN4HXa",
        "colab_type": "code",
        "outputId": "19bf07cf-5ddf-40a6-9019-28b8f5d6a386",
        "colab": {
          "base_uri": "https://localhost:8080/",
          "height": 207
        }
      },
      "source": [
        "xg_probs1 = xgb.predict_proba(X_train)\n",
        "print(\"\\n Classification Report for train data : \\n\", classification_report(xgb.predict(X_train), y_train))"
      ],
      "execution_count": 0,
      "outputs": [
        {
          "output_type": "stream",
          "text": [
            "\n",
            " Classification Report for train data : \n",
            "               precision    recall  f1-score   support\n",
            "\n",
            "           0       0.32      0.89      0.47      1053\n",
            "           1       0.99      0.87      0.93     15387\n",
            "\n",
            "    accuracy                           0.87     16440\n",
            "   macro avg       0.66      0.88      0.70     16440\n",
            "weighted avg       0.95      0.87      0.90     16440\n",
            "\n"
          ],
          "name": "stdout"
        }
      ]
    },
    {
      "cell_type": "code",
      "metadata": {
        "id": "RQ-2Lnam4LTh",
        "colab_type": "code",
        "colab": {}
      },
      "source": [
        ""
      ],
      "execution_count": 0,
      "outputs": []
    },
    {
      "cell_type": "markdown",
      "metadata": {
        "id": "qK6JgmIcTX9D",
        "colab_type": "text"
      },
      "source": [
        "## 11-02-2020 \n",
        "## Function Transform, MinMax Scaler"
      ]
    },
    {
      "cell_type": "code",
      "metadata": {
        "id": "PW4fa-ycVD5z",
        "colab_type": "code",
        "colab": {}
      },
      "source": [
        "import numpy as np"
      ],
      "execution_count": 0,
      "outputs": []
    },
    {
      "cell_type": "code",
      "metadata": {
        "id": "VFPFEJV0ThZM",
        "colab_type": "code",
        "colab": {}
      },
      "source": [
        "def minMaxScaler(X):\n",
        "  for i in range (0, X.shape[1]):\n",
        "    a = X[:, i]   \n",
        "    X[:, i] = (a - a.min()) / (a.max() - a.min())\n",
        "  return X"
      ],
      "execution_count": 0,
      "outputs": []
    },
    {
      "cell_type": "code",
      "metadata": {
        "id": "TWrbvRBQUug0",
        "colab_type": "code",
        "colab": {}
      },
      "source": [
        "df0 = np.array([[0.0, 10.0], [0.13216, 12.11837], [0.25379, 42.05027], [0.30874, 13.11784]])"
      ],
      "execution_count": 0,
      "outputs": []
    },
    {
      "cell_type": "code",
      "metadata": {
        "id": "olIrmMuPU_0P",
        "colab_type": "code",
        "outputId": "2cd34e86-6036-4234-e161-fdbfef2eafd7",
        "colab": {
          "base_uri": "https://localhost:8080/",
          "height": 86
        }
      },
      "source": [
        "df0"
      ],
      "execution_count": 0,
      "outputs": [
        {
          "output_type": "execute_result",
          "data": {
            "text/plain": [
              "array([[ 0.     , 10.     ],\n",
              "       [ 0.13216, 12.11837],\n",
              "       [ 0.25379, 42.05027],\n",
              "       [ 0.30874, 13.11784]])"
            ]
          },
          "metadata": {
            "tags": []
          },
          "execution_count": 38
        }
      ]
    },
    {
      "cell_type": "code",
      "metadata": {
        "id": "51rwUGuLVH0O",
        "colab_type": "code",
        "outputId": "e9c0aeed-b723-4eec-8180-2463d1d48add",
        "colab": {
          "base_uri": "https://localhost:8080/",
          "height": 86
        }
      },
      "source": [
        "from sklearn.preprocessing import FunctionTransformer\n",
        "transformer = FunctionTransformer(minMaxScaler)\n",
        "#X = np.array([[0, 1], [2, 3]])\n",
        "#transformer.transform(df0)\n",
        "transformer.fit_transform(df0)"
      ],
      "execution_count": 0,
      "outputs": [
        {
          "output_type": "execute_result",
          "data": {
            "text/plain": [
              "array([[0.        , 0.        ],\n",
              "       [0.42806245, 0.06609523],\n",
              "       [0.82201853, 1.        ],\n",
              "       [1.        , 0.09727968]])"
            ]
          },
          "metadata": {
            "tags": []
          },
          "execution_count": 46
        }
      ]
    },
    {
      "cell_type": "code",
      "metadata": {
        "id": "Futim9O5VfDL",
        "colab_type": "code",
        "outputId": "bc1b8601-3ac5-4781-b8fc-f8a99796b913",
        "colab": {
          "base_uri": "https://localhost:8080/",
          "height": 86
        }
      },
      "source": [
        "transformer.inverse_transform(df0)"
      ],
      "execution_count": 0,
      "outputs": [
        {
          "output_type": "execute_result",
          "data": {
            "text/plain": [
              "array([[0.        , 0.        ],\n",
              "       [0.42806245, 0.06609523],\n",
              "       [0.82201853, 1.        ],\n",
              "       [1.        , 0.09727968]])"
            ]
          },
          "metadata": {
            "tags": []
          },
          "execution_count": 48
        }
      ]
    },
    {
      "cell_type": "code",
      "metadata": {
        "id": "AK3N0bJYV5bh",
        "colab_type": "code",
        "outputId": "ba3d50bb-f6a0-4812-bc0f-b0239cba5e98",
        "colab": {
          "base_uri": "https://localhost:8080/",
          "height": 86
        }
      },
      "source": [
        "df0"
      ],
      "execution_count": 0,
      "outputs": [
        {
          "output_type": "execute_result",
          "data": {
            "text/plain": [
              "array([[0.        , 0.        ],\n",
              "       [0.42806245, 0.06609523],\n",
              "       [0.82201853, 1.        ],\n",
              "       [1.        , 0.09727968]])"
            ]
          },
          "metadata": {
            "tags": []
          },
          "execution_count": 49
        }
      ]
    },
    {
      "cell_type": "markdown",
      "metadata": {
        "id": "ImvxoGXaafJv",
        "colab_type": "text"
      },
      "source": [
        "## Credit card default dataset"
      ]
    },
    {
      "cell_type": "code",
      "metadata": {
        "id": "8H0Nr8oYbRMp",
        "colab_type": "code",
        "colab": {}
      },
      "source": [
        "df2 = "
      ],
      "execution_count": 0,
      "outputs": []
    },
    {
      "cell_type": "code",
      "metadata": {
        "id": "7jzqR0Rtejkw",
        "colab_type": "code",
        "colab": {}
      },
      "source": [
        "from sklearn.base import BaseEstimator, TransformerMixin\n"
      ],
      "execution_count": 0,
      "outputs": []
    },
    {
      "cell_type": "code",
      "metadata": {
        "id": "4Ym54kbUbwy0",
        "colab_type": "code",
        "colab": {}
      },
      "source": [
        "class PositionalSelector(BaseEstimator, TransformerMixin):\n",
        "  def __init__(self, positions):\n",
        "    self.positions = positions\n",
        "\n",
        "  def fit(self,X,y=None):\n",
        "    return self\n",
        "\n",
        "  def transform(self,X):\n",
        "    return np.array(X)[:self.positions]\n",
        "\n",
        "  def inverse_transform(X):\n",
        "    return X"
      ],
      "execution_count": 0,
      "outputs": []
    },
    {
      "cell_type": "code",
      "metadata": {
        "id": "Wq2uzi_Be21d",
        "colab_type": "code",
        "colab": {}
      },
      "source": [
        "class Min_Max_Scaler(BaseEstimator, TransformerMixin):\n",
        "  def __init__(self):\n",
        "\n",
        "  def fit(self,X,y=None):\n",
        "    return self\n",
        "\n",
        "  def transform(self,X):\n",
        "    return transformer.transform(self)\n",
        "    "
      ],
      "execution_count": 0,
      "outputs": []
    },
    {
      "cell_type": "code",
      "metadata": {
        "id": "JD3ZLV0KWQ7S",
        "colab_type": "code",
        "colab": {}
      },
      "source": [
        "def create_pipeline():\n",
        "  # Categorical -> One hot encoding\n",
        "  # Numerical -> Scaling\n",
        "  numerical_indices = [0,4,12]\n",
        "  categorical_indices = [1,5,7]\n",
        "\n",
        "  p1 = make_pipeline(np.PositionalSelector(categorical_indices)''', np.StripString()''', np.SimpleOneHotEncoder())\n",
        "  p2 = make_pipeline(np.PositionalSelector(categorical_indices), StandardScaler())\n",
        "\n",
        "  feats = FeatureUnion([\n",
        "                        ('numericals', p1),\n",
        "                        ('categoricals', p2)\n",
        "  ])\n",
        "\n",
        "  pipeline = Pipeline([\n",
        "                       ('pre', feats),\n",
        "                       ('estimator',GradientBoostingClassifier(max_depth = 4, n_estimator = 100))\n",
        "  ])\n",
        "  return pipeline"
      ],
      "execution_count": 0,
      "outputs": []
    }
  ]
}