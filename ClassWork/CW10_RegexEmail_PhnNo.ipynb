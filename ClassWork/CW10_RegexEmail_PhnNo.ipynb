{
  "nbformat": 4,
  "nbformat_minor": 0,
  "metadata": {
    "colab": {
      "name": "CW10_RegexEmail_PhnNo.ipynb",
      "provenance": [],
      "authorship_tag": "ABX9TyNCVAeN0pqZf9mcvAn3lga/",
      "include_colab_link": true
    },
    "kernelspec": {
      "name": "python3",
      "display_name": "Python 3"
    }
  },
  "cells": [
    {
      "cell_type": "markdown",
      "metadata": {
        "id": "view-in-github",
        "colab_type": "text"
      },
      "source": [
        "<a href=\"https://colab.research.google.com/github/SakshiGehani/J015_NLPassignments/blob/ClassWork/CW10_RegexEmail_PhnNo.ipynb\" target=\"_parent\"><img src=\"https://colab.research.google.com/assets/colab-badge.svg\" alt=\"Open In Colab\"/></a>"
      ]
    },
    {
      "cell_type": "code",
      "metadata": {
        "id": "UBb65r3QllMU",
        "colab_type": "code",
        "colab": {}
      },
      "source": [
        "import re"
      ],
      "execution_count": 0,
      "outputs": []
    },
    {
      "cell_type": "markdown",
      "metadata": {
        "id": "VX_iwD9V7DwB",
        "colab_type": "text"
      },
      "source": [
        "## Email Validation using Regex"
      ]
    },
    {
      "cell_type": "code",
      "metadata": {
        "id": "73R5oxUB5NCP",
        "colab_type": "code",
        "colab": {}
      },
      "source": [
        "text = \"My name is abc. My mail id is abc09.vyg@gmail.com. My contact number is 91-9918993366.\""
      ],
      "execution_count": 0,
      "outputs": []
    },
    {
      "cell_type": "code",
      "metadata": {
        "id": "dxbZ_ZJt5if-",
        "colab_type": "code",
        "outputId": "ba5d4d47-d6d1-421c-e8e5-0ff536f27f8b",
        "colab": {
          "base_uri": "https://localhost:8080/",
          "height": 34
        }
      },
      "source": [
        "email = re.findall(r'\\b\\w+@\\w+\\b', text)\n",
        "email"
      ],
      "execution_count": 3,
      "outputs": [
        {
          "output_type": "execute_result",
          "data": {
            "text/plain": [
              "['vyg@gmail']"
            ]
          },
          "metadata": {
            "tags": []
          },
          "execution_count": 3
        }
      ]
    },
    {
      "cell_type": "code",
      "metadata": {
        "id": "f2NFewGp50Aj",
        "colab_type": "code",
        "outputId": "d414084d-7101-4beb-c4cd-606896df366c",
        "colab": {
          "base_uri": "https://localhost:8080/",
          "height": 34
        }
      },
      "source": [
        "email = re.findall(r'\\b[A-Za-z0-9_.%-+]+@[A-Za-z0-9.-]+\\.[A-Z]{2,}\\b', text)\n",
        "email"
      ],
      "execution_count": 4,
      "outputs": [
        {
          "output_type": "execute_result",
          "data": {
            "text/plain": [
              "[]"
            ]
          },
          "metadata": {
            "tags": []
          },
          "execution_count": 4
        }
      ]
    },
    {
      "cell_type": "code",
      "metadata": {
        "id": "XtuMHE-e6vYM",
        "colab_type": "code",
        "outputId": "00bdd40c-944a-4182-cb85-381f95e2def1",
        "colab": {
          "base_uri": "https://localhost:8080/",
          "height": 34
        }
      },
      "source": [
        "email = re.findall(r'\\b[A-Za-z0-9_\\.]+@[A-Za-z0-9.-]+\\.[A-Za-z]{2,}\\b', text)\n",
        "email"
      ],
      "execution_count": 5,
      "outputs": [
        {
          "output_type": "execute_result",
          "data": {
            "text/plain": [
              "['abc09.vyg@gmail.com']"
            ]
          },
          "metadata": {
            "tags": []
          },
          "execution_count": 5
        }
      ]
    },
    {
      "cell_type": "markdown",
      "metadata": {
        "id": "0-GYNlQ67Hdv",
        "colab_type": "text"
      },
      "source": [
        "## Phone No Validation"
      ]
    },
    {
      "cell_type": "code",
      "metadata": {
        "id": "XXiUJn7u6_UD",
        "colab_type": "code",
        "outputId": "cdc7b546-94dd-4b62-8f81-71fa688d1856",
        "colab": {
          "base_uri": "https://localhost:8080/",
          "height": 34
        }
      },
      "source": [
        "phn = re.findall(r'^[+]*[(]{0,1}[0-9]{1,4}[)]{0,1}[-\\s\\./0-9]*$', text)\n",
        "phn"
      ],
      "execution_count": 6,
      "outputs": [
        {
          "output_type": "execute_result",
          "data": {
            "text/plain": [
              "[]"
            ]
          },
          "metadata": {
            "tags": []
          },
          "execution_count": 6
        }
      ]
    },
    {
      "cell_type": "code",
      "metadata": {
        "id": "9iizw-MR7VfN",
        "colab_type": "code",
        "outputId": "4a473bba-9151-4c4b-cc9e-81b0e2366254",
        "colab": {
          "base_uri": "https://localhost:8080/",
          "height": 34
        }
      },
      "source": [
        "phn = re.findall(r'\\b[0-9]{10}\\b', text)\n",
        "phn"
      ],
      "execution_count": 7,
      "outputs": [
        {
          "output_type": "execute_result",
          "data": {
            "text/plain": [
              "['9918993366']"
            ]
          },
          "metadata": {
            "tags": []
          },
          "execution_count": 7
        }
      ]
    },
    {
      "cell_type": "code",
      "metadata": {
        "id": "bQPE3jd37tF1",
        "colab_type": "code",
        "colab": {}
      },
      "source": [
        ""
      ],
      "execution_count": 0,
      "outputs": []
    }
  ]
}