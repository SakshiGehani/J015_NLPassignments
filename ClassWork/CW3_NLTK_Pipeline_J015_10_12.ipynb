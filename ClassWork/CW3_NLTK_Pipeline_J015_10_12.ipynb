{
  "nbformat": 4,
  "nbformat_minor": 0,
  "metadata": {
    "colab": {
      "name": "CW3_NLTK Pipeline_J015_10/12.ipynb",
      "provenance": [],
      "include_colab_link": true
    },
    "kernelspec": {
      "name": "python3",
      "display_name": "Python 3"
    }
  },
  "cells": [
    {
      "cell_type": "markdown",
      "metadata": {
        "id": "view-in-github",
        "colab_type": "text"
      },
      "source": [
        "<a href=\"https://colab.research.google.com/github/SakshiGehani/J015_NLPassignments/blob/ClassWork/CW3_NLTK_Pipeline_J015_10_12.ipynb\" target=\"_parent\"><img src=\"https://colab.research.google.com/assets/colab-badge.svg\" alt=\"Open In Colab\"/></a>"
      ]
    },
    {
      "cell_type": "markdown",
      "metadata": {
        "id": "rCUy0tGmv26L",
        "colab_type": "text"
      },
      "source": [
        "# Create a pipeline using NLTK"
      ]
    },
    {
      "cell_type": "code",
      "metadata": {
        "id": "7G_-dVqbvt1z",
        "colab_type": "code",
        "colab": {}
      },
      "source": [
        "# Importing Pandas and NLTK modules\n",
        "import pandas as pd\n",
        "import nltk"
      ],
      "execution_count": 0,
      "outputs": []
    },
    {
      "cell_type": "code",
      "metadata": {
        "id": "sU3UN_hH8KCv",
        "colab_type": "code",
        "colab": {}
      },
      "source": [
        "## Reading 'json' type dataset into pandas dataframe\n",
        "df = pd.read_json(\"http://snap.stanford.edu/data/amazon/productGraph/categoryFiles/reviews_Office_Products_5.json.gz\", lines=True)"
      ],
      "execution_count": 0,
      "outputs": []
    },
    {
      "cell_type": "code",
      "metadata": {
        "id": "5r5JFSiT8YPA",
        "colab_type": "code",
        "colab": {
          "base_uri": "https://localhost:8080/",
          "height": 284
        },
        "outputId": "e9ca1e27-70a9-4a5c-d1c7-bc16c25c4789"
      },
      "source": [
        "df.head()"
      ],
      "execution_count": 3,
      "outputs": [
        {
          "output_type": "execute_result",
          "data": {
            "text/html": [
              "<div>\n",
              "<style scoped>\n",
              "    .dataframe tbody tr th:only-of-type {\n",
              "        vertical-align: middle;\n",
              "    }\n",
              "\n",
              "    .dataframe tbody tr th {\n",
              "        vertical-align: top;\n",
              "    }\n",
              "\n",
              "    .dataframe thead th {\n",
              "        text-align: right;\n",
              "    }\n",
              "</style>\n",
              "<table border=\"1\" class=\"dataframe\">\n",
              "  <thead>\n",
              "    <tr style=\"text-align: right;\">\n",
              "      <th></th>\n",
              "      <th>reviewerID</th>\n",
              "      <th>asin</th>\n",
              "      <th>reviewerName</th>\n",
              "      <th>helpful</th>\n",
              "      <th>reviewText</th>\n",
              "      <th>overall</th>\n",
              "      <th>summary</th>\n",
              "      <th>unixReviewTime</th>\n",
              "      <th>reviewTime</th>\n",
              "    </tr>\n",
              "  </thead>\n",
              "  <tbody>\n",
              "    <tr>\n",
              "      <th>0</th>\n",
              "      <td>A32T2H8150OJLU</td>\n",
              "      <td>B00000JBLH</td>\n",
              "      <td>ARH</td>\n",
              "      <td>[3, 4]</td>\n",
              "      <td>I bought my first HP12C in about 1984 or so, a...</td>\n",
              "      <td>5</td>\n",
              "      <td>A solid performer, and long time friend</td>\n",
              "      <td>1094169600</td>\n",
              "      <td>09 3, 2004</td>\n",
              "    </tr>\n",
              "    <tr>\n",
              "      <th>1</th>\n",
              "      <td>A3MAFS04ZABRGO</td>\n",
              "      <td>B00000JBLH</td>\n",
              "      <td>Let it Be \"Alan\"</td>\n",
              "      <td>[7, 9]</td>\n",
              "      <td>WHY THIS BELATED REVIEW? I feel very obliged t...</td>\n",
              "      <td>5</td>\n",
              "      <td>Price of GOLD is up, so don't bury the golden ...</td>\n",
              "      <td>1197676800</td>\n",
              "      <td>12 15, 2007</td>\n",
              "    </tr>\n",
              "    <tr>\n",
              "      <th>2</th>\n",
              "      <td>A1F1A0QQP2XVH5</td>\n",
              "      <td>B00000JBLH</td>\n",
              "      <td>Mark B</td>\n",
              "      <td>[3, 3]</td>\n",
              "      <td>I have an HP 48GX that has been kicking for mo...</td>\n",
              "      <td>2</td>\n",
              "      <td>Good functionality, but not durable like old HPs</td>\n",
              "      <td>1293840000</td>\n",
              "      <td>01 1, 2011</td>\n",
              "    </tr>\n",
              "    <tr>\n",
              "      <th>3</th>\n",
              "      <td>A49R5DBXXQDE5</td>\n",
              "      <td>B00000JBLH</td>\n",
              "      <td>R. D Johnson</td>\n",
              "      <td>[7, 8]</td>\n",
              "      <td>I've started doing more finance stuff recently...</td>\n",
              "      <td>5</td>\n",
              "      <td>One of the last of an almost extinct species</td>\n",
              "      <td>1145404800</td>\n",
              "      <td>04 19, 2006</td>\n",
              "    </tr>\n",
              "    <tr>\n",
              "      <th>4</th>\n",
              "      <td>A2XRMQA6PJ5ZJ8</td>\n",
              "      <td>B00000JBLH</td>\n",
              "      <td>Roger J. Buffington</td>\n",
              "      <td>[0, 0]</td>\n",
              "      <td>For simple calculations and discounted cash fl...</td>\n",
              "      <td>5</td>\n",
              "      <td>Still the best</td>\n",
              "      <td>1375574400</td>\n",
              "      <td>08 4, 2013</td>\n",
              "    </tr>\n",
              "  </tbody>\n",
              "</table>\n",
              "</div>"
            ],
            "text/plain": [
              "       reviewerID        asin  ... unixReviewTime   reviewTime\n",
              "0  A32T2H8150OJLU  B00000JBLH  ...     1094169600   09 3, 2004\n",
              "1  A3MAFS04ZABRGO  B00000JBLH  ...     1197676800  12 15, 2007\n",
              "2  A1F1A0QQP2XVH5  B00000JBLH  ...     1293840000   01 1, 2011\n",
              "3   A49R5DBXXQDE5  B00000JBLH  ...     1145404800  04 19, 2006\n",
              "4  A2XRMQA6PJ5ZJ8  B00000JBLH  ...     1375574400   08 4, 2013\n",
              "\n",
              "[5 rows x 9 columns]"
            ]
          },
          "metadata": {
            "tags": []
          },
          "execution_count": 3
        }
      ]
    },
    {
      "cell_type": "code",
      "metadata": {
        "id": "NsdRYliT9Al0",
        "colab_type": "code",
        "colab": {}
      },
      "source": [
        "## Function to remove Punctuation marks and white spaces\n",
        "def remove_punc(str):\n",
        "  punctuations = [',', '.', ':', ';', '-', '?', '!', '\"', \"'\", \n",
        "                  '[', ']', '{', '}', '|', '/', '<', '>']\n",
        "\n",
        "  for ch in str.lower():\n",
        "    if ch in punctuations :\n",
        "      str = str.replace(ch, \"\")\n",
        "  \n",
        "  return str"
      ],
      "execution_count": 0,
      "outputs": []
    },
    {
      "cell_type": "markdown",
      "metadata": {
        "id": "R0B8Kgk-1S5c",
        "colab_type": "text"
      },
      "source": [
        "### For a single sentence"
      ]
    },
    {
      "cell_type": "code",
      "metadata": {
        "id": "imeK4yyd8aRj",
        "colab_type": "code",
        "colab": {
          "base_uri": "https://localhost:8080/",
          "height": 90
        },
        "outputId": "8f492f59-3740-4c3e-bbbc-1f23b3d8e98c"
      },
      "source": [
        "nltk.download('punkt')   ## punkt is a purpose\n",
        "str1 = df.reviewText[0]  ## first sentence/row of clmn reviewText\n",
        "str1 = remove_punc(str1)\n",
        "tokens = nltk.word_tokenize(str1)   ## tokenizing the string using word_tokenize func of nltk package\n",
        "print(tokens)"
      ],
      "execution_count": 5,
      "outputs": [
        {
          "output_type": "stream",
          "text": [
            "[nltk_data] Downloading package punkt to /root/nltk_data...\n",
            "[nltk_data]   Package punkt is already up-to-date!\n",
            "['I', 'bought', 'my', 'first', 'HP12C', 'in', 'about', '1984', 'or', 'so', 'and', 'it', 'served', 'me', 'faithfully', 'until', '2002', 'when', 'I', 'lost', 'it', 'while', 'travelling', 'I', 'searched', 'for', 'another', 'one', 'to', 'replace', 'it', 'but', 'found', 'one', 'difficult', 'to', 'come', 'by', 'in', 'my', 'area', 'So', 'I', 'decided', 'to', 'buy', 'up', 'and', 'purchased', 'an', 'HP', '49G', 'What', 'a', 'mistake', 'I', 'know', 'that', 'many', 'people', 'view', 'the', 'HP', '49G', '(', 'now', '49G+', ')', 'as', 'the', 'flagship', 'of', 'the', 'HP', 'line', 'but', 'for', 'me', 'that', 'was', 'a', 'disasterThe', '49G', 'may', 'be', 'powerful', 'but', 'using', 'it', 'is', 'extremely', 'counterintuitiveand', 'the', 'manual', 'was', 'sketchy', 'at', 'best', 'The', '12C', 'on', 'the', 'other', 'hand', 'does', 'what', 'I', 'need', 'in', 'a', 'way', 'that', 'makes', 'good', 'sense', 'to', 'meIf', 'you', 'are', 'looking', 'for', 'a', 'solid', 'reliable', 'calculator', 'the', 'HP12C', 'may', 'be', 'for', 'you', 'Its', 'programmable', 'It', 'does', 'basic', 'statistics', 'well', 'and', 'many', 'business', 'applications', 'too', 'The', 'manual', 'makes', 'sense', 'you', 'will', 'be', 'up', 'and', 'running', 'in', 'short', 'orderIm', 'ready', 'to', 'set', 'my', '49G', 'aside', 'and', 'move', 'back', 'to', 'my', 'old', 'friend', 'I', 'didnt', 'even', 'have', 'to', 'replace', 'the', 'batteries', 'in', 'well', 'over', 'a', 'decade', 'of', 'useHP', '12C', 'Im', 'coming', 'home']\n"
          ],
          "name": "stdout"
        }
      ]
    },
    {
      "cell_type": "code",
      "metadata": {
        "id": "atv2RdhF8vS5",
        "colab_type": "code",
        "colab": {
          "base_uri": "https://localhost:8080/",
          "height": 194
        },
        "outputId": "8489ed36-5b33-4d5a-be88-e9545be5aa9f"
      },
      "source": [
        "nltk.download('averaged_perceptron_tagger')\n",
        "tagged = nltk.pos_tag(tokens)     ## tagging the string using pos_tag func of nltk package\n",
        "tagged[0:6]           ## displaying only the first 6 tokens and their tags"
      ],
      "execution_count": 6,
      "outputs": [
        {
          "output_type": "stream",
          "text": [
            "[nltk_data] Downloading package averaged_perceptron_tagger to\n",
            "[nltk_data]     /root/nltk_data...\n",
            "[nltk_data]   Package averaged_perceptron_tagger is already up-to-\n",
            "[nltk_data]       date!\n"
          ],
          "name": "stdout"
        },
        {
          "output_type": "execute_result",
          "data": {
            "text/plain": [
              "[('I', 'PRP'),\n",
              " ('bought', 'VBD'),\n",
              " ('my', 'PRP$'),\n",
              " ('first', 'JJ'),\n",
              " ('HP12C', 'NNP'),\n",
              " ('in', 'IN')]"
            ]
          },
          "metadata": {
            "tags": []
          },
          "execution_count": 6
        }
      ]
    },
    {
      "cell_type": "code",
      "metadata": {
        "id": "cGsnPh1w9ylS",
        "colab_type": "code",
        "colab": {
          "base_uri": "https://localhost:8080/",
          "height": 90
        },
        "outputId": "ce22ade4-19ec-42be-c846-ddda542bb9fd"
      },
      "source": [
        "# import reqired modules \n",
        "from nltk.stem import WordNetLemmatizer \n",
        "nltk.download('wordnet')\n",
        "  \n",
        "lemmatizer = WordNetLemmatizer().lemmatize(str1)    ## lemmatizing the string using lemmatize func of nltk package\n",
        "lemmatizer"
      ],
      "execution_count": 7,
      "outputs": [
        {
          "output_type": "stream",
          "text": [
            "[nltk_data] Downloading package wordnet to /root/nltk_data...\n",
            "[nltk_data]   Package wordnet is already up-to-date!\n"
          ],
          "name": "stdout"
        },
        {
          "output_type": "execute_result",
          "data": {
            "text/plain": [
              "'I bought my first HP12C in about 1984 or so and it served me faithfully until 2002 when I lost it while travelling  I searched for another one to replace it but found one difficult to come by in my area  So I decided to buy up and purchased an HP 49G  What a mistake  I know that many people view the HP 49G (now 49G+) as the flagship of the HP line but for me that was a disasterThe 49G may be powerful but using it is extremely counterintuitiveand the manual was sketchy at best  The 12C on the other hand does what I need in a way that makes good sense to meIf you are looking for a solid reliable calculator the HP12C may be for you  Its programmable  It does basic statistics well and many business applications too  The manual makes sense you will be up and running in short orderIm ready to set my 49G aside and move back to my old friend  I didnt even have to replace the batteries in well over a decade of useHP 12C Im coming home'"
            ]
          },
          "metadata": {
            "tags": []
          },
          "execution_count": 7
        }
      ]
    },
    {
      "cell_type": "code",
      "metadata": {
        "id": "LU7eCZuN-gyV",
        "colab_type": "code",
        "colab": {
          "base_uri": "https://localhost:8080/",
          "height": 35
        },
        "outputId": "741ed3e5-3f60-4c03-af29-4a189f1e0133"
      },
      "source": [
        "len(tagged)"
      ],
      "execution_count": 8,
      "outputs": [
        {
          "output_type": "execute_result",
          "data": {
            "text/plain": [
              "188"
            ]
          },
          "metadata": {
            "tags": []
          },
          "execution_count": 8
        }
      ]
    },
    {
      "cell_type": "code",
      "metadata": {
        "id": "uPnD591qBXLK",
        "colab_type": "code",
        "colab": {
          "base_uri": "https://localhost:8080/",
          "height": 55
        },
        "outputId": "f6fa74db-aa66-4433-8f5d-22afabc59cf4"
      },
      "source": [
        "## Finding all the adjectives in the given string\n",
        "adj = []\n",
        "for i in range(0,188):\n",
        "  if \"JJ\" in tagged[i][1]:                               \n",
        "    adj.append(tagged[i][0])                                  \n",
        "print(adj)"
      ],
      "execution_count": 9,
      "outputs": [
        {
          "output_type": "stream",
          "text": [
            "['first', 'difficult', 'many', 'disasterThe', 'powerful', 'other', 'good', 'solid', 'reliable', 'programmable', 'basic', 'many', 'manual', 'short', 'ready', 'old', 'useHP']\n"
          ],
          "name": "stdout"
        }
      ]
    },
    {
      "cell_type": "code",
      "metadata": {
        "id": "0uuX8DWECCfj",
        "colab_type": "code",
        "colab": {
          "base_uri": "https://localhost:8080/",
          "height": 35
        },
        "outputId": "b1c84c37-6641-466e-b51b-b9444ba1f606"
      },
      "source": [
        "## Finding all the proper nouns in the given string\n",
        "pro = []\n",
        "for i in range(0,188):\n",
        "  if \"NNP\" in tagged[i][1]:   \n",
        "    pro.append(tagged[i][0])\n",
        "print(pro)"
      ],
      "execution_count": 10,
      "outputs": [
        {
          "output_type": "stream",
          "text": [
            "['HP12C', 'HP', 'HP', 'HP', 'HP12C', 'Im']\n"
          ],
          "name": "stdout"
        }
      ]
    },
    {
      "cell_type": "markdown",
      "metadata": {
        "id": "ipWX_1DR1ELn",
        "colab_type": "text"
      },
      "source": [
        "### For multiple strings (or entire column)"
      ]
    },
    {
      "cell_type": "code",
      "metadata": {
        "id": "Y5aVRJ68t53r",
        "colab_type": "code",
        "colab": {}
      },
      "source": [
        "# Function to create NLTK pipeline\n",
        "def nltk_dict(str):\n",
        "  nltk_pipeline = dict()\n",
        "\n",
        "  str = remove_punc(str)\n",
        "  tokens = nltk.word_tokenize(str)\n",
        "  tagged = nltk.pos_tag(tokens)\n",
        "  lemmatizer = WordNetLemmatizer().lemmatize(str)\n",
        "\n",
        "  nltk_pipeline['Tokenize'] = tokens\n",
        "  nltk_pipeline['Lemmatize'] = lemmatizer\n",
        "  nltk_pipeline['Pos_tag'] = tagged\n",
        "\n",
        "  return nltk_pipeline"
      ],
      "execution_count": 0,
      "outputs": []
    },
    {
      "cell_type": "code",
      "metadata": {
        "id": "DS_iJYiqvNVg",
        "colab_type": "code",
        "colab": {}
      },
      "source": [
        "# Func to find all adjectives in the given string\n",
        "def find_Adjectives(str):\n",
        "  str = remove_punc(str)\n",
        "  tokens = nltk.word_tokenize(str)\n",
        "  tagged = nltk.pos_tag(tokens)\n",
        "\n",
        "  adj = []\n",
        "  for i in range(0,len(tagged)):\n",
        "    if \"JJ\" in tagged[i][1]:                                 \n",
        "      adj.append(tagged[i][0])                                 \n",
        "  return(adj)"
      ],
      "execution_count": 0,
      "outputs": []
    },
    {
      "cell_type": "code",
      "metadata": {
        "id": "hVtt0AiivrxB",
        "colab_type": "code",
        "colab": {}
      },
      "source": [
        "# Func to find all proper nouns in the given string\n",
        "def find_ProperNouns(str):\n",
        "  str = remove_punc(str)\n",
        "  tokens = nltk.word_tokenize(str)\n",
        "  tagged = nltk.pos_tag(tokens)\n",
        "\n",
        "  pro = []\n",
        "  for i in range(0,len(tagged)):\n",
        "    if \"NNP\" in tagged[i][1]:                                 \n",
        "      pro.append(tagged[i][0])                                 \n",
        "  return(pro)"
      ],
      "execution_count": 0,
      "outputs": []
    },
    {
      "cell_type": "code",
      "metadata": {
        "id": "AuJfdM0CwBjH",
        "colab_type": "code",
        "colab": {
          "base_uri": "https://localhost:8080/",
          "height": 318
        },
        "outputId": "23f6789b-1549-4700-aa31-3d910e091a04"
      },
      "source": [
        "df1 = df.iloc[:100]     ## Taking only the first 100 rows of the dataset for input\n",
        "nltk_pln = df1.reviewText.apply(nltk_dict)      ## Creating NLTK pipeline for all rows of ReviewText\n",
        "df1.insert(5, 'NLTK Pipeline(Dict)_RevTxt', nltk_pln)\n",
        "df1.head()"
      ],
      "execution_count": 14,
      "outputs": [
        {
          "output_type": "execute_result",
          "data": {
            "text/html": [
              "<div>\n",
              "<style scoped>\n",
              "    .dataframe tbody tr th:only-of-type {\n",
              "        vertical-align: middle;\n",
              "    }\n",
              "\n",
              "    .dataframe tbody tr th {\n",
              "        vertical-align: top;\n",
              "    }\n",
              "\n",
              "    .dataframe thead th {\n",
              "        text-align: right;\n",
              "    }\n",
              "</style>\n",
              "<table border=\"1\" class=\"dataframe\">\n",
              "  <thead>\n",
              "    <tr style=\"text-align: right;\">\n",
              "      <th></th>\n",
              "      <th>reviewerID</th>\n",
              "      <th>asin</th>\n",
              "      <th>reviewerName</th>\n",
              "      <th>helpful</th>\n",
              "      <th>reviewText</th>\n",
              "      <th>NLTK Pipeline(Dict)_RevTxt</th>\n",
              "      <th>overall</th>\n",
              "      <th>summary</th>\n",
              "      <th>unixReviewTime</th>\n",
              "      <th>reviewTime</th>\n",
              "    </tr>\n",
              "  </thead>\n",
              "  <tbody>\n",
              "    <tr>\n",
              "      <th>0</th>\n",
              "      <td>A32T2H8150OJLU</td>\n",
              "      <td>B00000JBLH</td>\n",
              "      <td>ARH</td>\n",
              "      <td>[3, 4]</td>\n",
              "      <td>I bought my first HP12C in about 1984 or so, a...</td>\n",
              "      <td>{'Tokenize': ['I', 'bought', 'my', 'first', 'H...</td>\n",
              "      <td>5</td>\n",
              "      <td>A solid performer, and long time friend</td>\n",
              "      <td>1094169600</td>\n",
              "      <td>09 3, 2004</td>\n",
              "    </tr>\n",
              "    <tr>\n",
              "      <th>1</th>\n",
              "      <td>A3MAFS04ZABRGO</td>\n",
              "      <td>B00000JBLH</td>\n",
              "      <td>Let it Be \"Alan\"</td>\n",
              "      <td>[7, 9]</td>\n",
              "      <td>WHY THIS BELATED REVIEW? I feel very obliged t...</td>\n",
              "      <td>{'Tokenize': ['WHY', 'THIS', 'BELATED', 'REVIE...</td>\n",
              "      <td>5</td>\n",
              "      <td>Price of GOLD is up, so don't bury the golden ...</td>\n",
              "      <td>1197676800</td>\n",
              "      <td>12 15, 2007</td>\n",
              "    </tr>\n",
              "    <tr>\n",
              "      <th>2</th>\n",
              "      <td>A1F1A0QQP2XVH5</td>\n",
              "      <td>B00000JBLH</td>\n",
              "      <td>Mark B</td>\n",
              "      <td>[3, 3]</td>\n",
              "      <td>I have an HP 48GX that has been kicking for mo...</td>\n",
              "      <td>{'Tokenize': ['I', 'have', 'an', 'HP', '48GX',...</td>\n",
              "      <td>2</td>\n",
              "      <td>Good functionality, but not durable like old HPs</td>\n",
              "      <td>1293840000</td>\n",
              "      <td>01 1, 2011</td>\n",
              "    </tr>\n",
              "    <tr>\n",
              "      <th>3</th>\n",
              "      <td>A49R5DBXXQDE5</td>\n",
              "      <td>B00000JBLH</td>\n",
              "      <td>R. D Johnson</td>\n",
              "      <td>[7, 8]</td>\n",
              "      <td>I've started doing more finance stuff recently...</td>\n",
              "      <td>{'Tokenize': ['Ive', 'started', 'doing', 'more...</td>\n",
              "      <td>5</td>\n",
              "      <td>One of the last of an almost extinct species</td>\n",
              "      <td>1145404800</td>\n",
              "      <td>04 19, 2006</td>\n",
              "    </tr>\n",
              "    <tr>\n",
              "      <th>4</th>\n",
              "      <td>A2XRMQA6PJ5ZJ8</td>\n",
              "      <td>B00000JBLH</td>\n",
              "      <td>Roger J. Buffington</td>\n",
              "      <td>[0, 0]</td>\n",
              "      <td>For simple calculations and discounted cash fl...</td>\n",
              "      <td>{'Tokenize': ['For', 'simple', 'calculations',...</td>\n",
              "      <td>5</td>\n",
              "      <td>Still the best</td>\n",
              "      <td>1375574400</td>\n",
              "      <td>08 4, 2013</td>\n",
              "    </tr>\n",
              "  </tbody>\n",
              "</table>\n",
              "</div>"
            ],
            "text/plain": [
              "       reviewerID        asin  ... unixReviewTime   reviewTime\n",
              "0  A32T2H8150OJLU  B00000JBLH  ...     1094169600   09 3, 2004\n",
              "1  A3MAFS04ZABRGO  B00000JBLH  ...     1197676800  12 15, 2007\n",
              "2  A1F1A0QQP2XVH5  B00000JBLH  ...     1293840000   01 1, 2011\n",
              "3   A49R5DBXXQDE5  B00000JBLH  ...     1145404800  04 19, 2006\n",
              "4  A2XRMQA6PJ5ZJ8  B00000JBLH  ...     1375574400   08 4, 2013\n",
              "\n",
              "[5 rows x 10 columns]"
            ]
          },
          "metadata": {
            "tags": []
          },
          "execution_count": 14
        }
      ]
    },
    {
      "cell_type": "code",
      "metadata": {
        "id": "WFlNHW3Bwkln",
        "colab_type": "code",
        "colab": {
          "base_uri": "https://localhost:8080/",
          "height": 522
        },
        "outputId": "969bb2aa-b397-47e4-d0f5-e6d6819f4f00"
      },
      "source": [
        "nltk_pln = df1.summary.apply(nltk_dict)\n",
        "df1.insert(8, 'NLTK Pipeline(Dict)_Summary', nltk_pln)  ## Creating NLTK pipeline for all rows of Summary\n",
        "df1.head()"
      ],
      "execution_count": 15,
      "outputs": [
        {
          "output_type": "execute_result",
          "data": {
            "text/html": [
              "<div>\n",
              "<style scoped>\n",
              "    .dataframe tbody tr th:only-of-type {\n",
              "        vertical-align: middle;\n",
              "    }\n",
              "\n",
              "    .dataframe tbody tr th {\n",
              "        vertical-align: top;\n",
              "    }\n",
              "\n",
              "    .dataframe thead th {\n",
              "        text-align: right;\n",
              "    }\n",
              "</style>\n",
              "<table border=\"1\" class=\"dataframe\">\n",
              "  <thead>\n",
              "    <tr style=\"text-align: right;\">\n",
              "      <th></th>\n",
              "      <th>reviewerID</th>\n",
              "      <th>asin</th>\n",
              "      <th>reviewerName</th>\n",
              "      <th>helpful</th>\n",
              "      <th>reviewText</th>\n",
              "      <th>NLTK Pipeline(Dict)_RevTxt</th>\n",
              "      <th>overall</th>\n",
              "      <th>summary</th>\n",
              "      <th>NLTK Pipeline(Dict)_Summary</th>\n",
              "      <th>unixReviewTime</th>\n",
              "      <th>reviewTime</th>\n",
              "    </tr>\n",
              "  </thead>\n",
              "  <tbody>\n",
              "    <tr>\n",
              "      <th>0</th>\n",
              "      <td>A32T2H8150OJLU</td>\n",
              "      <td>B00000JBLH</td>\n",
              "      <td>ARH</td>\n",
              "      <td>[3, 4]</td>\n",
              "      <td>I bought my first HP12C in about 1984 or so, a...</td>\n",
              "      <td>{'Tokenize': ['I', 'bought', 'my', 'first', 'H...</td>\n",
              "      <td>5</td>\n",
              "      <td>A solid performer, and long time friend</td>\n",
              "      <td>{'Tokenize': ['A', 'solid', 'performer', 'and'...</td>\n",
              "      <td>1094169600</td>\n",
              "      <td>09 3, 2004</td>\n",
              "    </tr>\n",
              "    <tr>\n",
              "      <th>1</th>\n",
              "      <td>A3MAFS04ZABRGO</td>\n",
              "      <td>B00000JBLH</td>\n",
              "      <td>Let it Be \"Alan\"</td>\n",
              "      <td>[7, 9]</td>\n",
              "      <td>WHY THIS BELATED REVIEW? I feel very obliged t...</td>\n",
              "      <td>{'Tokenize': ['WHY', 'THIS', 'BELATED', 'REVIE...</td>\n",
              "      <td>5</td>\n",
              "      <td>Price of GOLD is up, so don't bury the golden ...</td>\n",
              "      <td>{'Tokenize': ['Price', 'of', 'GOLD', 'is', 'up...</td>\n",
              "      <td>1197676800</td>\n",
              "      <td>12 15, 2007</td>\n",
              "    </tr>\n",
              "    <tr>\n",
              "      <th>2</th>\n",
              "      <td>A1F1A0QQP2XVH5</td>\n",
              "      <td>B00000JBLH</td>\n",
              "      <td>Mark B</td>\n",
              "      <td>[3, 3]</td>\n",
              "      <td>I have an HP 48GX that has been kicking for mo...</td>\n",
              "      <td>{'Tokenize': ['I', 'have', 'an', 'HP', '48GX',...</td>\n",
              "      <td>2</td>\n",
              "      <td>Good functionality, but not durable like old HPs</td>\n",
              "      <td>{'Tokenize': ['Good', 'functionality', 'but', ...</td>\n",
              "      <td>1293840000</td>\n",
              "      <td>01 1, 2011</td>\n",
              "    </tr>\n",
              "    <tr>\n",
              "      <th>3</th>\n",
              "      <td>A49R5DBXXQDE5</td>\n",
              "      <td>B00000JBLH</td>\n",
              "      <td>R. D Johnson</td>\n",
              "      <td>[7, 8]</td>\n",
              "      <td>I've started doing more finance stuff recently...</td>\n",
              "      <td>{'Tokenize': ['Ive', 'started', 'doing', 'more...</td>\n",
              "      <td>5</td>\n",
              "      <td>One of the last of an almost extinct species</td>\n",
              "      <td>{'Tokenize': ['One', 'of', 'the', 'last', 'of'...</td>\n",
              "      <td>1145404800</td>\n",
              "      <td>04 19, 2006</td>\n",
              "    </tr>\n",
              "    <tr>\n",
              "      <th>4</th>\n",
              "      <td>A2XRMQA6PJ5ZJ8</td>\n",
              "      <td>B00000JBLH</td>\n",
              "      <td>Roger J. Buffington</td>\n",
              "      <td>[0, 0]</td>\n",
              "      <td>For simple calculations and discounted cash fl...</td>\n",
              "      <td>{'Tokenize': ['For', 'simple', 'calculations',...</td>\n",
              "      <td>5</td>\n",
              "      <td>Still the best</td>\n",
              "      <td>{'Tokenize': ['Still', 'the', 'best'], 'Lemmat...</td>\n",
              "      <td>1375574400</td>\n",
              "      <td>08 4, 2013</td>\n",
              "    </tr>\n",
              "  </tbody>\n",
              "</table>\n",
              "</div>"
            ],
            "text/plain": [
              "       reviewerID        asin  ... unixReviewTime   reviewTime\n",
              "0  A32T2H8150OJLU  B00000JBLH  ...     1094169600   09 3, 2004\n",
              "1  A3MAFS04ZABRGO  B00000JBLH  ...     1197676800  12 15, 2007\n",
              "2  A1F1A0QQP2XVH5  B00000JBLH  ...     1293840000   01 1, 2011\n",
              "3   A49R5DBXXQDE5  B00000JBLH  ...     1145404800  04 19, 2006\n",
              "4  A2XRMQA6PJ5ZJ8  B00000JBLH  ...     1375574400   08 4, 2013\n",
              "\n",
              "[5 rows x 11 columns]"
            ]
          },
          "metadata": {
            "tags": []
          },
          "execution_count": 15
        }
      ]
    },
    {
      "cell_type": "code",
      "metadata": {
        "id": "RW6zZ-oJx7RM",
        "colab_type": "code",
        "colab": {
          "base_uri": "https://localhost:8080/",
          "height": 593
        },
        "outputId": "5cfdf090-16f1-4778-9ff9-efc052ff6d38"
      },
      "source": [
        "adj_rev = df1.reviewText.apply(find_Adjectives)   ## Finding adjectives in each row of ReviewText\n",
        "df1.insert(6, 'Adjectives_RevTxt', adj_rev)\n",
        "adj_summ = df1.summary.apply(find_Adjectives)     ## Finding adjectives in each row of Summary\n",
        "df1.insert(10, 'Adjectives_Summary', adj_summ)\n",
        "df1.head()"
      ],
      "execution_count": 16,
      "outputs": [
        {
          "output_type": "execute_result",
          "data": {
            "text/html": [
              "<div>\n",
              "<style scoped>\n",
              "    .dataframe tbody tr th:only-of-type {\n",
              "        vertical-align: middle;\n",
              "    }\n",
              "\n",
              "    .dataframe tbody tr th {\n",
              "        vertical-align: top;\n",
              "    }\n",
              "\n",
              "    .dataframe thead th {\n",
              "        text-align: right;\n",
              "    }\n",
              "</style>\n",
              "<table border=\"1\" class=\"dataframe\">\n",
              "  <thead>\n",
              "    <tr style=\"text-align: right;\">\n",
              "      <th></th>\n",
              "      <th>reviewerID</th>\n",
              "      <th>asin</th>\n",
              "      <th>reviewerName</th>\n",
              "      <th>helpful</th>\n",
              "      <th>reviewText</th>\n",
              "      <th>NLTK Pipeline(Dict)_RevTxt</th>\n",
              "      <th>Adjectives_RevTxt</th>\n",
              "      <th>overall</th>\n",
              "      <th>summary</th>\n",
              "      <th>NLTK Pipeline(Dict)_Summary</th>\n",
              "      <th>Adjectives_Summary</th>\n",
              "      <th>unixReviewTime</th>\n",
              "      <th>reviewTime</th>\n",
              "    </tr>\n",
              "  </thead>\n",
              "  <tbody>\n",
              "    <tr>\n",
              "      <th>0</th>\n",
              "      <td>A32T2H8150OJLU</td>\n",
              "      <td>B00000JBLH</td>\n",
              "      <td>ARH</td>\n",
              "      <td>[3, 4]</td>\n",
              "      <td>I bought my first HP12C in about 1984 or so, a...</td>\n",
              "      <td>{'Tokenize': ['I', 'bought', 'my', 'first', 'H...</td>\n",
              "      <td>[first, difficult, many, disasterThe, powerful...</td>\n",
              "      <td>5</td>\n",
              "      <td>A solid performer, and long time friend</td>\n",
              "      <td>{'Tokenize': ['A', 'solid', 'performer', 'and'...</td>\n",
              "      <td>[solid, long]</td>\n",
              "      <td>1094169600</td>\n",
              "      <td>09 3, 2004</td>\n",
              "    </tr>\n",
              "    <tr>\n",
              "      <th>1</th>\n",
              "      <td>A3MAFS04ZABRGO</td>\n",
              "      <td>B00000JBLH</td>\n",
              "      <td>Let it Be \"Alan\"</td>\n",
              "      <td>[7, 9]</td>\n",
              "      <td>WHY THIS BELATED REVIEW? I feel very obliged t...</td>\n",
              "      <td>{'Tokenize': ['WHY', 'THIS', 'BELATED', 'REVIE...</td>\n",
              "      <td>[old, satisfied, ower, frank, synonymous, high...</td>\n",
              "      <td>5</td>\n",
              "      <td>Price of GOLD is up, so don't bury the golden ...</td>\n",
              "      <td>{'Tokenize': ['Price', 'of', 'GOLD', 'is', 'up...</td>\n",
              "      <td>[dont, golden]</td>\n",
              "      <td>1197676800</td>\n",
              "      <td>12 15, 2007</td>\n",
              "    </tr>\n",
              "    <tr>\n",
              "      <th>2</th>\n",
              "      <td>A1F1A0QQP2XVH5</td>\n",
              "      <td>B00000JBLH</td>\n",
              "      <td>Mark B</td>\n",
              "      <td>[3, 3]</td>\n",
              "      <td>I have an HP 48GX that has been kicking for mo...</td>\n",
              "      <td>{'Tokenize': ['I', 'have', 'an', 'HP', '48GX',...</td>\n",
              "      <td>[more, more, old, overall, new, hollow, availa...</td>\n",
              "      <td>2</td>\n",
              "      <td>Good functionality, but not durable like old HPs</td>\n",
              "      <td>{'Tokenize': ['Good', 'functionality', 'but', ...</td>\n",
              "      <td>[Good, durable, old]</td>\n",
              "      <td>1293840000</td>\n",
              "      <td>01 1, 2011</td>\n",
              "    </tr>\n",
              "    <tr>\n",
              "      <th>3</th>\n",
              "      <td>A49R5DBXXQDE5</td>\n",
              "      <td>B00000JBLH</td>\n",
              "      <td>R. D Johnson</td>\n",
              "      <td>[7, 8]</td>\n",
              "      <td>I've started doing more finance stuff recently...</td>\n",
              "      <td>{'Tokenize': ['Ive', 'started', 'doing', 'more...</td>\n",
              "      <td>[more, good, available, great, true, last, gre...</td>\n",
              "      <td>5</td>\n",
              "      <td>One of the last of an almost extinct species</td>\n",
              "      <td>{'Tokenize': ['One', 'of', 'the', 'last', 'of'...</td>\n",
              "      <td>[last, extinct]</td>\n",
              "      <td>1145404800</td>\n",
              "      <td>04 19, 2006</td>\n",
              "    </tr>\n",
              "    <tr>\n",
              "      <th>4</th>\n",
              "      <td>A2XRMQA6PJ5ZJ8</td>\n",
              "      <td>B00000JBLH</td>\n",
              "      <td>Roger J. Buffington</td>\n",
              "      <td>[0, 0]</td>\n",
              "      <td>For simple calculations and discounted cash fl...</td>\n",
              "      <td>{'Tokenize': ['For', 'simple', 'calculations',...</td>\n",
              "      <td>[simple, best, financial, complex, quick, Reve...</td>\n",
              "      <td>5</td>\n",
              "      <td>Still the best</td>\n",
              "      <td>{'Tokenize': ['Still', 'the', 'best'], 'Lemmat...</td>\n",
              "      <td>[best]</td>\n",
              "      <td>1375574400</td>\n",
              "      <td>08 4, 2013</td>\n",
              "    </tr>\n",
              "  </tbody>\n",
              "</table>\n",
              "</div>"
            ],
            "text/plain": [
              "       reviewerID        asin  ... unixReviewTime   reviewTime\n",
              "0  A32T2H8150OJLU  B00000JBLH  ...     1094169600   09 3, 2004\n",
              "1  A3MAFS04ZABRGO  B00000JBLH  ...     1197676800  12 15, 2007\n",
              "2  A1F1A0QQP2XVH5  B00000JBLH  ...     1293840000   01 1, 2011\n",
              "3   A49R5DBXXQDE5  B00000JBLH  ...     1145404800  04 19, 2006\n",
              "4  A2XRMQA6PJ5ZJ8  B00000JBLH  ...     1375574400   08 4, 2013\n",
              "\n",
              "[5 rows x 13 columns]"
            ]
          },
          "metadata": {
            "tags": []
          },
          "execution_count": 16
        }
      ]
    },
    {
      "cell_type": "code",
      "metadata": {
        "id": "piOJ4qxFyv6F",
        "colab_type": "code",
        "colab": {
          "base_uri": "https://localhost:8080/",
          "height": 593
        },
        "outputId": "a5494fdb-1465-4e57-9cde-505d51586255"
      },
      "source": [
        "pro_rev = df1.reviewText.apply(find_ProperNouns)      ## Finding proper nouns in each row of ReviewText\n",
        "df1.insert(7, 'ProperNouns_RevTxt', pro_rev)\n",
        "pro_summ = df1.summary.apply(find_ProperNouns)        ## Finding proper nouns in each row of Summary\n",
        "df1.insert(12, 'ProperNouns_Summary', pro_summ)\n",
        "df1.head()"
      ],
      "execution_count": 17,
      "outputs": [
        {
          "output_type": "execute_result",
          "data": {
            "text/html": [
              "<div>\n",
              "<style scoped>\n",
              "    .dataframe tbody tr th:only-of-type {\n",
              "        vertical-align: middle;\n",
              "    }\n",
              "\n",
              "    .dataframe tbody tr th {\n",
              "        vertical-align: top;\n",
              "    }\n",
              "\n",
              "    .dataframe thead th {\n",
              "        text-align: right;\n",
              "    }\n",
              "</style>\n",
              "<table border=\"1\" class=\"dataframe\">\n",
              "  <thead>\n",
              "    <tr style=\"text-align: right;\">\n",
              "      <th></th>\n",
              "      <th>reviewerID</th>\n",
              "      <th>asin</th>\n",
              "      <th>reviewerName</th>\n",
              "      <th>helpful</th>\n",
              "      <th>reviewText</th>\n",
              "      <th>NLTK Pipeline(Dict)_RevTxt</th>\n",
              "      <th>Adjectives_RevTxt</th>\n",
              "      <th>ProperNouns_RevTxt</th>\n",
              "      <th>overall</th>\n",
              "      <th>summary</th>\n",
              "      <th>NLTK Pipeline(Dict)_Summary</th>\n",
              "      <th>Adjectives_Summary</th>\n",
              "      <th>ProperNouns_Summary</th>\n",
              "      <th>unixReviewTime</th>\n",
              "      <th>reviewTime</th>\n",
              "    </tr>\n",
              "  </thead>\n",
              "  <tbody>\n",
              "    <tr>\n",
              "      <th>0</th>\n",
              "      <td>A32T2H8150OJLU</td>\n",
              "      <td>B00000JBLH</td>\n",
              "      <td>ARH</td>\n",
              "      <td>[3, 4]</td>\n",
              "      <td>I bought my first HP12C in about 1984 or so, a...</td>\n",
              "      <td>{'Tokenize': ['I', 'bought', 'my', 'first', 'H...</td>\n",
              "      <td>[first, difficult, many, disasterThe, powerful...</td>\n",
              "      <td>[HP12C, HP, HP, HP, HP12C, Im]</td>\n",
              "      <td>5</td>\n",
              "      <td>A solid performer, and long time friend</td>\n",
              "      <td>{'Tokenize': ['A', 'solid', 'performer', 'and'...</td>\n",
              "      <td>[solid, long]</td>\n",
              "      <td>[]</td>\n",
              "      <td>1094169600</td>\n",
              "      <td>09 3, 2004</td>\n",
              "    </tr>\n",
              "    <tr>\n",
              "      <th>1</th>\n",
              "      <td>A3MAFS04ZABRGO</td>\n",
              "      <td>B00000JBLH</td>\n",
              "      <td>Let it Be \"Alan\"</td>\n",
              "      <td>[7, 9]</td>\n",
              "      <td>WHY THIS BELATED REVIEW? I feel very obliged t...</td>\n",
              "      <td>{'Tokenize': ['WHY', 'THIS', 'BELATED', 'REVIE...</td>\n",
              "      <td>[old, satisfied, ower, frank, synonymous, high...</td>\n",
              "      <td>[THIS, BELATED, REVIEW, HP12C, GOLD, Amazon, A...</td>\n",
              "      <td>5</td>\n",
              "      <td>Price of GOLD is up, so don't bury the golden ...</td>\n",
              "      <td>{'Tokenize': ['Price', 'of', 'GOLD', 'is', 'up...</td>\n",
              "      <td>[dont, golden]</td>\n",
              "      <td>[HP12c]</td>\n",
              "      <td>1197676800</td>\n",
              "      <td>12 15, 2007</td>\n",
              "    </tr>\n",
              "    <tr>\n",
              "      <th>2</th>\n",
              "      <td>A1F1A0QQP2XVH5</td>\n",
              "      <td>B00000JBLH</td>\n",
              "      <td>Mark B</td>\n",
              "      <td>[3, 3]</td>\n",
              "      <td>I have an HP 48GX that has been kicking for mo...</td>\n",
              "      <td>{'Tokenize': ['I', 'have', 'an', 'HP', '48GX',...</td>\n",
              "      <td>[more, more, old, overall, new, hollow, availa...</td>\n",
              "      <td>[HP, HP, No, HP]</td>\n",
              "      <td>2</td>\n",
              "      <td>Good functionality, but not durable like old HPs</td>\n",
              "      <td>{'Tokenize': ['Good', 'functionality', 'but', ...</td>\n",
              "      <td>[Good, durable, old]</td>\n",
              "      <td>[HPs]</td>\n",
              "      <td>1293840000</td>\n",
              "      <td>01 1, 2011</td>\n",
              "    </tr>\n",
              "    <tr>\n",
              "      <th>3</th>\n",
              "      <td>A49R5DBXXQDE5</td>\n",
              "      <td>B00000JBLH</td>\n",
              "      <td>R. D Johnson</td>\n",
              "      <td>[7, 8]</td>\n",
              "      <td>I've started doing more finance stuff recently...</td>\n",
              "      <td>{'Tokenize': ['Ive', 'started', 'doing', 'more...</td>\n",
              "      <td>[more, good, available, great, true, last, gre...</td>\n",
              "      <td>[Ive, HP12C, Ive, HP, HP45, HP15, HP12C, HP, C...</td>\n",
              "      <td>5</td>\n",
              "      <td>One of the last of an almost extinct species</td>\n",
              "      <td>{'Tokenize': ['One', 'of', 'the', 'last', 'of'...</td>\n",
              "      <td>[last, extinct]</td>\n",
              "      <td>[]</td>\n",
              "      <td>1145404800</td>\n",
              "      <td>04 19, 2006</td>\n",
              "    </tr>\n",
              "    <tr>\n",
              "      <th>4</th>\n",
              "      <td>A2XRMQA6PJ5ZJ8</td>\n",
              "      <td>B00000JBLH</td>\n",
              "      <td>Roger J. Buffington</td>\n",
              "      <td>[0, 0]</td>\n",
              "      <td>For simple calculations and discounted cash fl...</td>\n",
              "      <td>{'Tokenize': ['For', 'simple', 'calculations',...</td>\n",
              "      <td>[simple, best, financial, complex, quick, Reve...</td>\n",
              "      <td>[CPA, Excel, HP12C, Notation, Many, RPN]</td>\n",
              "      <td>5</td>\n",
              "      <td>Still the best</td>\n",
              "      <td>{'Tokenize': ['Still', 'the', 'best'], 'Lemmat...</td>\n",
              "      <td>[best]</td>\n",
              "      <td>[]</td>\n",
              "      <td>1375574400</td>\n",
              "      <td>08 4, 2013</td>\n",
              "    </tr>\n",
              "  </tbody>\n",
              "</table>\n",
              "</div>"
            ],
            "text/plain": [
              "       reviewerID        asin  ... unixReviewTime   reviewTime\n",
              "0  A32T2H8150OJLU  B00000JBLH  ...     1094169600   09 3, 2004\n",
              "1  A3MAFS04ZABRGO  B00000JBLH  ...     1197676800  12 15, 2007\n",
              "2  A1F1A0QQP2XVH5  B00000JBLH  ...     1293840000   01 1, 2011\n",
              "3   A49R5DBXXQDE5  B00000JBLH  ...     1145404800  04 19, 2006\n",
              "4  A2XRMQA6PJ5ZJ8  B00000JBLH  ...     1375574400   08 4, 2013\n",
              "\n",
              "[5 rows x 15 columns]"
            ]
          },
          "metadata": {
            "tags": []
          },
          "execution_count": 17
        }
      ]
    }
  ]
}