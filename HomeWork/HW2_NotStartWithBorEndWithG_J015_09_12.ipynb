{
  "nbformat": 4,
  "nbformat_minor": 0,
  "metadata": {
    "colab": {
      "name": "HW2_NotStartWithBorEndWithG_J015_09/12.ipynb",
      "provenance": [],
      "collapsed_sections": [],
      "include_colab_link": true
    },
    "kernelspec": {
      "name": "python3",
      "display_name": "Python 3"
    }
  },
  "cells": [
    {
      "cell_type": "markdown",
      "metadata": {
        "id": "view-in-github",
        "colab_type": "text"
      },
      "source": [
        "<a href=\"https://colab.research.google.com/github/SakshiGehani/J015_NLPassignments/blob/HomeWork/HW2_NotStartWithBorEndWithG_J015_09_12.ipynb\" target=\"_parent\"><img src=\"https://colab.research.google.com/assets/colab-badge.svg\" alt=\"Open In Colab\"/></a>"
      ]
    },
    {
      "cell_type": "markdown",
      "metadata": {
        "id": "0q1HGX7C3U12",
        "colab_type": "text"
      },
      "source": [
        "To print the words in a string that do not start with 'b' or end with 'g'"
      ]
    },
    {
      "cell_type": "code",
      "metadata": {
        "id": "KiLGLsUr2VXI",
        "colab_type": "code",
        "colab": {}
      },
      "source": [
        "## Importing required library\n",
        "import pandas as pd"
      ],
      "execution_count": 0,
      "outputs": []
    },
    {
      "cell_type": "code",
      "metadata": {
        "id": "hPl9mM2A5FYF",
        "colab_type": "code",
        "colab": {}
      },
      "source": [
        "## Reading 'json' type dataset into pandas dataframe\n",
        "df = pd.read_json(\"http://snap.stanford.edu/data/amazon/productGraph/categoryFiles/reviews_Office_Products_5.json.gz\", lines=True)"
      ],
      "execution_count": 0,
      "outputs": []
    },
    {
      "cell_type": "code",
      "metadata": {
        "id": "AYexvczG5PZ4",
        "colab_type": "code",
        "outputId": "a27f379b-875d-43f1-e541-aaa783f422b8",
        "colab": {
          "base_uri": "https://localhost:8080/",
          "height": 370
        }
      },
      "source": [
        "df.head()"
      ],
      "execution_count": 3,
      "outputs": [
        {
          "output_type": "execute_result",
          "data": {
            "text/html": [
              "<div>\n",
              "<style scoped>\n",
              "    .dataframe tbody tr th:only-of-type {\n",
              "        vertical-align: middle;\n",
              "    }\n",
              "\n",
              "    .dataframe tbody tr th {\n",
              "        vertical-align: top;\n",
              "    }\n",
              "\n",
              "    .dataframe thead th {\n",
              "        text-align: right;\n",
              "    }\n",
              "</style>\n",
              "<table border=\"1\" class=\"dataframe\">\n",
              "  <thead>\n",
              "    <tr style=\"text-align: right;\">\n",
              "      <th></th>\n",
              "      <th>reviewerID</th>\n",
              "      <th>asin</th>\n",
              "      <th>reviewerName</th>\n",
              "      <th>helpful</th>\n",
              "      <th>reviewText</th>\n",
              "      <th>overall</th>\n",
              "      <th>summary</th>\n",
              "      <th>unixReviewTime</th>\n",
              "      <th>reviewTime</th>\n",
              "    </tr>\n",
              "  </thead>\n",
              "  <tbody>\n",
              "    <tr>\n",
              "      <th>0</th>\n",
              "      <td>A32T2H8150OJLU</td>\n",
              "      <td>B00000JBLH</td>\n",
              "      <td>ARH</td>\n",
              "      <td>[3, 4]</td>\n",
              "      <td>I bought my first HP12C in about 1984 or so, a...</td>\n",
              "      <td>5</td>\n",
              "      <td>A solid performer, and long time friend</td>\n",
              "      <td>1094169600</td>\n",
              "      <td>09 3, 2004</td>\n",
              "    </tr>\n",
              "    <tr>\n",
              "      <th>1</th>\n",
              "      <td>A3MAFS04ZABRGO</td>\n",
              "      <td>B00000JBLH</td>\n",
              "      <td>Let it Be \"Alan\"</td>\n",
              "      <td>[7, 9]</td>\n",
              "      <td>WHY THIS BELATED REVIEW? I feel very obliged t...</td>\n",
              "      <td>5</td>\n",
              "      <td>Price of GOLD is up, so don't bury the golden ...</td>\n",
              "      <td>1197676800</td>\n",
              "      <td>12 15, 2007</td>\n",
              "    </tr>\n",
              "    <tr>\n",
              "      <th>2</th>\n",
              "      <td>A1F1A0QQP2XVH5</td>\n",
              "      <td>B00000JBLH</td>\n",
              "      <td>Mark B</td>\n",
              "      <td>[3, 3]</td>\n",
              "      <td>I have an HP 48GX that has been kicking for mo...</td>\n",
              "      <td>2</td>\n",
              "      <td>Good functionality, but not durable like old HPs</td>\n",
              "      <td>1293840000</td>\n",
              "      <td>01 1, 2011</td>\n",
              "    </tr>\n",
              "    <tr>\n",
              "      <th>3</th>\n",
              "      <td>A49R5DBXXQDE5</td>\n",
              "      <td>B00000JBLH</td>\n",
              "      <td>R. D Johnson</td>\n",
              "      <td>[7, 8]</td>\n",
              "      <td>I've started doing more finance stuff recently...</td>\n",
              "      <td>5</td>\n",
              "      <td>One of the last of an almost extinct species</td>\n",
              "      <td>1145404800</td>\n",
              "      <td>04 19, 2006</td>\n",
              "    </tr>\n",
              "    <tr>\n",
              "      <th>4</th>\n",
              "      <td>A2XRMQA6PJ5ZJ8</td>\n",
              "      <td>B00000JBLH</td>\n",
              "      <td>Roger J. Buffington</td>\n",
              "      <td>[0, 0]</td>\n",
              "      <td>For simple calculations and discounted cash fl...</td>\n",
              "      <td>5</td>\n",
              "      <td>Still the best</td>\n",
              "      <td>1375574400</td>\n",
              "      <td>08 4, 2013</td>\n",
              "    </tr>\n",
              "  </tbody>\n",
              "</table>\n",
              "</div>"
            ],
            "text/plain": [
              "       reviewerID        asin  ... unixReviewTime   reviewTime\n",
              "0  A32T2H8150OJLU  B00000JBLH  ...     1094169600   09 3, 2004\n",
              "1  A3MAFS04ZABRGO  B00000JBLH  ...     1197676800  12 15, 2007\n",
              "2  A1F1A0QQP2XVH5  B00000JBLH  ...     1293840000   01 1, 2011\n",
              "3   A49R5DBXXQDE5  B00000JBLH  ...     1145404800  04 19, 2006\n",
              "4  A2XRMQA6PJ5ZJ8  B00000JBLH  ...     1375574400   08 4, 2013\n",
              "\n",
              "[5 rows x 9 columns]"
            ]
          },
          "metadata": {
            "tags": []
          },
          "execution_count": 3
        }
      ]
    },
    {
      "cell_type": "code",
      "metadata": {
        "id": "WZgHLg1a5oHo",
        "colab_type": "code",
        "colab": {}
      },
      "source": [
        "## Function to remove Punctuation marks\n",
        "def remove_punc(str):\n",
        "  punctuations = [',', '.', ':', ';', '-', '?', '!', '\"', \"'\", '[', ']', '{', '}', '|', '/', '<', '>']\n",
        "\n",
        "  for ch in str.lower():\n",
        "    if ch in punctuations :\n",
        "      str = str.replace(ch, \"\")\n",
        "  \n",
        "  return str"
      ],
      "execution_count": 0,
      "outputs": []
    },
    {
      "cell_type": "code",
      "metadata": {
        "id": "3YczJzAD50CO",
        "colab_type": "code",
        "colab": {}
      },
      "source": [
        "# removing punctuations from target columns\n",
        "noPunc_reviewText = df.reviewText.apply(remove_punc)\n",
        "noPunc_summary = df.summary.apply(remove_punc)"
      ],
      "execution_count": 0,
      "outputs": []
    },
    {
      "cell_type": "code",
      "metadata": {
        "id": "92UYulKb6KMc",
        "colab_type": "code",
        "colab": {}
      },
      "source": [
        "## importing Regular Expressions library\n",
        "import re"
      ],
      "execution_count": 0,
      "outputs": []
    },
    {
      "cell_type": "markdown",
      "metadata": {
        "id": "ZDFr7YZ_6zWN",
        "colab_type": "text"
      },
      "source": [
        "For a single sentence"
      ]
    },
    {
      "cell_type": "code",
      "metadata": {
        "id": "4RkG4NYX6Wbh",
        "colab_type": "code",
        "outputId": "cfe306b5-d43a-4581-e0c9-f021cd5dd48b",
        "colab": {
          "base_uri": "https://localhost:8080/",
          "height": 54
        }
      },
      "source": [
        "list1 = re.findall(r'\\b[^ ]\\w+\\b', noPunc_reviewText[0], re.IGNORECASE) ## eliminating words that start with ' '\n",
        "notStart_b = re.findall(r'\\b[^b]\\w+\\b', str(list1), re.IGNORECASE)   ## creating a list of words that do not start with 'b' or 'B'\n",
        "print(notStart_b)"
      ],
      "execution_count": 7,
      "outputs": [
        {
          "output_type": "stream",
          "text": [
            "['my', 'first', 'HP12C', 'in', 'about', '1984', 'or', 'so', 'and', 'it', 'served', 'me', 'faithfully', 'until', '2002', 'when', 'lost', 'it', 'while', 'travelling', 'searched', 'for', 'another', 'one', 'to', 'replace', 'it', 'found', 'one', 'difficult', 'to', 'come', 'in', 'my', 'area', 'So', 'decided', 'to', 'up', 'and', 'purchased', 'an', 'HP', '49G', 'What', 'mistake', 'know', 'that', 'many', 'people', 'view', 'the', 'HP', '49G', 'now', '49G', 'as', 'the', 'flagship', 'of', 'the', 'HP', 'line', 'for', 'me', 'that', 'was', 'disasterThe', '49G', 'may', 'powerful', 'using', 'it', 'is', 'extremely', 'counterintuitiveand', 'the', 'manual', 'was', 'sketchy', 'at', 'The', '12C', 'on', 'the', 'other', 'hand', 'does', 'what', 'need', 'in', 'way', 'that', 'makes', 'good', 'sense', 'to', 'meIf', 'you', 'are', 'looking', 'for', 'solid', 'reliable', 'calculator', 'the', 'HP12C', 'may', 'for', 'you', 'Its', 'programmable', 'It', 'does', 'statistics', 'well', 'and', 'many', 'applications', 'too', 'The', 'manual', 'makes', 'sense', 'you', 'will', 'up', 'and', 'running', 'in', 'short', 'orderIm', 'ready', 'to', 'set', 'my', '49G', 'aside', 'and', 'move', 'to', 'my', 'old', 'friend', 'didnt', 'even', 'have', 'to', 'replace', 'the', 'in', 'well', 'over', 'decade', 'of', 'useHP', '12C', 'Im', 'coming', 'home']\n"
          ],
          "name": "stdout"
        }
      ]
    },
    {
      "cell_type": "code",
      "metadata": {
        "id": "jbWoO28X7bEl",
        "colab_type": "code",
        "outputId": "52a52076-c84d-4566-f334-7ff534453edf",
        "colab": {
          "base_uri": "https://localhost:8080/",
          "height": 54
        }
      },
      "source": [
        "notEnd_g = re.findall(r'\\b\\w+[^g]\\b', str(list1), re.IGNORECASE)   ## creating a list of words that do not end with 'g' or 'G'\n",
        "print(notEnd_g)"
      ],
      "execution_count": 8,
      "outputs": [
        {
          "output_type": "stream",
          "text": [
            "['bought', 'my', 'first', 'HP12C', 'in', 'about', '1984', 'or', 'so', 'and', 'it', 'served', 'me', 'faithfully', 'until', '2002', 'when', 'lost', 'it', 'while', 'searched', 'for', 'another', 'one', 'to', 'replace', 'it', 'but', 'found', 'one', 'difficult', 'to', 'come', 'by', 'in', 'my', 'area', 'So', 'decided', 'to', 'buy', 'up', 'and', 'purchased', 'an', 'HP', 'What', 'mistake', 'know', 'that', 'many', 'people', 'view', 'the', 'HP', 'now', 'as', 'the', 'flagship', 'of', 'the', 'HP', 'line', 'but', 'for', 'me', 'that', 'was', 'disasterThe', 'may', 'be', 'powerful', 'but', 'it', 'is', 'extremely', 'counterintuitiveand', 'the', 'manual', 'was', 'sketchy', 'at', 'best', 'The', '12C', 'on', 'the', 'other', 'hand', 'does', 'what', 'need', 'in', 'way', 'that', 'makes', 'good', 'sense', 'to', 'meIf', 'you', 'are', 'for', 'solid', 'reliable', 'calculator', 'the', 'HP12C', 'may', 'be', 'for', 'you', 'Its', 'programmable', 'It', 'does', 'basic', 'statistics', 'well', 'and', 'many', 'business', 'applications', 'too', 'The', 'manual', 'makes', 'sense', 'you', 'will', 'be', 'up', 'and', 'in', 'short', 'orderIm', 'ready', 'to', 'set', 'my', 'aside', 'and', 'move', 'back', 'to', 'my', 'old', 'friend', 'didnt', 'even', 'have', 'to', 'replace', 'the', 'batteries', 'in', 'well', 'over', 'decade', 'of', 'useHP', '12C', 'Im', 'home']\n"
          ],
          "name": "stdout"
        }
      ]
    },
    {
      "cell_type": "code",
      "metadata": {
        "id": "PzIxBxqRAW2s",
        "colab_type": "code",
        "colab": {
          "base_uri": "https://localhost:8080/",
          "height": 54
        },
        "outputId": "b308c305-6fe5-4f58-d1e5-9a4c707a1cca"
      },
      "source": [
        "## creating a list of words that neither start with 'b' or 'B' nor end with 'g' or 'G'\n",
        "nswB_newG = re.findall(r'\\b[^b]\\w+[^g]\\b', str(list1), re.IGNORECASE)\n",
        "print(nswB_newG)"
      ],
      "execution_count": 9,
      "outputs": [
        {
          "output_type": "stream",
          "text": [
            "['first', 'HP12C', 'about', '1984', 'and', 'served', 'faithfully', 'until', '2002', 'when', 'lost', 'while', 'searched', 'for', 'another', 'one', 'replace', 'found', 'one', 'difficult', 'come', 'area', 'decided', 'and', 'purchased', 'What', 'mistake', 'know', 'that', 'many', 'people', 'view', 'the', 'now', 'the', 'flagship', 'the', 'line', 'for', 'that', 'was', 'disasterThe', 'may', 'powerful', 'extremely', 'counterintuitiveand', 'the', 'manual', 'was', 'sketchy', 'The', '12C', 'the', 'other', 'hand', 'does', 'what', 'need', 'way', 'that', 'makes', 'good', 'sense', 'meIf', 'you', 'are', 'for', 'solid', 'reliable', 'calculator', 'the', 'HP12C', 'may', 'for', 'you', 'Its', 'programmable', 'does', 'statistics', 'well', 'and', 'many', 'applications', 'too', 'The', 'manual', 'makes', 'sense', 'you', 'will', 'and', 'short', 'orderIm', 'ready', 'set', 'aside', 'and', 'move', 'old', 'friend', 'didnt', 'even', 'have', 'replace', 'the', 'well', 'over', 'decade', 'useHP', '12C', 'home']\n"
          ],
          "name": "stdout"
        }
      ]
    },
    {
      "cell_type": "markdown",
      "metadata": {
        "id": "c_vJ9afDGbX6",
        "colab_type": "text"
      },
      "source": [
        "For the entire column"
      ]
    },
    {
      "cell_type": "code",
      "metadata": {
        "id": "xxP-xJP7BLKz",
        "colab_type": "code",
        "colab": {}
      },
      "source": [
        "# Function that returns a list of words that neither start with 'b' (or 'B') nor end with 'g' (or 'G') in the given string\n",
        "def nstB_nendG(str1):\n",
        "  notb_g = []\n",
        "  list1 = re.findall(r'\\b[^ ]\\w+\\b', str1)   ## eliminating words that begin with ' '\n",
        "  notb_g = re.findall(r'\\b[^b]\\w+[^g]\\b', str(list1), re.IGNORECASE)  ## creating a list of words that neither start with 'b' or 'B' nor end with 'g' or 'G'\n",
        "  return notb_g"
      ],
      "execution_count": 0,
      "outputs": []
    },
    {
      "cell_type": "code",
      "metadata": {
        "id": "ASFy2VNrBeC7",
        "colab_type": "code",
        "outputId": "788687ce-ec91-4d0d-fd7b-2c1fbe50ae4e",
        "colab": {
          "base_uri": "https://localhost:8080/",
          "height": 578
        }
      },
      "source": [
        "## For column \"reviewText\"\n",
        "nb_ngRevTxt = noPunc_reviewText.apply(nstB_nendG)\n",
        "df.insert(5, 'WordsNotStartingWith_B_OrEndingWith_G_', nb_ngRevTxt)\n",
        "df.head()"
      ],
      "execution_count": 11,
      "outputs": [
        {
          "output_type": "execute_result",
          "data": {
            "text/html": [
              "<div>\n",
              "<style scoped>\n",
              "    .dataframe tbody tr th:only-of-type {\n",
              "        vertical-align: middle;\n",
              "    }\n",
              "\n",
              "    .dataframe tbody tr th {\n",
              "        vertical-align: top;\n",
              "    }\n",
              "\n",
              "    .dataframe thead th {\n",
              "        text-align: right;\n",
              "    }\n",
              "</style>\n",
              "<table border=\"1\" class=\"dataframe\">\n",
              "  <thead>\n",
              "    <tr style=\"text-align: right;\">\n",
              "      <th></th>\n",
              "      <th>reviewerID</th>\n",
              "      <th>asin</th>\n",
              "      <th>reviewerName</th>\n",
              "      <th>helpful</th>\n",
              "      <th>reviewText</th>\n",
              "      <th>WordsNotStartingWith_B_OrEndingWith_G_</th>\n",
              "      <th>overall</th>\n",
              "      <th>summary</th>\n",
              "      <th>unixReviewTime</th>\n",
              "      <th>reviewTime</th>\n",
              "    </tr>\n",
              "  </thead>\n",
              "  <tbody>\n",
              "    <tr>\n",
              "      <th>0</th>\n",
              "      <td>A32T2H8150OJLU</td>\n",
              "      <td>B00000JBLH</td>\n",
              "      <td>ARH</td>\n",
              "      <td>[3, 4]</td>\n",
              "      <td>I bought my first HP12C in about 1984 or so, a...</td>\n",
              "      <td>[first, HP12C, about, 1984, and, served, faith...</td>\n",
              "      <td>5</td>\n",
              "      <td>A solid performer, and long time friend</td>\n",
              "      <td>1094169600</td>\n",
              "      <td>09 3, 2004</td>\n",
              "    </tr>\n",
              "    <tr>\n",
              "      <th>1</th>\n",
              "      <td>A3MAFS04ZABRGO</td>\n",
              "      <td>B00000JBLH</td>\n",
              "      <td>Let it Be \"Alan\"</td>\n",
              "      <td>[7, 9]</td>\n",
              "      <td>WHY THIS BELATED REVIEW? I feel very obliged t...</td>\n",
              "      <td>[WHY, THIS, REVIEW, feel, very, obliged, share...</td>\n",
              "      <td>5</td>\n",
              "      <td>Price of GOLD is up, so don't bury the golden ...</td>\n",
              "      <td>1197676800</td>\n",
              "      <td>12 15, 2007</td>\n",
              "    </tr>\n",
              "    <tr>\n",
              "      <th>2</th>\n",
              "      <td>A1F1A0QQP2XVH5</td>\n",
              "      <td>B00000JBLH</td>\n",
              "      <td>Mark B</td>\n",
              "      <td>[3, 3]</td>\n",
              "      <td>I have an HP 48GX that has been kicking for mo...</td>\n",
              "      <td>[have, 48GX, that, has, for, more, than, twent...</td>\n",
              "      <td>2</td>\n",
              "      <td>Good functionality, but not durable like old HPs</td>\n",
              "      <td>1293840000</td>\n",
              "      <td>01 1, 2011</td>\n",
              "    </tr>\n",
              "    <tr>\n",
              "      <th>3</th>\n",
              "      <td>A49R5DBXXQDE5</td>\n",
              "      <td>B00000JBLH</td>\n",
              "      <td>R. D Johnson</td>\n",
              "      <td>[7, 8]</td>\n",
              "      <td>I've started doing more finance stuff recently...</td>\n",
              "      <td>[Ive, started, more, finance, stuff, recently,...</td>\n",
              "      <td>5</td>\n",
              "      <td>One of the last of an almost extinct species</td>\n",
              "      <td>1145404800</td>\n",
              "      <td>04 19, 2006</td>\n",
              "    </tr>\n",
              "    <tr>\n",
              "      <th>4</th>\n",
              "      <td>A2XRMQA6PJ5ZJ8</td>\n",
              "      <td>B00000JBLH</td>\n",
              "      <td>Roger J. Buffington</td>\n",
              "      <td>[0, 0]</td>\n",
              "      <td>For simple calculations and discounted cash fl...</td>\n",
              "      <td>[For, simple, calculations, and, discounted, c...</td>\n",
              "      <td>5</td>\n",
              "      <td>Still the best</td>\n",
              "      <td>1375574400</td>\n",
              "      <td>08 4, 2013</td>\n",
              "    </tr>\n",
              "  </tbody>\n",
              "</table>\n",
              "</div>"
            ],
            "text/plain": [
              "       reviewerID        asin  ... unixReviewTime   reviewTime\n",
              "0  A32T2H8150OJLU  B00000JBLH  ...     1094169600   09 3, 2004\n",
              "1  A3MAFS04ZABRGO  B00000JBLH  ...     1197676800  12 15, 2007\n",
              "2  A1F1A0QQP2XVH5  B00000JBLH  ...     1293840000   01 1, 2011\n",
              "3   A49R5DBXXQDE5  B00000JBLH  ...     1145404800  04 19, 2006\n",
              "4  A2XRMQA6PJ5ZJ8  B00000JBLH  ...     1375574400   08 4, 2013\n",
              "\n",
              "[5 rows x 10 columns]"
            ]
          },
          "metadata": {
            "tags": []
          },
          "execution_count": 11
        }
      ]
    },
    {
      "cell_type": "code",
      "metadata": {
        "id": "fWOIwf3SKM6D",
        "colab_type": "code",
        "colab": {
          "base_uri": "https://localhost:8080/",
          "height": 578
        },
        "outputId": "eb59e8ec-816b-4458-c5f8-37fe7b4a51c3"
      },
      "source": [
        "## For column \"Summary\"\n",
        "nb_ngSumm = noPunc_summary.apply(nstB_nendG)\n",
        "df.insert(8, 'WordsNotStartingWith_B_OrEndingWith_G_Summary', nb_ngSumm)\n",
        "df.head()"
      ],
      "execution_count": 12,
      "outputs": [
        {
          "output_type": "execute_result",
          "data": {
            "text/html": [
              "<div>\n",
              "<style scoped>\n",
              "    .dataframe tbody tr th:only-of-type {\n",
              "        vertical-align: middle;\n",
              "    }\n",
              "\n",
              "    .dataframe tbody tr th {\n",
              "        vertical-align: top;\n",
              "    }\n",
              "\n",
              "    .dataframe thead th {\n",
              "        text-align: right;\n",
              "    }\n",
              "</style>\n",
              "<table border=\"1\" class=\"dataframe\">\n",
              "  <thead>\n",
              "    <tr style=\"text-align: right;\">\n",
              "      <th></th>\n",
              "      <th>reviewerID</th>\n",
              "      <th>asin</th>\n",
              "      <th>reviewerName</th>\n",
              "      <th>helpful</th>\n",
              "      <th>reviewText</th>\n",
              "      <th>WordsNotStartingWith_B_OrEndingWith_G_</th>\n",
              "      <th>overall</th>\n",
              "      <th>summary</th>\n",
              "      <th>WordsNotStartingWith_B_OrEndingWith_G_Summary</th>\n",
              "      <th>unixReviewTime</th>\n",
              "      <th>reviewTime</th>\n",
              "    </tr>\n",
              "  </thead>\n",
              "  <tbody>\n",
              "    <tr>\n",
              "      <th>0</th>\n",
              "      <td>A32T2H8150OJLU</td>\n",
              "      <td>B00000JBLH</td>\n",
              "      <td>ARH</td>\n",
              "      <td>[3, 4]</td>\n",
              "      <td>I bought my first HP12C in about 1984 or so, a...</td>\n",
              "      <td>[first, HP12C, about, 1984, and, served, faith...</td>\n",
              "      <td>5</td>\n",
              "      <td>A solid performer, and long time friend</td>\n",
              "      <td>[solid, performer, and, time, friend]</td>\n",
              "      <td>1094169600</td>\n",
              "      <td>09 3, 2004</td>\n",
              "    </tr>\n",
              "    <tr>\n",
              "      <th>1</th>\n",
              "      <td>A3MAFS04ZABRGO</td>\n",
              "      <td>B00000JBLH</td>\n",
              "      <td>Let it Be \"Alan\"</td>\n",
              "      <td>[7, 9]</td>\n",
              "      <td>WHY THIS BELATED REVIEW? I feel very obliged t...</td>\n",
              "      <td>[WHY, THIS, REVIEW, feel, very, obliged, share...</td>\n",
              "      <td>5</td>\n",
              "      <td>Price of GOLD is up, so don't bury the golden ...</td>\n",
              "      <td>[Price, GOLD, dont, the, golden, flagship, HP12c]</td>\n",
              "      <td>1197676800</td>\n",
              "      <td>12 15, 2007</td>\n",
              "    </tr>\n",
              "    <tr>\n",
              "      <th>2</th>\n",
              "      <td>A1F1A0QQP2XVH5</td>\n",
              "      <td>B00000JBLH</td>\n",
              "      <td>Mark B</td>\n",
              "      <td>[3, 3]</td>\n",
              "      <td>I have an HP 48GX that has been kicking for mo...</td>\n",
              "      <td>[have, 48GX, that, has, for, more, than, twent...</td>\n",
              "      <td>2</td>\n",
              "      <td>Good functionality, but not durable like old HPs</td>\n",
              "      <td>[Good, functionality, not, durable, like, old,...</td>\n",
              "      <td>1293840000</td>\n",
              "      <td>01 1, 2011</td>\n",
              "    </tr>\n",
              "    <tr>\n",
              "      <th>3</th>\n",
              "      <td>A49R5DBXXQDE5</td>\n",
              "      <td>B00000JBLH</td>\n",
              "      <td>R. D Johnson</td>\n",
              "      <td>[7, 8]</td>\n",
              "      <td>I've started doing more finance stuff recently...</td>\n",
              "      <td>[Ive, started, more, finance, stuff, recently,...</td>\n",
              "      <td>5</td>\n",
              "      <td>One of the last of an almost extinct species</td>\n",
              "      <td>[One, the, last, almost, extinct, species]</td>\n",
              "      <td>1145404800</td>\n",
              "      <td>04 19, 2006</td>\n",
              "    </tr>\n",
              "    <tr>\n",
              "      <th>4</th>\n",
              "      <td>A2XRMQA6PJ5ZJ8</td>\n",
              "      <td>B00000JBLH</td>\n",
              "      <td>Roger J. Buffington</td>\n",
              "      <td>[0, 0]</td>\n",
              "      <td>For simple calculations and discounted cash fl...</td>\n",
              "      <td>[For, simple, calculations, and, discounted, c...</td>\n",
              "      <td>5</td>\n",
              "      <td>Still the best</td>\n",
              "      <td>[Still, the]</td>\n",
              "      <td>1375574400</td>\n",
              "      <td>08 4, 2013</td>\n",
              "    </tr>\n",
              "  </tbody>\n",
              "</table>\n",
              "</div>"
            ],
            "text/plain": [
              "       reviewerID        asin  ... unixReviewTime   reviewTime\n",
              "0  A32T2H8150OJLU  B00000JBLH  ...     1094169600   09 3, 2004\n",
              "1  A3MAFS04ZABRGO  B00000JBLH  ...     1197676800  12 15, 2007\n",
              "2  A1F1A0QQP2XVH5  B00000JBLH  ...     1293840000   01 1, 2011\n",
              "3   A49R5DBXXQDE5  B00000JBLH  ...     1145404800  04 19, 2006\n",
              "4  A2XRMQA6PJ5ZJ8  B00000JBLH  ...     1375574400   08 4, 2013\n",
              "\n",
              "[5 rows x 11 columns]"
            ]
          },
          "metadata": {
            "tags": []
          },
          "execution_count": 12
        }
      ]
    }
  ]
}