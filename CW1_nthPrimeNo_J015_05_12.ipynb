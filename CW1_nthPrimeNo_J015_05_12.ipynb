{
  "nbformat": 4,
  "nbformat_minor": 0,
  "metadata": {
    "colab": {
      "name": "CW1_nthPrimeNo_J015_05/12.ipynb",
      "provenance": [],
      "include_colab_link": true
    },
    "kernelspec": {
      "name": "python3",
      "display_name": "Python 3"
    }
  },
  "cells": [
    {
      "cell_type": "markdown",
      "metadata": {
        "id": "view-in-github",
        "colab_type": "text"
      },
      "source": [
        "<a href=\"https://colab.research.google.com/github/SakshiGehani/J015_NLPassignments/blob/ClassWork/CW1_nthPrimeNo_J015_05_12.ipynb\" target=\"_parent\"><img src=\"https://colab.research.google.com/assets/colab-badge.svg\" alt=\"Open In Colab\"/></a>"
      ]
    },
    {
      "cell_type": "markdown",
      "metadata": {
        "id": "IIEWFRhfyQs9",
        "colab_type": "text"
      },
      "source": [
        "Class assignment 1 -- 'nth' Prime Number"
      ]
    },
    {
      "cell_type": "code",
      "metadata": {
        "id": "xlf3CG9mR7R7",
        "colab_type": "code",
        "colab": {}
      },
      "source": [
        "# importing library\n",
        "import math"
      ],
      "execution_count": 0,
      "outputs": []
    },
    {
      "cell_type": "code",
      "metadata": {
        "id": "iNytEIJlSY-m",
        "colab_type": "code",
        "colab": {}
      },
      "source": [
        "## Function to find the nth prime no.\n",
        "\n",
        "def nth_prime_no (n):\n",
        "  if n==1 :\n",
        "    return 2\n",
        "  count = 1\n",
        "  a = 1\n",
        "\n",
        "  while(count < n):\n",
        "    a += 2\n",
        "    if isPrime(a):\n",
        "      count += 1\n",
        "  \n",
        "  return a   "
      ],
      "execution_count": 0,
      "outputs": []
    },
    {
      "cell_type": "code",
      "metadata": {
        "id": "yim_xvwhUcz7",
        "colab_type": "code",
        "colab": {}
      },
      "source": [
        "## Function to check if a number is prime or not\n",
        "def isPrime(num):\n",
        "  for i in range (2,num//2):\n",
        "    if (num % i == 0):\n",
        "      return False\n",
        "  return True"
      ],
      "execution_count": 0,
      "outputs": []
    },
    {
      "cell_type": "code",
      "metadata": {
        "id": "ydSYKeCiVJZk",
        "colab_type": "code",
        "colab": {
          "base_uri": "https://localhost:8080/",
          "height": 35
        },
        "outputId": "46fb6ce4-ad99-4027-d7e5-687a3abba6e2"
      },
      "source": [
        "# Get output for n=4\n",
        "nth_prime_no(4)"
      ],
      "execution_count": 4,
      "outputs": [
        {
          "output_type": "execute_result",
          "data": {
            "text/plain": [
              "7"
            ]
          },
          "metadata": {
            "tags": []
          },
          "execution_count": 4
        }
      ]
    }
  ]
}